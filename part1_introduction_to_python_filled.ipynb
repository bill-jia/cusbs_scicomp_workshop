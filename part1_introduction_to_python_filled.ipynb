{
 "cells": [
  {
   "cell_type": "markdown",
   "metadata": {},
   "source": [
    "<i> Prepared by Bill Jia, Ilya Manyakin, and Andre Zylstra </i>"
   ]
  },
  {
   "cell_type": "code",
   "execution_count": 43,
   "metadata": {},
   "outputs": [
    {
     "name": "stdout",
     "output_type": "stream",
     "text": [
      "CUSBS Python Introduction!\n"
     ]
    }
   ],
   "source": [
    "print(\"CUSBS Python Introduction!\")"
   ]
  },
  {
   "cell_type": "markdown",
   "metadata": {
    "raw_mimetype": "text/markdown"
   },
   "source": [
    "## What we will cover\n",
    "* What is Python\n",
    "    * Versions\n",
    "    * Installation\n",
    "    * Jupyter Notebook\n",
    "* Problem Statement\n",
    "* Python Fundamentals\n",
    "    * Variables and datatypes\n",
    "    * Functions\n",
    "    * Lists\n",
    "    * If-else statements\n",
    "    * Loops\n",
    "* Libraries and Plotting\n",
    "    * Numpy\n",
    "    * Scipy\n",
    "    * Matplotlib\n",
    "* Putting things together\n",
    "        \n",
    "\n",
    "## What is Python\n",
    "\n",
    "* Interpreted, dynamically typed modern high-level language designed with readability and ease of use in mind. \n",
    "* Supports both procedural, functional and object-oriented\n",
    "* Can interface to other languages like C (see: \"ctypes\") if fast execution of code is required\n",
    "* Becoming common in scientific computing - many libraries are open source (*cough* matlab *cough*), easy to share code (github).\n",
    "\n",
    "### Versions\n",
    "\n",
    "Python has two versions that are similar but slightly different:\n",
    "* Python 2 - legacy version of python, primarily maintained for backwards compatibility (computer systems are brittle and tend to break when new updates are released)\n",
    "* Python 3 - newer version which this notebook is written in\n",
    "\n",
    "For anything we will be doing - it doesn't really matter which version you use, it's possible to rewrite in either case, but lets stick to 3. Run the below code to check which version of Python you're on."
   ]
  },
  {
   "cell_type": "code",
   "execution_count": 18,
   "metadata": {},
   "outputs": [
    {
     "name": "stdout",
     "output_type": "stream",
     "text": [
      "3.5.4 |Anaconda, Inc.| (default, Sep 19 2017, 08:15:17) [MSC v.1900 64 bit (AMD64)]\n"
     ]
    }
   ],
   "source": [
    "import sys\n",
    "print(sys.version)"
   ]
  },
  {
   "cell_type": "markdown",
   "metadata": {},
   "source": [
    "### Installation\n",
    "\n",
    "We recommend that you install a Linux distribution for programming because it makes it easiest to install and software on your machine. The easiest and most commonly used Linux is Ubuntu: https://www.ubuntu.com/.\n",
    "\n",
    "Python should come preinstalled on Ubuntu distribution. To check that you have python 3 installed \n",
    "\n",
    "```sh\n",
    "python3 --version\n",
    "```\n",
    "\n",
    "* dollar sign \\$ added just to indicate that this is a Linux command line  terminal\n",
    "* You may also like to configure the bash environment alias \"python\" to point to the python3 interpreter\n",
    "\n",
    "To simplify installing libraries (code others have written) for python install pythons package management tool: pip\n",
    "\n",
    "```sh\n",
    "sudo apt-get install python3-pip\n",
    "```\n",
    "\n",
    "To install a package like numpy (NumericPython) with pip:\n",
    "```sh\n",
    "sudo pip install numpy\n",
    "```\n",
    "\n",
    "Pip will then get to work and automatically install the packages that that are required for numpy and then numpy itself. Will will cover this later.\n",
    "\n",
    "[Alternatively]\n",
    "\n",
    "Install a distribution of Anaconda (https://anaconda.org/). This is a distribution of Python designed for scientific computing - it comes with a lot of packages like Numpy and Scipy preinstalled, and uses a different package manager called `conda` that is pretty similar to `pip`. However, `conda` is more thorough in making sure that all of your packages are compatible with each other (some packages depend on different versions of the other). It also includes a built-in environment manager, that lets you decide which packages are going to be accessible in a particular folder and even whether you use Python 2 or 3!"
   ]
  },
  {
   "cell_type": "markdown",
   "metadata": {},
   "source": [
    "### Jupyter Notebook\n",
    "\n",
    "Here we are working in Jupyter Notebook, a Python environment that's geared towards education and the natural sciences. It allows you to create boxes containing isolated segments of text (formatted using Markdown) or code, which can be compiled and ran individually. Any graphics that Python produces can be routed directly to the notebook, making it easy to both analyze and present your results.\n",
    "\n",
    "All you have to do to edit a box is click on it (your current box will be highlighted in green). To run the code inside a box, hit CTRL+ENTER, or hit SHIFT+ENTER if you would also like to move to the next box. (Note that these shortcuts are for Windows and Linux) To see a full list of keyboard commands, click the keyboard symbol at the right end of the floating toolbar."
   ]
  },
  {
   "cell_type": "markdown",
   "metadata": {},
   "source": [
    "## Problem Statement\n",
    "\n",
    "Most reactions in biological systems are catalyzed by enzymes. The rates at which these reactions proceed allow us to predict both dynamics and steady-state behaviour. Suppose an enzymatic reaction can be described by the following equation:"
   ]
  },
  {
   "cell_type": "markdown",
   "metadata": {},
   "source": [
    "$$\n",
    "S + E \\leftrightarrow SE \\to P\n",
    "$$"
   ]
  },
  {
   "cell_type": "markdown",
   "metadata": {},
   "source": [
    "Since the enzyme binds far more strongly to the substrate than the product, we can assume that the second step is a one-way reaction with a much higher rate than the first and that the rate of the process is just dependent on the substrate and enzyme concentrations. The equation of the reaction rate can then be described with just [S] and constants $V_{max}$ (the maximum speed at saturation of the enzyme, which is dependent on enzyme properties and concentration), and $K_{m}$ (a constant describing binding affinity). (Proof at https://depts.washington.edu/wmatkins/kinetics/michaelis-menten.html)"
   ]
  },
  {
   "cell_type": "markdown",
   "metadata": {},
   "source": [
    "$$\n",
    "\\frac{\\mathrm{d[P]}}{\\mathrm{d}t} = \\frac{V_{max}\\mathrm{[S]}}{K_m + \\mathrm{[S]}}\n",
    "$$"
   ]
  },
  {
   "cell_type": "markdown",
   "metadata": {},
   "source": [
    "We're interested in figuring out how the product and substrate concentrations change over time, and whether they might reach a steady state. However, in this case and many others in biology, it's a lot easier to express the rates of change than it is to solve for the actual quantities that we're interested in. We can't integrate the Michaelis-Menten equation with methods you might have learned at A-Level because the <b>substrate concentration</b> is also a function of the same rate over time, and standard methods for solving differential equations would get messy quickly. We need a better solution, but it doesn't have to be <i>perfectly</i> accurate, especially given how noisy biology can be."
   ]
  },
  {
   "cell_type": "markdown",
   "metadata": {},
   "source": [
    "We can take a numerical approach to estimating the product and substrate concentration. Since we know the rate given a concentration, we can estimate the concentration at the next time step using the known rate at the current time step. From the definition of a derivative,"
   ]
  },
  {
   "cell_type": "markdown",
   "metadata": {},
   "source": [
    "$$\n",
    "\\frac{dP}{dt} = \\lim_{\\delta t\\to0} \\frac{P(t+\\delta t) - P(t)}{\\delta t} \\\\\n",
    "\\frac{dP}{dt} \\delta t \\approx P(t+\\delta t) - P(t)\\\\\n",
    "P(t+dt) \\approx P(t) + \\delta t\\left.\\frac{dP}{dt}\\right|_t\n",
    "$$"
   ]
  },
  {
   "cell_type": "markdown",
   "metadata": {},
   "source": [
    "So if we know the rate of change of a quantity, we can approximate its progression over time. The smaller the timestep $\\delta t$, the closer it will be to the real solution in continuous time. This would be a lot of work to calculate by hand, which is why we use computers to do it."
   ]
  },
  {
   "cell_type": "markdown",
   "metadata": {},
   "source": [
    "How can we model the substrate and product concentrations of the Michaelis-Menten equation using Python?"
   ]
  },
  {
   "cell_type": "markdown",
   "metadata": {},
   "source": [
    "\n",
    "\n",
    "## Python Fundamentals\n",
    "\n",
    "### Variables and datatypes\n",
    "\n",
    "\n",
    "Python is dynamically typed, meaning that there are no explicit typing constraints on the language. But if you try to add a boolean (True/False) to a String - expect it to fail!"
   ]
  },
  {
   "cell_type": "code",
   "execution_count": 19,
   "metadata": {},
   "outputs": [
    {
     "ename": "TypeError",
     "evalue": "unsupported operand type(s) for +: 'bool' and 'str'",
     "output_type": "error",
     "traceback": [
      "\u001b[1;31m---------------------------------------------------------------------------\u001b[0m",
      "\u001b[1;31mTypeError\u001b[0m                                 Traceback (most recent call last)",
      "\u001b[1;32m<ipython-input-19-39566f5a3bd7>\u001b[0m in \u001b[0;36m<module>\u001b[1;34m()\u001b[0m\n\u001b[1;32m----> 1\u001b[1;33m \u001b[1;32mFalse\u001b[0m \u001b[1;33m+\u001b[0m \u001b[1;34m\"hello\"\u001b[0m\u001b[1;33m\u001b[0m\u001b[0m\n\u001b[0m",
      "\u001b[1;31mTypeError\u001b[0m: unsupported operand type(s) for +: 'bool' and 'str'"
     ]
    }
   ],
   "source": [
    "False + \"hello\""
   ]
  },
  {
   "cell_type": "markdown",
   "metadata": {},
   "source": [
    "#### Numbers \n",
    "Python 3 is clever about the way it handles division, unlike Python 2 the forward slash operator now produces floating point outputs, integer division now specified by '//' operator:"
   ]
  },
  {
   "cell_type": "code",
   "execution_count": 21,
   "metadata": {},
   "outputs": [
    {
     "name": "stdout",
     "output_type": "stream",
     "text": [
      "1.3333333333333333\n",
      "1\n"
     ]
    }
   ],
   "source": [
    "print(4/3)\n",
    "print(4//3)"
   ]
  },
  {
   "cell_type": "markdown",
   "metadata": {},
   "source": [
    "The devil is in the details - remember that a real number in the mathematic sense is not the same as a floating point number as the latter only have a finite number of bits that are used to represent it:"
   ]
  },
  {
   "cell_type": "code",
   "execution_count": 22,
   "metadata": {},
   "outputs": [
    {
     "data": {
      "text/plain": [
       "0.30000000000000004"
      ]
     },
     "execution_count": 22,
     "metadata": {},
     "output_type": "execute_result"
    }
   ],
   "source": [
    "0.1+0.1+0.1"
   ]
  },
  {
   "cell_type": "markdown",
   "metadata": {},
   "source": [
    "In particular this applies to performing comparisons between numbers:"
   ]
  },
  {
   "cell_type": "code",
   "execution_count": 23,
   "metadata": {},
   "outputs": [
    {
     "data": {
      "text/plain": [
       "False"
      ]
     },
     "execution_count": 23,
     "metadata": {},
     "output_type": "execute_result"
    }
   ],
   "source": [
    "0.3==(0.1+0.1+0.1)"
   ]
  },
  {
   "cell_type": "markdown",
   "metadata": {},
   "source": [
    "Instead use a tolerance level (ie. a small numerical value)"
   ]
  },
  {
   "cell_type": "code",
   "execution_count": 24,
   "metadata": {},
   "outputs": [
    {
     "data": {
      "text/plain": [
       "True"
      ]
     },
     "execution_count": 24,
     "metadata": {},
     "output_type": "execute_result"
    }
   ],
   "source": [
    "0.3-(0.1+0.1+0.1)<1e-12"
   ]
  },
  {
   "cell_type": "markdown",
   "metadata": {},
   "source": [
    "#### Variables\n",
    "\n",
    "To be able to manipulate data in a symbolic way - we need to create variables. To do this, we use the asignment operator '=' (not to be confused with the mathematical meaning of equality, which in python is '=='). Basic asignment of variables is:"
   ]
  },
  {
   "cell_type": "code",
   "execution_count": 25,
   "metadata": {},
   "outputs": [
    {
     "name": "stdout",
     "output_type": "stream",
     "text": [
      "4\n",
      "<class 'int'>\n",
      "<class 'float'>\n",
      "<class 'int'>\n",
      "1 1\n"
     ]
    }
   ],
   "source": [
    "x=3 #create an integer\n",
    "print(x+1) \n",
    "print(type(x)) #what is it's type?\n",
    "\n",
    "x=3.0\n",
    "print(type(x)) #what's it's type now?\n",
    "\n",
    "x=y=1\n",
    "print(y,x)"
   ]
  },
  {
   "cell_type": "markdown",
   "metadata": {},
   "source": [
    "#### Exercise"
   ]
  },
  {
   "cell_type": "markdown",
   "metadata": {},
   "source": [
    "Let's define variables to store some of the properties that we need to model the Michaelis-Menten equation. We need:\n",
    "* `dt` that defines the size of the timestep in our numerical estimation. Let's set it to 0.01.\n",
    "* `Km` that defines the Michaelis-Menten constant. Let's set it to 5.\n",
    "* `Vmax` that defines the maximum reaction rate. Let's set it to 5.\n",
    "\n",
    "As a reminder, the relevant equations are:\n",
    "\n",
    "$$\n",
    "\\frac{\\mathrm{d[P]}}{\\mathrm{d}t} = \\frac{V_{max}\\mathrm{[S]}}{K_m + \\mathrm{[S]}} \\\\\n",
    "P(t+dt) \\approx P(t) + \\delta t\\left.\\frac{dP}{dt}\\right|_t\n",
    "$$"
   ]
  },
  {
   "cell_type": "code",
   "execution_count": 1,
   "metadata": {
    "collapsed": true
   },
   "outputs": [],
   "source": [
    "### YOUR CODE HERE\n",
    "dt = 0.01\n",
    "Km = 5\n",
    "Vmax = 5"
   ]
  },
  {
   "cell_type": "markdown",
   "metadata": {},
   "source": [
    "Don't worry about the defining the actual product and substrate concentrations yet. There's a better way of dealing with them."
   ]
  },
  {
   "cell_type": "markdown",
   "metadata": {},
   "source": [
    "### Functions\n",
    "\n",
    "Functions are the bread and butter of programming - allows us to write isolated units of code and reuse them. Python does not require us to specify function input and output types - so it's up to you what you return, but don't get caught out, the compiler won't be able to save you. A Python function requires\n",
    " * A `def` statement indicating that the following lines are a function;\n",
    " * The name of the function that will be referenced when you want to use it;\n",
    " * The parameters taken as inputs (optional);\n",
    " * A return statement (also optional).\n",
    " \n",
    "For example, a function to add two numbers `x` and `y` might look like this:"
   ]
  },
  {
   "cell_type": "code",
   "execution_count": 27,
   "metadata": {
    "collapsed": true
   },
   "outputs": [],
   "source": [
    "def f(x,y):\n",
    "    return x+y"
   ]
  },
  {
   "cell_type": "markdown",
   "metadata": {},
   "source": [
    "Let's try calling this function:"
   ]
  },
  {
   "cell_type": "code",
   "execution_count": 28,
   "metadata": {},
   "outputs": [
    {
     "name": "stdout",
     "output_type": "stream",
     "text": [
      "3\n",
      "3.5\n"
     ]
    }
   ],
   "source": [
    "print(f(1,2))\n",
    "print(f(1.5, 2))"
   ]
  },
  {
   "cell_type": "markdown",
   "metadata": {},
   "source": [
    "Recall that Python is dynamically typed, meaning that we can use this function to add strings, and other data types as well. But be careful about matching data types!"
   ]
  },
  {
   "cell_type": "code",
   "execution_count": 29,
   "metadata": {},
   "outputs": [
    {
     "name": "stdout",
     "output_type": "stream",
     "text": [
      "Hello World!\n"
     ]
    }
   ],
   "source": [
    "print(f(\"Hello \", \"World!\"))"
   ]
  },
  {
   "cell_type": "markdown",
   "metadata": {},
   "source": [
    "You can also set a default value for parameters:"
   ]
  },
  {
   "cell_type": "code",
   "execution_count": 30,
   "metadata": {},
   "outputs": [
    {
     "name": "stdout",
     "output_type": "stream",
     "text": [
      "3.0\n"
     ]
    }
   ],
   "source": [
    "def f2(x,y=2.0):\n",
    "    return x+y\n",
    "\n",
    "print(f2(1))"
   ]
  },
  {
   "cell_type": "markdown",
   "metadata": {},
   "source": [
    "#### Exercise"
   ]
  },
  {
   "cell_type": "markdown",
   "metadata": {},
   "source": [
    "In order to perform numerical estimation, let's write a function that can calculate the term,\n",
    "\n",
    "$$\n",
    "\\frac{dP}{dt}\n",
    "$$\n",
    "\n",
    "If we know the parameters and the concentration of substrate at a given point in time, we can do it directly using the Michaelis-Menten equation. Let's write a function that gives the reaction rate as an output, with substrate concentration, $K_m$, and $V_{max}$ as inputs. As a reminder,\n",
    "\n",
    "$$\n",
    "\\frac{\\mathrm{d[P]}}{\\mathrm{d}t} = \\frac{V_{max}\\mathrm{[S]}}{K_m + \\mathrm{[S]}}\n",
    "$$"
   ]
  },
  {
   "cell_type": "code",
   "execution_count": 2,
   "metadata": {
    "collapsed": true
   },
   "outputs": [],
   "source": [
    "### YOUR CODE HERE\n",
    "\n",
    "def mm_rate(substrate_conc, K_m, Vmax):\n",
    "    rate = Vmax*(substrate_conc)/(K_m + substrate_conc)\n",
    "    return rate"
   ]
  },
  {
   "cell_type": "markdown",
   "metadata": {},
   "source": [
    "### Lists\n",
    "\n",
    "Lists are very fundamental data structures in Python. They act as ordered collections of items, in Python they do not have to have the same type - that is, you can have a single list containing strings, floating point numbers, functions, lists and other more complex data structures."
   ]
  },
  {
   "cell_type": "code",
   "execution_count": 32,
   "metadata": {},
   "outputs": [
    {
     "name": "stdout",
     "output_type": "stream",
     "text": [
      "[1, 2, 3, 4]\n",
      "[0, 1, 2, 3, 4, 5, 6, 7, 8, 9]\n",
      "0\n",
      "new_value\n"
     ]
    }
   ],
   "source": [
    "#manually\n",
    "x = [1,2,3,4]\n",
    "print(x)\n",
    "\n",
    "#using range function\n",
    "# range(start,end,step)\n",
    "x = list(range(0,10))  \n",
    "print(x)\n",
    "\n",
    "#get the value at the start of the list:\n",
    "print(x[0])\n",
    "\n",
    "#assign to an element of list\n",
    "x[1]=\"new_value\"\n",
    "\n",
    "# get the value at an index\n",
    "print(x[1])\n",
    "\n"
   ]
  },
  {
   "cell_type": "markdown",
   "metadata": {},
   "source": [
    "Unlike in many other languages, you can <b>directly access the last element of a list</b> without knowing its length. In applications such as ours, where we need to frequently do this, it makes our code a lot easier to write!"
   ]
  },
  {
   "cell_type": "code",
   "execution_count": 33,
   "metadata": {},
   "outputs": [
    {
     "name": "stdout",
     "output_type": "stream",
     "text": [
      "9\n",
      "7\n",
      "7\n"
     ]
    }
   ],
   "source": [
    "print(x[-1])\n",
    "\n",
    "# The index -1 of a list with length zero is the same as index 0\n",
    "y = [7]\n",
    "print(y[0])\n",
    "print(y[-1])"
   ]
  },
  {
   "cell_type": "markdown",
   "metadata": {},
   "source": [
    "Lists can be defined in relation to other lists by specifying how elements of one may be obtained from the other. This is known as <b>list comprehension</b>):"
   ]
  },
  {
   "cell_type": "code",
   "execution_count": 1,
   "metadata": {},
   "outputs": [
    {
     "name": "stdout",
     "output_type": "stream",
     "text": [
      "[0, 1, 2, 3, 4, 5, 6, 7, 8, 9]\n",
      "[0, 1, 4, 9, 16, 25, 36, 49, 64, 81]\n",
      "[0, 4, 16, 36, 64]\n",
      "[1, 2, 3, 4, 5, 6, 7, 8, 9, 10]\n"
     ]
    }
   ],
   "source": [
    "#define basic list as some range of intger values\n",
    "xs = [i for i in range(0,10)]\n",
    "print(xs)\n",
    "\n",
    "#can generate one list from another by defining how elements in ys are related to elements in xs\n",
    "ys = [x**2 for x in xs]\n",
    "print(ys)\n",
    "\n",
    "#can filter elements of one list to create another - this is every similar to set definitions\n",
    "even_ys = [y for y in ys if y%2==0]\n",
    "print(even_ys)\n",
    "\n",
    "#can apply functions to all elements of a list\n",
    "def add_one(val):\n",
    "    return val+1\n",
    "\n",
    "zs = [add_one(x) for x in xs]\n",
    "print(zs)"
   ]
  },
  {
   "cell_type": "markdown",
   "metadata": {},
   "source": [
    "Unlike arrays in some other programming languages, lists can be resized. You can add an element to the end of a list in several ways:"
   ]
  },
  {
   "cell_type": "code",
   "execution_count": 2,
   "metadata": {},
   "outputs": [
    {
     "name": "stdout",
     "output_type": "stream",
     "text": [
      "[0, 1, 2, 3, 4]\n",
      "[0, 1, 2, 3, 4, 5]\n",
      "[0, 1, 2, 3, 4]\n",
      "[0, 1, 2, 3, 4, 5]\n"
     ]
    }
   ],
   "source": [
    "x1s = [i for i in range(0,5)]\n",
    "x2 = 5\n",
    "print(x1s)\n",
    "\n",
    "#add using operator overloading\n",
    "print(x1s + [x2])\n",
    "print(x1s)\n",
    "\n",
    "#add using member function of list object\n",
    "x1s.append(x2)\n",
    "print(x1s)"
   ]
  },
  {
   "cell_type": "markdown",
   "metadata": {},
   "source": [
    "Note that adding two lists together creates a new variable in memory, while using the `append` function of a list modifies the existing variable. This is important for two reasons:\n",
    "\n",
    "1. If you want to keep your old list, the first method is useful.\n",
    "2. You can't modify your list in a function using the first method.\n",
    "\n",
    "Let's demonstrate the second point:"
   ]
  },
  {
   "cell_type": "code",
   "execution_count": 36,
   "metadata": {},
   "outputs": [
    {
     "name": "stdout",
     "output_type": "stream",
     "text": [
      "[0, 1, 2, 3, 4]\n",
      "[0, 1, 2, 3, 4, 5]\n"
     ]
    },
    {
     "ename": "NameError",
     "evalue": "name 'list_input' is not defined",
     "output_type": "error",
     "traceback": [
      "\u001b[1;31m---------------------------------------------------------------------------\u001b[0m",
      "\u001b[1;31mNameError\u001b[0m                                 Traceback (most recent call last)",
      "\u001b[1;32m<ipython-input-36-4bde758a5882>\u001b[0m in \u001b[0;36m<module>\u001b[1;34m()\u001b[0m\n\u001b[0;32m     11\u001b[0m \u001b[0mf2\u001b[0m\u001b[1;33m(\u001b[0m\u001b[0mx1s\u001b[0m\u001b[1;33m)\u001b[0m\u001b[1;33m\u001b[0m\u001b[0m\n\u001b[0;32m     12\u001b[0m \u001b[0mprint\u001b[0m\u001b[1;33m(\u001b[0m\u001b[0mx1s\u001b[0m\u001b[1;33m)\u001b[0m\u001b[1;33m\u001b[0m\u001b[0m\n\u001b[1;32m---> 13\u001b[1;33m \u001b[0mprint\u001b[0m\u001b[1;33m(\u001b[0m\u001b[0mlist_input\u001b[0m\u001b[1;33m)\u001b[0m\u001b[1;33m\u001b[0m\u001b[0m\n\u001b[0m",
      "\u001b[1;31mNameError\u001b[0m: name 'list_input' is not defined"
     ]
    }
   ],
   "source": [
    "x1s = [i for i in range(0,5)]\n",
    "\n",
    "def f1(list_input):\n",
    "    list_input = list_input + [5]\n",
    "    \n",
    "def f2(list_input):\n",
    "    list_input.append(5)\n",
    "    \n",
    "f1(x1s)\n",
    "print(x1s)\n",
    "f2(x1s)\n",
    "print(x1s)\n",
    "print(list_input)"
   ]
  },
  {
   "cell_type": "markdown",
   "metadata": {},
   "source": [
    "In the first function, we've assigned our input list to the internal variable `list_input`, which only exists inside the function. But the body of the function simply reassigns the <b>local variable</b> specified by the input to the new list created by the addition of the input and the additional value. When the function finishes executing, the reference to `list_input` disappears. Since our new construct is not referenced anywhere else, it is erased from memory to save space. Note that `x1s` still exists because it has a reference outside the function.\n",
    "\n",
    "In the second function, we've instructed the object referenced by `list_input`, in this case our list of numbers, to do something to itself. Although the reference to `list_input` disappears, the object is still there because it was defined outside the function and still has a reference, and the additional value is successfully appended.\n",
    "\n",
    "To understand the idea of a local variable within a function, observe what happens when we try to print `list_input` after executing the two functions. It gives an error saying that 'list_input' is not defined! This means exactly what it says - the variable was only defined inside the functions, so it does not exist to anything outside the `def` statements. Note that defining the inputs of a function simply creates local variables that are assigned to values given when the function is called."
   ]
  },
  {
   "cell_type": "markdown",
   "metadata": {},
   "source": [
    "#### Exercise"
   ]
  },
  {
   "cell_type": "markdown",
   "metadata": {},
   "source": [
    "Lists will be useful for us to store the rate of the reaction, and the concentrations of product and substrate, at each time point. They provide a <b>systematic way</b> of keeping all these values <b>in one place</b> so we can plot or analyze them later, and allow us to run our program for arbitrary time lengths <b>without defining new variables</b>. Let's define some lists:\n",
    "\n",
    "* `substrate`, for the substrate concentration, with a value at time 0 of 10.\n",
    "* `product`, for the product concentration, with a value at time 0 of 0.\n",
    "* `rate`, for the Michaelis Menten rate. Leave this list empty, as we need to calculate the rate using the substrate concentration."
   ]
  },
  {
   "cell_type": "code",
   "execution_count": 3,
   "metadata": {
    "collapsed": true
   },
   "outputs": [],
   "source": [
    "### YOUR CODE HERE\n",
    "\n",
    "substrate_conc = [10]\n",
    "product_conc = [0]\n",
    "rate = []"
   ]
  },
  {
   "cell_type": "markdown",
   "metadata": {},
   "source": [
    "### If-else statements"
   ]
  },
  {
   "cell_type": "markdown",
   "metadata": {},
   "source": [
    "Although they won't be necessary in this workshop, if-else statements are a useful part of any programming language for creating more complex behaviour. In computational biology, you will typically use them for <b>classification</b> of data or for producing behaviour in <b>edge cases</b>."
   ]
  },
  {
   "cell_type": "code",
   "execution_count": 38,
   "metadata": {},
   "outputs": [
    {
     "name": "stdout",
     "output_type": "stream",
     "text": [
      "0 IS EVEN\n",
      "1 IS ODD\n",
      "2 IS EVEN\n",
      "3 IS DIVISIBLE BY 3\n",
      "4 IS EVEN\n"
     ]
    }
   ],
   "source": [
    "for i in range(0,5):\n",
    "    if i%2 == 0:\n",
    "        print(i, \"IS EVEN\")\n",
    "    elif i%3 == 0:\n",
    "        print(i, \"IS DIVISIBLE BY 3\")\n",
    "    else:\n",
    "        print(i, \"IS ODD\")"
   ]
  },
  {
   "cell_type": "markdown",
   "metadata": {},
   "source": [
    "### Loops\n",
    "\n",
    "One of the most powerful features of computing is the ability to perform simple actions <b>repeatedly</b> to get a more complicated result. The simplest way to achieve this is with loops. The two most common types of loops are:\n",
    "\n",
    "* `for` - This type of loop lets you iterate through the items in a list or, in general, repeat execution a defined number of times.\n",
    "* `while` - This type of loop repeats an action until a condition is met.\n",
    "\n",
    "Here's how you would add together the numbers from one to ten using each type of loop:"
   ]
  },
  {
   "cell_type": "code",
   "execution_count": 39,
   "metadata": {},
   "outputs": [
    {
     "name": "stdout",
     "output_type": "stream",
     "text": [
      "55\n",
      "55\n"
     ]
    }
   ],
   "source": [
    "result = 0\n",
    "for i in range(1,11):\n",
    "    result = result + i\n",
    "print(result)\n",
    "\n",
    "result = 0\n",
    "i = 1\n",
    "while (i <= 10):\n",
    "    result = result + i\n",
    "    i = i + 1\n",
    "print(result)"
   ]
  },
  {
   "cell_type": "markdown",
   "metadata": {},
   "source": [
    "#### Exercise"
   ]
  },
  {
   "cell_type": "markdown",
   "metadata": {},
   "source": [
    "Now let's generate some values of reaction rate over possible substrate concentrations for our Michaelis-Menten equation. Calculate the reaction rates for the list of substrate concentrations provided, `substrate_concentrations` using a <b>for loop</b>, and store them in the list `rate_substrate`.\n",
    "\n",
    "Hints\n",
    "* Iterate through the list of substrate concentrations provided.\n",
    "* You've already defined a function for calculating reaction rates, called `mm_rate`. Use the constants that you've already saved in your variables.\n",
    "* You know how to add values to the end of a list - either way will work here."
   ]
  },
  {
   "cell_type": "code",
   "execution_count": 40,
   "metadata": {
    "collapsed": true
   },
   "outputs": [],
   "source": [
    "substrate_concentrations = range(0,11)\n",
    "### YOUR CODE HERE\n",
    "rate_substrate = []\n",
    "for substrate_conc in substrate_concentrations:\n",
    "    rate_substrate.append(mm_rate(substrate_conc, Km, Vmax))"
   ]
  },
  {
   "cell_type": "markdown",
   "metadata": {},
   "source": [
    "## Libraries\n",
    "\n",
    "A library is a collection of code that someone else has written that you can use. The open-source nature of Python is a great advantage as for most modules, you can get a copy of the source code and see for yourself what it is doing. This is particularly useful for verifying simulations where even small changes in various parameters and coefficients can be the dividing line between success and failure.\n"
   ]
  },
  {
   "cell_type": "markdown",
   "metadata": {},
   "source": [
    "### Numpy\n",
    "\n",
    "Numpy contains utilities for mathematical operations, such as trigonometry, linear algebra, generation of random numbers. Of particular note is its N-dimensional array object, which is efficient for storage and manipulation."
   ]
  },
  {
   "cell_type": "code",
   "execution_count": 41,
   "metadata": {},
   "outputs": [
    {
     "name": "stdout",
     "output_type": "stream",
     "text": [
      "[[1 2 3]\n",
      " [4 5 6]]\n"
     ]
    }
   ],
   "source": [
    "import numpy as np \n",
    "x = np.array([[1, 2, 3], [4, 5, 6]], np.int32)\n",
    "print(x)"
   ]
  },
  {
   "cell_type": "markdown",
   "metadata": {},
   "source": [
    "Another useful Numpy function is `np.arange`, which is like Python's `range` function, but lets you specify increment size."
   ]
  },
  {
   "cell_type": "code",
   "execution_count": 42,
   "metadata": {},
   "outputs": [
    {
     "name": "stdout",
     "output_type": "stream",
     "text": [
      "[ 0.   0.5  1.   1.5  2.   2.5  3.   3.5  4.   4.5]\n"
     ]
    }
   ],
   "source": [
    "half_step = np.arange(0,5, step = 0.5)\n",
    "print(half_step)"
   ]
  },
  {
   "cell_type": "markdown",
   "metadata": {},
   "source": [
    "## Scipy\n",
    "Scipy is a package that duplicates some of the features of Numpy and has some additional functionality. For example, it includes functions for curve-fitting, optimization, and signal processing. One tool that might be particularly useful for us is integration. Use the quad function for general integration. The two outputs are the value and the error bounds."
   ]
  },
  {
   "cell_type": "code",
   "execution_count": 43,
   "metadata": {},
   "outputs": [
    {
     "name": "stdout",
     "output_type": "stream",
     "text": [
      "(30.375, 3.372302437298913e-13)\n"
     ]
    }
   ],
   "source": [
    "import scipy.integrate as integrate\n",
    "result = integrate.quad(lambda x: x**2, 0, 4.5)\n",
    "print(result)"
   ]
  },
  {
   "cell_type": "markdown",
   "metadata": {},
   "source": [
    "## Matplotlib\n",
    "This library generates figures for you. Matplotlib lets you produce almost every type of graph and chart that exists with a little bit of work. You can use `pyplot` as a sort of black box that plots things for you, but far more powerful is the object-oriented approach. This allows you to have direct access to each axis and everything you draw on it, giving you more control for complex plots. We will use the object-oriented approach."
   ]
  },
  {
   "cell_type": "markdown",
   "metadata": {},
   "source": [
    "Here we will look at how basic plotting works. First, we import the library. The second line tells Matplotlib to draw its figures within the Jupyter notebook (a fairly unique Python environment, so it needs specific instructions!)."
   ]
  },
  {
   "cell_type": "code",
   "execution_count": 44,
   "metadata": {
    "collapsed": true
   },
   "outputs": [],
   "source": [
    "import matplotlib.pyplot as plt\n",
    "%matplotlib notebook"
   ]
  },
  {
   "cell_type": "markdown",
   "metadata": {},
   "source": [
    "Next, we initialise the figure, and add a set of axes to it."
   ]
  },
  {
   "cell_type": "code",
   "execution_count": 45,
   "metadata": {},
   "outputs": [
    {
     "data": {
      "application/javascript": [
       "/* Put everything inside the global mpl namespace */\n",
       "window.mpl = {};\n",
       "\n",
       "\n",
       "mpl.get_websocket_type = function() {\n",
       "    if (typeof(WebSocket) !== 'undefined') {\n",
       "        return WebSocket;\n",
       "    } else if (typeof(MozWebSocket) !== 'undefined') {\n",
       "        return MozWebSocket;\n",
       "    } else {\n",
       "        alert('Your browser does not have WebSocket support.' +\n",
       "              'Please try Chrome, Safari or Firefox ≥ 6. ' +\n",
       "              'Firefox 4 and 5 are also supported but you ' +\n",
       "              'have to enable WebSockets in about:config.');\n",
       "    };\n",
       "}\n",
       "\n",
       "mpl.figure = function(figure_id, websocket, ondownload, parent_element) {\n",
       "    this.id = figure_id;\n",
       "\n",
       "    this.ws = websocket;\n",
       "\n",
       "    this.supports_binary = (this.ws.binaryType != undefined);\n",
       "\n",
       "    if (!this.supports_binary) {\n",
       "        var warnings = document.getElementById(\"mpl-warnings\");\n",
       "        if (warnings) {\n",
       "            warnings.style.display = 'block';\n",
       "            warnings.textContent = (\n",
       "                \"This browser does not support binary websocket messages. \" +\n",
       "                    \"Performance may be slow.\");\n",
       "        }\n",
       "    }\n",
       "\n",
       "    this.imageObj = new Image();\n",
       "\n",
       "    this.context = undefined;\n",
       "    this.message = undefined;\n",
       "    this.canvas = undefined;\n",
       "    this.rubberband_canvas = undefined;\n",
       "    this.rubberband_context = undefined;\n",
       "    this.format_dropdown = undefined;\n",
       "\n",
       "    this.image_mode = 'full';\n",
       "\n",
       "    this.root = $('<div/>');\n",
       "    this._root_extra_style(this.root)\n",
       "    this.root.attr('style', 'display: inline-block');\n",
       "\n",
       "    $(parent_element).append(this.root);\n",
       "\n",
       "    this._init_header(this);\n",
       "    this._init_canvas(this);\n",
       "    this._init_toolbar(this);\n",
       "\n",
       "    var fig = this;\n",
       "\n",
       "    this.waiting = false;\n",
       "\n",
       "    this.ws.onopen =  function () {\n",
       "            fig.send_message(\"supports_binary\", {value: fig.supports_binary});\n",
       "            fig.send_message(\"send_image_mode\", {});\n",
       "            if (mpl.ratio != 1) {\n",
       "                fig.send_message(\"set_dpi_ratio\", {'dpi_ratio': mpl.ratio});\n",
       "            }\n",
       "            fig.send_message(\"refresh\", {});\n",
       "        }\n",
       "\n",
       "    this.imageObj.onload = function() {\n",
       "            if (fig.image_mode == 'full') {\n",
       "                // Full images could contain transparency (where diff images\n",
       "                // almost always do), so we need to clear the canvas so that\n",
       "                // there is no ghosting.\n",
       "                fig.context.clearRect(0, 0, fig.canvas.width, fig.canvas.height);\n",
       "            }\n",
       "            fig.context.drawImage(fig.imageObj, 0, 0);\n",
       "        };\n",
       "\n",
       "    this.imageObj.onunload = function() {\n",
       "        this.ws.close();\n",
       "    }\n",
       "\n",
       "    this.ws.onmessage = this._make_on_message_function(this);\n",
       "\n",
       "    this.ondownload = ondownload;\n",
       "}\n",
       "\n",
       "mpl.figure.prototype._init_header = function() {\n",
       "    var titlebar = $(\n",
       "        '<div class=\"ui-dialog-titlebar ui-widget-header ui-corner-all ' +\n",
       "        'ui-helper-clearfix\"/>');\n",
       "    var titletext = $(\n",
       "        '<div class=\"ui-dialog-title\" style=\"width: 100%; ' +\n",
       "        'text-align: center; padding: 3px;\"/>');\n",
       "    titlebar.append(titletext)\n",
       "    this.root.append(titlebar);\n",
       "    this.header = titletext[0];\n",
       "}\n",
       "\n",
       "\n",
       "\n",
       "mpl.figure.prototype._canvas_extra_style = function(canvas_div) {\n",
       "\n",
       "}\n",
       "\n",
       "\n",
       "mpl.figure.prototype._root_extra_style = function(canvas_div) {\n",
       "\n",
       "}\n",
       "\n",
       "mpl.figure.prototype._init_canvas = function() {\n",
       "    var fig = this;\n",
       "\n",
       "    var canvas_div = $('<div/>');\n",
       "\n",
       "    canvas_div.attr('style', 'position: relative; clear: both; outline: 0');\n",
       "\n",
       "    function canvas_keyboard_event(event) {\n",
       "        return fig.key_event(event, event['data']);\n",
       "    }\n",
       "\n",
       "    canvas_div.keydown('key_press', canvas_keyboard_event);\n",
       "    canvas_div.keyup('key_release', canvas_keyboard_event);\n",
       "    this.canvas_div = canvas_div\n",
       "    this._canvas_extra_style(canvas_div)\n",
       "    this.root.append(canvas_div);\n",
       "\n",
       "    var canvas = $('<canvas/>');\n",
       "    canvas.addClass('mpl-canvas');\n",
       "    canvas.attr('style', \"left: 0; top: 0; z-index: 0; outline: 0\")\n",
       "\n",
       "    this.canvas = canvas[0];\n",
       "    this.context = canvas[0].getContext(\"2d\");\n",
       "\n",
       "    var backingStore = this.context.backingStorePixelRatio ||\n",
       "\tthis.context.webkitBackingStorePixelRatio ||\n",
       "\tthis.context.mozBackingStorePixelRatio ||\n",
       "\tthis.context.msBackingStorePixelRatio ||\n",
       "\tthis.context.oBackingStorePixelRatio ||\n",
       "\tthis.context.backingStorePixelRatio || 1;\n",
       "\n",
       "    mpl.ratio = (window.devicePixelRatio || 1) / backingStore;\n",
       "\n",
       "    var rubberband = $('<canvas/>');\n",
       "    rubberband.attr('style', \"position: absolute; left: 0; top: 0; z-index: 1;\")\n",
       "\n",
       "    var pass_mouse_events = true;\n",
       "\n",
       "    canvas_div.resizable({\n",
       "        start: function(event, ui) {\n",
       "            pass_mouse_events = false;\n",
       "        },\n",
       "        resize: function(event, ui) {\n",
       "            fig.request_resize(ui.size.width, ui.size.height);\n",
       "        },\n",
       "        stop: function(event, ui) {\n",
       "            pass_mouse_events = true;\n",
       "            fig.request_resize(ui.size.width, ui.size.height);\n",
       "        },\n",
       "    });\n",
       "\n",
       "    function mouse_event_fn(event) {\n",
       "        if (pass_mouse_events)\n",
       "            return fig.mouse_event(event, event['data']);\n",
       "    }\n",
       "\n",
       "    rubberband.mousedown('button_press', mouse_event_fn);\n",
       "    rubberband.mouseup('button_release', mouse_event_fn);\n",
       "    // Throttle sequential mouse events to 1 every 20ms.\n",
       "    rubberband.mousemove('motion_notify', mouse_event_fn);\n",
       "\n",
       "    rubberband.mouseenter('figure_enter', mouse_event_fn);\n",
       "    rubberband.mouseleave('figure_leave', mouse_event_fn);\n",
       "\n",
       "    canvas_div.on(\"wheel\", function (event) {\n",
       "        event = event.originalEvent;\n",
       "        event['data'] = 'scroll'\n",
       "        if (event.deltaY < 0) {\n",
       "            event.step = 1;\n",
       "        } else {\n",
       "            event.step = -1;\n",
       "        }\n",
       "        mouse_event_fn(event);\n",
       "    });\n",
       "\n",
       "    canvas_div.append(canvas);\n",
       "    canvas_div.append(rubberband);\n",
       "\n",
       "    this.rubberband = rubberband;\n",
       "    this.rubberband_canvas = rubberband[0];\n",
       "    this.rubberband_context = rubberband[0].getContext(\"2d\");\n",
       "    this.rubberband_context.strokeStyle = \"#000000\";\n",
       "\n",
       "    this._resize_canvas = function(width, height) {\n",
       "        // Keep the size of the canvas, canvas container, and rubber band\n",
       "        // canvas in synch.\n",
       "        canvas_div.css('width', width)\n",
       "        canvas_div.css('height', height)\n",
       "\n",
       "        canvas.attr('width', width * mpl.ratio);\n",
       "        canvas.attr('height', height * mpl.ratio);\n",
       "        canvas.attr('style', 'width: ' + width + 'px; height: ' + height + 'px;');\n",
       "\n",
       "        rubberband.attr('width', width);\n",
       "        rubberband.attr('height', height);\n",
       "    }\n",
       "\n",
       "    // Set the figure to an initial 600x600px, this will subsequently be updated\n",
       "    // upon first draw.\n",
       "    this._resize_canvas(600, 600);\n",
       "\n",
       "    // Disable right mouse context menu.\n",
       "    $(this.rubberband_canvas).bind(\"contextmenu\",function(e){\n",
       "        return false;\n",
       "    });\n",
       "\n",
       "    function set_focus () {\n",
       "        canvas.focus();\n",
       "        canvas_div.focus();\n",
       "    }\n",
       "\n",
       "    window.setTimeout(set_focus, 100);\n",
       "}\n",
       "\n",
       "mpl.figure.prototype._init_toolbar = function() {\n",
       "    var fig = this;\n",
       "\n",
       "    var nav_element = $('<div/>')\n",
       "    nav_element.attr('style', 'width: 100%');\n",
       "    this.root.append(nav_element);\n",
       "\n",
       "    // Define a callback function for later on.\n",
       "    function toolbar_event(event) {\n",
       "        return fig.toolbar_button_onclick(event['data']);\n",
       "    }\n",
       "    function toolbar_mouse_event(event) {\n",
       "        return fig.toolbar_button_onmouseover(event['data']);\n",
       "    }\n",
       "\n",
       "    for(var toolbar_ind in mpl.toolbar_items) {\n",
       "        var name = mpl.toolbar_items[toolbar_ind][0];\n",
       "        var tooltip = mpl.toolbar_items[toolbar_ind][1];\n",
       "        var image = mpl.toolbar_items[toolbar_ind][2];\n",
       "        var method_name = mpl.toolbar_items[toolbar_ind][3];\n",
       "\n",
       "        if (!name) {\n",
       "            // put a spacer in here.\n",
       "            continue;\n",
       "        }\n",
       "        var button = $('<button/>');\n",
       "        button.addClass('ui-button ui-widget ui-state-default ui-corner-all ' +\n",
       "                        'ui-button-icon-only');\n",
       "        button.attr('role', 'button');\n",
       "        button.attr('aria-disabled', 'false');\n",
       "        button.click(method_name, toolbar_event);\n",
       "        button.mouseover(tooltip, toolbar_mouse_event);\n",
       "\n",
       "        var icon_img = $('<span/>');\n",
       "        icon_img.addClass('ui-button-icon-primary ui-icon');\n",
       "        icon_img.addClass(image);\n",
       "        icon_img.addClass('ui-corner-all');\n",
       "\n",
       "        var tooltip_span = $('<span/>');\n",
       "        tooltip_span.addClass('ui-button-text');\n",
       "        tooltip_span.html(tooltip);\n",
       "\n",
       "        button.append(icon_img);\n",
       "        button.append(tooltip_span);\n",
       "\n",
       "        nav_element.append(button);\n",
       "    }\n",
       "\n",
       "    var fmt_picker_span = $('<span/>');\n",
       "\n",
       "    var fmt_picker = $('<select/>');\n",
       "    fmt_picker.addClass('mpl-toolbar-option ui-widget ui-widget-content');\n",
       "    fmt_picker_span.append(fmt_picker);\n",
       "    nav_element.append(fmt_picker_span);\n",
       "    this.format_dropdown = fmt_picker[0];\n",
       "\n",
       "    for (var ind in mpl.extensions) {\n",
       "        var fmt = mpl.extensions[ind];\n",
       "        var option = $(\n",
       "            '<option/>', {selected: fmt === mpl.default_extension}).html(fmt);\n",
       "        fmt_picker.append(option)\n",
       "    }\n",
       "\n",
       "    // Add hover states to the ui-buttons\n",
       "    $( \".ui-button\" ).hover(\n",
       "        function() { $(this).addClass(\"ui-state-hover\");},\n",
       "        function() { $(this).removeClass(\"ui-state-hover\");}\n",
       "    );\n",
       "\n",
       "    var status_bar = $('<span class=\"mpl-message\"/>');\n",
       "    nav_element.append(status_bar);\n",
       "    this.message = status_bar[0];\n",
       "}\n",
       "\n",
       "mpl.figure.prototype.request_resize = function(x_pixels, y_pixels) {\n",
       "    // Request matplotlib to resize the figure. Matplotlib will then trigger a resize in the client,\n",
       "    // which will in turn request a refresh of the image.\n",
       "    this.send_message('resize', {'width': x_pixels, 'height': y_pixels});\n",
       "}\n",
       "\n",
       "mpl.figure.prototype.send_message = function(type, properties) {\n",
       "    properties['type'] = type;\n",
       "    properties['figure_id'] = this.id;\n",
       "    this.ws.send(JSON.stringify(properties));\n",
       "}\n",
       "\n",
       "mpl.figure.prototype.send_draw_message = function() {\n",
       "    if (!this.waiting) {\n",
       "        this.waiting = true;\n",
       "        this.ws.send(JSON.stringify({type: \"draw\", figure_id: this.id}));\n",
       "    }\n",
       "}\n",
       "\n",
       "\n",
       "mpl.figure.prototype.handle_save = function(fig, msg) {\n",
       "    var format_dropdown = fig.format_dropdown;\n",
       "    var format = format_dropdown.options[format_dropdown.selectedIndex].value;\n",
       "    fig.ondownload(fig, format);\n",
       "}\n",
       "\n",
       "\n",
       "mpl.figure.prototype.handle_resize = function(fig, msg) {\n",
       "    var size = msg['size'];\n",
       "    if (size[0] != fig.canvas.width || size[1] != fig.canvas.height) {\n",
       "        fig._resize_canvas(size[0], size[1]);\n",
       "        fig.send_message(\"refresh\", {});\n",
       "    };\n",
       "}\n",
       "\n",
       "mpl.figure.prototype.handle_rubberband = function(fig, msg) {\n",
       "    var x0 = msg['x0'] / mpl.ratio;\n",
       "    var y0 = (fig.canvas.height - msg['y0']) / mpl.ratio;\n",
       "    var x1 = msg['x1'] / mpl.ratio;\n",
       "    var y1 = (fig.canvas.height - msg['y1']) / mpl.ratio;\n",
       "    x0 = Math.floor(x0) + 0.5;\n",
       "    y0 = Math.floor(y0) + 0.5;\n",
       "    x1 = Math.floor(x1) + 0.5;\n",
       "    y1 = Math.floor(y1) + 0.5;\n",
       "    var min_x = Math.min(x0, x1);\n",
       "    var min_y = Math.min(y0, y1);\n",
       "    var width = Math.abs(x1 - x0);\n",
       "    var height = Math.abs(y1 - y0);\n",
       "\n",
       "    fig.rubberband_context.clearRect(\n",
       "        0, 0, fig.canvas.width, fig.canvas.height);\n",
       "\n",
       "    fig.rubberband_context.strokeRect(min_x, min_y, width, height);\n",
       "}\n",
       "\n",
       "mpl.figure.prototype.handle_figure_label = function(fig, msg) {\n",
       "    // Updates the figure title.\n",
       "    fig.header.textContent = msg['label'];\n",
       "}\n",
       "\n",
       "mpl.figure.prototype.handle_cursor = function(fig, msg) {\n",
       "    var cursor = msg['cursor'];\n",
       "    switch(cursor)\n",
       "    {\n",
       "    case 0:\n",
       "        cursor = 'pointer';\n",
       "        break;\n",
       "    case 1:\n",
       "        cursor = 'default';\n",
       "        break;\n",
       "    case 2:\n",
       "        cursor = 'crosshair';\n",
       "        break;\n",
       "    case 3:\n",
       "        cursor = 'move';\n",
       "        break;\n",
       "    }\n",
       "    fig.rubberband_canvas.style.cursor = cursor;\n",
       "}\n",
       "\n",
       "mpl.figure.prototype.handle_message = function(fig, msg) {\n",
       "    fig.message.textContent = msg['message'];\n",
       "}\n",
       "\n",
       "mpl.figure.prototype.handle_draw = function(fig, msg) {\n",
       "    // Request the server to send over a new figure.\n",
       "    fig.send_draw_message();\n",
       "}\n",
       "\n",
       "mpl.figure.prototype.handle_image_mode = function(fig, msg) {\n",
       "    fig.image_mode = msg['mode'];\n",
       "}\n",
       "\n",
       "mpl.figure.prototype.updated_canvas_event = function() {\n",
       "    // Called whenever the canvas gets updated.\n",
       "    this.send_message(\"ack\", {});\n",
       "}\n",
       "\n",
       "// A function to construct a web socket function for onmessage handling.\n",
       "// Called in the figure constructor.\n",
       "mpl.figure.prototype._make_on_message_function = function(fig) {\n",
       "    return function socket_on_message(evt) {\n",
       "        if (evt.data instanceof Blob) {\n",
       "            /* FIXME: We get \"Resource interpreted as Image but\n",
       "             * transferred with MIME type text/plain:\" errors on\n",
       "             * Chrome.  But how to set the MIME type?  It doesn't seem\n",
       "             * to be part of the websocket stream */\n",
       "            evt.data.type = \"image/png\";\n",
       "\n",
       "            /* Free the memory for the previous frames */\n",
       "            if (fig.imageObj.src) {\n",
       "                (window.URL || window.webkitURL).revokeObjectURL(\n",
       "                    fig.imageObj.src);\n",
       "            }\n",
       "\n",
       "            fig.imageObj.src = (window.URL || window.webkitURL).createObjectURL(\n",
       "                evt.data);\n",
       "            fig.updated_canvas_event();\n",
       "            fig.waiting = false;\n",
       "            return;\n",
       "        }\n",
       "        else if (typeof evt.data === 'string' && evt.data.slice(0, 21) == \"data:image/png;base64\") {\n",
       "            fig.imageObj.src = evt.data;\n",
       "            fig.updated_canvas_event();\n",
       "            fig.waiting = false;\n",
       "            return;\n",
       "        }\n",
       "\n",
       "        var msg = JSON.parse(evt.data);\n",
       "        var msg_type = msg['type'];\n",
       "\n",
       "        // Call the  \"handle_{type}\" callback, which takes\n",
       "        // the figure and JSON message as its only arguments.\n",
       "        try {\n",
       "            var callback = fig[\"handle_\" + msg_type];\n",
       "        } catch (e) {\n",
       "            console.log(\"No handler for the '\" + msg_type + \"' message type: \", msg);\n",
       "            return;\n",
       "        }\n",
       "\n",
       "        if (callback) {\n",
       "            try {\n",
       "                // console.log(\"Handling '\" + msg_type + \"' message: \", msg);\n",
       "                callback(fig, msg);\n",
       "            } catch (e) {\n",
       "                console.log(\"Exception inside the 'handler_\" + msg_type + \"' callback:\", e, e.stack, msg);\n",
       "            }\n",
       "        }\n",
       "    };\n",
       "}\n",
       "\n",
       "// from http://stackoverflow.com/questions/1114465/getting-mouse-location-in-canvas\n",
       "mpl.findpos = function(e) {\n",
       "    //this section is from http://www.quirksmode.org/js/events_properties.html\n",
       "    var targ;\n",
       "    if (!e)\n",
       "        e = window.event;\n",
       "    if (e.target)\n",
       "        targ = e.target;\n",
       "    else if (e.srcElement)\n",
       "        targ = e.srcElement;\n",
       "    if (targ.nodeType == 3) // defeat Safari bug\n",
       "        targ = targ.parentNode;\n",
       "\n",
       "    // jQuery normalizes the pageX and pageY\n",
       "    // pageX,Y are the mouse positions relative to the document\n",
       "    // offset() returns the position of the element relative to the document\n",
       "    var x = e.pageX - $(targ).offset().left;\n",
       "    var y = e.pageY - $(targ).offset().top;\n",
       "\n",
       "    return {\"x\": x, \"y\": y};\n",
       "};\n",
       "\n",
       "/*\n",
       " * return a copy of an object with only non-object keys\n",
       " * we need this to avoid circular references\n",
       " * http://stackoverflow.com/a/24161582/3208463\n",
       " */\n",
       "function simpleKeys (original) {\n",
       "  return Object.keys(original).reduce(function (obj, key) {\n",
       "    if (typeof original[key] !== 'object')\n",
       "        obj[key] = original[key]\n",
       "    return obj;\n",
       "  }, {});\n",
       "}\n",
       "\n",
       "mpl.figure.prototype.mouse_event = function(event, name) {\n",
       "    var canvas_pos = mpl.findpos(event)\n",
       "\n",
       "    if (name === 'button_press')\n",
       "    {\n",
       "        this.canvas.focus();\n",
       "        this.canvas_div.focus();\n",
       "    }\n",
       "\n",
       "    var x = canvas_pos.x * mpl.ratio;\n",
       "    var y = canvas_pos.y * mpl.ratio;\n",
       "\n",
       "    this.send_message(name, {x: x, y: y, button: event.button,\n",
       "                             step: event.step,\n",
       "                             guiEvent: simpleKeys(event)});\n",
       "\n",
       "    /* This prevents the web browser from automatically changing to\n",
       "     * the text insertion cursor when the button is pressed.  We want\n",
       "     * to control all of the cursor setting manually through the\n",
       "     * 'cursor' event from matplotlib */\n",
       "    event.preventDefault();\n",
       "    return false;\n",
       "}\n",
       "\n",
       "mpl.figure.prototype._key_event_extra = function(event, name) {\n",
       "    // Handle any extra behaviour associated with a key event\n",
       "}\n",
       "\n",
       "mpl.figure.prototype.key_event = function(event, name) {\n",
       "\n",
       "    // Prevent repeat events\n",
       "    if (name == 'key_press')\n",
       "    {\n",
       "        if (event.which === this._key)\n",
       "            return;\n",
       "        else\n",
       "            this._key = event.which;\n",
       "    }\n",
       "    if (name == 'key_release')\n",
       "        this._key = null;\n",
       "\n",
       "    var value = '';\n",
       "    if (event.ctrlKey && event.which != 17)\n",
       "        value += \"ctrl+\";\n",
       "    if (event.altKey && event.which != 18)\n",
       "        value += \"alt+\";\n",
       "    if (event.shiftKey && event.which != 16)\n",
       "        value += \"shift+\";\n",
       "\n",
       "    value += 'k';\n",
       "    value += event.which.toString();\n",
       "\n",
       "    this._key_event_extra(event, name);\n",
       "\n",
       "    this.send_message(name, {key: value,\n",
       "                             guiEvent: simpleKeys(event)});\n",
       "    return false;\n",
       "}\n",
       "\n",
       "mpl.figure.prototype.toolbar_button_onclick = function(name) {\n",
       "    if (name == 'download') {\n",
       "        this.handle_save(this, null);\n",
       "    } else {\n",
       "        this.send_message(\"toolbar_button\", {name: name});\n",
       "    }\n",
       "};\n",
       "\n",
       "mpl.figure.prototype.toolbar_button_onmouseover = function(tooltip) {\n",
       "    this.message.textContent = tooltip;\n",
       "};\n",
       "mpl.toolbar_items = [[\"Home\", \"Reset original view\", \"fa fa-home icon-home\", \"home\"], [\"Back\", \"Back to  previous view\", \"fa fa-arrow-left icon-arrow-left\", \"back\"], [\"Forward\", \"Forward to next view\", \"fa fa-arrow-right icon-arrow-right\", \"forward\"], [\"\", \"\", \"\", \"\"], [\"Pan\", \"Pan axes with left mouse, zoom with right\", \"fa fa-arrows icon-move\", \"pan\"], [\"Zoom\", \"Zoom to rectangle\", \"fa fa-square-o icon-check-empty\", \"zoom\"], [\"\", \"\", \"\", \"\"], [\"Download\", \"Download plot\", \"fa fa-floppy-o icon-save\", \"download\"]];\n",
       "\n",
       "mpl.extensions = [\"eps\", \"jpeg\", \"pdf\", \"png\", \"ps\", \"raw\", \"svg\", \"tif\"];\n",
       "\n",
       "mpl.default_extension = \"png\";var comm_websocket_adapter = function(comm) {\n",
       "    // Create a \"websocket\"-like object which calls the given IPython comm\n",
       "    // object with the appropriate methods. Currently this is a non binary\n",
       "    // socket, so there is still some room for performance tuning.\n",
       "    var ws = {};\n",
       "\n",
       "    ws.close = function() {\n",
       "        comm.close()\n",
       "    };\n",
       "    ws.send = function(m) {\n",
       "        //console.log('sending', m);\n",
       "        comm.send(m);\n",
       "    };\n",
       "    // Register the callback with on_msg.\n",
       "    comm.on_msg(function(msg) {\n",
       "        //console.log('receiving', msg['content']['data'], msg);\n",
       "        // Pass the mpl event to the overriden (by mpl) onmessage function.\n",
       "        ws.onmessage(msg['content']['data'])\n",
       "    });\n",
       "    return ws;\n",
       "}\n",
       "\n",
       "mpl.mpl_figure_comm = function(comm, msg) {\n",
       "    // This is the function which gets called when the mpl process\n",
       "    // starts-up an IPython Comm through the \"matplotlib\" channel.\n",
       "\n",
       "    var id = msg.content.data.id;\n",
       "    // Get hold of the div created by the display call when the Comm\n",
       "    // socket was opened in Python.\n",
       "    var element = $(\"#\" + id);\n",
       "    var ws_proxy = comm_websocket_adapter(comm)\n",
       "\n",
       "    function ondownload(figure, format) {\n",
       "        window.open(figure.imageObj.src);\n",
       "    }\n",
       "\n",
       "    var fig = new mpl.figure(id, ws_proxy,\n",
       "                           ondownload,\n",
       "                           element.get(0));\n",
       "\n",
       "    // Call onopen now - mpl needs it, as it is assuming we've passed it a real\n",
       "    // web socket which is closed, not our websocket->open comm proxy.\n",
       "    ws_proxy.onopen();\n",
       "\n",
       "    fig.parent_element = element.get(0);\n",
       "    fig.cell_info = mpl.find_output_cell(\"<div id='\" + id + \"'></div>\");\n",
       "    if (!fig.cell_info) {\n",
       "        console.error(\"Failed to find cell for figure\", id, fig);\n",
       "        return;\n",
       "    }\n",
       "\n",
       "    var output_index = fig.cell_info[2]\n",
       "    var cell = fig.cell_info[0];\n",
       "\n",
       "};\n",
       "\n",
       "mpl.figure.prototype.handle_close = function(fig, msg) {\n",
       "    var width = fig.canvas.width/mpl.ratio\n",
       "    fig.root.unbind('remove')\n",
       "\n",
       "    // Update the output cell to use the data from the current canvas.\n",
       "    fig.push_to_output();\n",
       "    var dataURL = fig.canvas.toDataURL();\n",
       "    // Re-enable the keyboard manager in IPython - without this line, in FF,\n",
       "    // the notebook keyboard shortcuts fail.\n",
       "    IPython.keyboard_manager.enable()\n",
       "    $(fig.parent_element).html('<img src=\"' + dataURL + '\" width=\"' + width + '\">');\n",
       "    fig.close_ws(fig, msg);\n",
       "}\n",
       "\n",
       "mpl.figure.prototype.close_ws = function(fig, msg){\n",
       "    fig.send_message('closing', msg);\n",
       "    // fig.ws.close()\n",
       "}\n",
       "\n",
       "mpl.figure.prototype.push_to_output = function(remove_interactive) {\n",
       "    // Turn the data on the canvas into data in the output cell.\n",
       "    var width = this.canvas.width/mpl.ratio\n",
       "    var dataURL = this.canvas.toDataURL();\n",
       "    this.cell_info[1]['text/html'] = '<img src=\"' + dataURL + '\" width=\"' + width + '\">';\n",
       "}\n",
       "\n",
       "mpl.figure.prototype.updated_canvas_event = function() {\n",
       "    // Tell IPython that the notebook contents must change.\n",
       "    IPython.notebook.set_dirty(true);\n",
       "    this.send_message(\"ack\", {});\n",
       "    var fig = this;\n",
       "    // Wait a second, then push the new image to the DOM so\n",
       "    // that it is saved nicely (might be nice to debounce this).\n",
       "    setTimeout(function () { fig.push_to_output() }, 1000);\n",
       "}\n",
       "\n",
       "mpl.figure.prototype._init_toolbar = function() {\n",
       "    var fig = this;\n",
       "\n",
       "    var nav_element = $('<div/>')\n",
       "    nav_element.attr('style', 'width: 100%');\n",
       "    this.root.append(nav_element);\n",
       "\n",
       "    // Define a callback function for later on.\n",
       "    function toolbar_event(event) {\n",
       "        return fig.toolbar_button_onclick(event['data']);\n",
       "    }\n",
       "    function toolbar_mouse_event(event) {\n",
       "        return fig.toolbar_button_onmouseover(event['data']);\n",
       "    }\n",
       "\n",
       "    for(var toolbar_ind in mpl.toolbar_items){\n",
       "        var name = mpl.toolbar_items[toolbar_ind][0];\n",
       "        var tooltip = mpl.toolbar_items[toolbar_ind][1];\n",
       "        var image = mpl.toolbar_items[toolbar_ind][2];\n",
       "        var method_name = mpl.toolbar_items[toolbar_ind][3];\n",
       "\n",
       "        if (!name) { continue; };\n",
       "\n",
       "        var button = $('<button class=\"btn btn-default\" href=\"#\" title=\"' + name + '\"><i class=\"fa ' + image + ' fa-lg\"></i></button>');\n",
       "        button.click(method_name, toolbar_event);\n",
       "        button.mouseover(tooltip, toolbar_mouse_event);\n",
       "        nav_element.append(button);\n",
       "    }\n",
       "\n",
       "    // Add the status bar.\n",
       "    var status_bar = $('<span class=\"mpl-message\" style=\"text-align:right; float: right;\"/>');\n",
       "    nav_element.append(status_bar);\n",
       "    this.message = status_bar[0];\n",
       "\n",
       "    // Add the close button to the window.\n",
       "    var buttongrp = $('<div class=\"btn-group inline pull-right\"></div>');\n",
       "    var button = $('<button class=\"btn btn-mini btn-primary\" href=\"#\" title=\"Stop Interaction\"><i class=\"fa fa-power-off icon-remove icon-large\"></i></button>');\n",
       "    button.click(function (evt) { fig.handle_close(fig, {}); } );\n",
       "    button.mouseover('Stop Interaction', toolbar_mouse_event);\n",
       "    buttongrp.append(button);\n",
       "    var titlebar = this.root.find($('.ui-dialog-titlebar'));\n",
       "    titlebar.prepend(buttongrp);\n",
       "}\n",
       "\n",
       "mpl.figure.prototype._root_extra_style = function(el){\n",
       "    var fig = this\n",
       "    el.on(\"remove\", function(){\n",
       "\tfig.close_ws(fig, {});\n",
       "    });\n",
       "}\n",
       "\n",
       "mpl.figure.prototype._canvas_extra_style = function(el){\n",
       "    // this is important to make the div 'focusable\n",
       "    el.attr('tabindex', 0)\n",
       "    // reach out to IPython and tell the keyboard manager to turn it's self\n",
       "    // off when our div gets focus\n",
       "\n",
       "    // location in version 3\n",
       "    if (IPython.notebook.keyboard_manager) {\n",
       "        IPython.notebook.keyboard_manager.register_events(el);\n",
       "    }\n",
       "    else {\n",
       "        // location in version 2\n",
       "        IPython.keyboard_manager.register_events(el);\n",
       "    }\n",
       "\n",
       "}\n",
       "\n",
       "mpl.figure.prototype._key_event_extra = function(event, name) {\n",
       "    var manager = IPython.notebook.keyboard_manager;\n",
       "    if (!manager)\n",
       "        manager = IPython.keyboard_manager;\n",
       "\n",
       "    // Check for shift+enter\n",
       "    if (event.shiftKey && event.which == 13) {\n",
       "        this.canvas_div.blur();\n",
       "        // select the cell after this one\n",
       "        var index = IPython.notebook.find_cell_index(this.cell_info[0]);\n",
       "        IPython.notebook.select(index + 1);\n",
       "    }\n",
       "}\n",
       "\n",
       "mpl.figure.prototype.handle_save = function(fig, msg) {\n",
       "    fig.ondownload(fig, null);\n",
       "}\n",
       "\n",
       "\n",
       "mpl.find_output_cell = function(html_output) {\n",
       "    // Return the cell and output element which can be found *uniquely* in the notebook.\n",
       "    // Note - this is a bit hacky, but it is done because the \"notebook_saving.Notebook\"\n",
       "    // IPython event is triggered only after the cells have been serialised, which for\n",
       "    // our purposes (turning an active figure into a static one), is too late.\n",
       "    var cells = IPython.notebook.get_cells();\n",
       "    var ncells = cells.length;\n",
       "    for (var i=0; i<ncells; i++) {\n",
       "        var cell = cells[i];\n",
       "        if (cell.cell_type === 'code'){\n",
       "            for (var j=0; j<cell.output_area.outputs.length; j++) {\n",
       "                var data = cell.output_area.outputs[j];\n",
       "                if (data.data) {\n",
       "                    // IPython >= 3 moved mimebundle to data attribute of output\n",
       "                    data = data.data;\n",
       "                }\n",
       "                if (data['text/html'] == html_output) {\n",
       "                    return [cell, data, j];\n",
       "                }\n",
       "            }\n",
       "        }\n",
       "    }\n",
       "}\n",
       "\n",
       "// Register the function which deals with the matplotlib target/channel.\n",
       "// The kernel may be null if the page has been refreshed.\n",
       "if (IPython.notebook.kernel != null) {\n",
       "    IPython.notebook.kernel.comm_manager.register_target('matplotlib', mpl.mpl_figure_comm);\n",
       "}\n"
      ],
      "text/plain": [
       "<IPython.core.display.Javascript object>"
      ]
     },
     "metadata": {},
     "output_type": "display_data"
    },
    {
     "data": {
      "text/html": [
       "<img src=\"data:image/png;base64,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\" width=\"640\">"
      ],
      "text/plain": [
       "<IPython.core.display.HTML object>"
      ]
     },
     "metadata": {},
     "output_type": "display_data"
    }
   ],
   "source": [
    "fig = plt.figure()\n",
    "ax1 = fig.add_subplot(1,1,1)"
   ]
  },
  {
   "cell_type": "markdown",
   "metadata": {},
   "source": [
    "All we have to do now is plot the two variables `substrate_concentrations` and `rate_substrate` against each other. We should also label the axes."
   ]
  },
  {
   "cell_type": "code",
   "execution_count": 46,
   "metadata": {},
   "outputs": [
    {
     "data": {
      "text/plain": [
       "<matplotlib.text.Text at 0x28f29ec4080>"
      ]
     },
     "execution_count": 46,
     "metadata": {},
     "output_type": "execute_result"
    }
   ],
   "source": [
    "\n",
    "ax1.plot(substrate_concentrations, rate_substrate)\n",
    "ax1.set_xlabel(\"[S]\")\n",
    "ax1.set_ylabel(\"V\")"
   ]
  },
  {
   "cell_type": "markdown",
   "metadata": {},
   "source": [
    "If you've done all of the exercises correctly, the plot should look something like this.\n",
    "\n",
    "<img src=https://i.gyazo.com/e7eb906ae697e9ce4e2f42d6ffee5f50.png/>"
   ]
  },
  {
   "cell_type": "markdown",
   "metadata": {},
   "source": [
    "## Putting things together"
   ]
  },
  {
   "cell_type": "markdown",
   "metadata": {},
   "source": [
    "Now we can get to our complete product. You need to do two things here:\n",
    "\n",
    "1. Approximate the product concentration, substrate concentration, and rate over 10 seconds.\n",
    "2. Plot all three properties over time on the same axes.\n",
    "\n",
    "### Some reminders\n",
    "\n",
    "The update equation you'll need to use is the following:\n",
    "$$\n",
    "S(t+dt) \\approx S(t) + \\delta t\\left.\\frac{dS}{dt}\\right|_t\n",
    "$$\n",
    "\n",
    "(From the chemical equation presented, what is the update equation for the product concentration?)\n",
    "\n",
    "You've already defined the following:\n",
    "\n",
    "<b> Variables </b> - `dt` , `Km`, `Vmax`\n",
    "\n",
    "<b> Functions </b> - `mm_rate`\n",
    "\n",
    "<b> Lists </b> - `substrate_conc`, `product_conc`, `rate`"
   ]
  },
  {
   "cell_type": "markdown",
   "metadata": {},
   "source": [
    "### Hints\n",
    "\n",
    "* How can you use `np.arange` to generate your time points?\n",
    "\n",
    "* At each time step, you'll need to calculate the rate of the reaction. This should be easy because you've already done most of the work!\n",
    "\n",
    "* We previously iterated through an arbitrary list of substrate concentrations, which could have been thought of as the \"x-variable\". Here time is the \"x-variable\", and we've made lists to save all of the values for product and substrate concentration for each time point. But we want to use the substrate concentration at the immediately-previous timepoint to calculate values for the next one. How do we do this?\n",
    "\n",
    "* Once we've calculated the values for the next time point, how do we ensure that they are available for the next iteration of the loop?\n",
    "\n",
    "* The lists of substrate concentration and product concentration already have an initial value, while the list for rate does not. Be careful about writing your \"for\" loop such that all of the lists (including time on the x-axis) have the same dimensions. Otherwise plotting won't work!\n",
    "\n",
    "* You can draw multiple plots on the same axes simply by calling the axis object's `plot` function again."
   ]
  },
  {
   "cell_type": "markdown",
   "metadata": {},
   "source": [
    "Run the following import statements before you get started."
   ]
  },
  {
   "cell_type": "code",
   "execution_count": 13,
   "metadata": {
    "collapsed": true
   },
   "outputs": [],
   "source": [
    "import numpy as np\n",
    "import matplotlib.pyplot as plt\n",
    "%matplotlib notebook"
   ]
  },
  {
   "cell_type": "markdown",
   "metadata": {},
   "source": [
    "If your code doesn't work the first time, remember to reset the contents of the lists using the following lines of code. (Otherwise any values you generate will persist, and your timeseries data will quickly become nonsense)"
   ]
  },
  {
   "cell_type": "code",
   "execution_count": 14,
   "metadata": {
    "collapsed": true
   },
   "outputs": [],
   "source": [
    "substrate_conc = [10]\n",
    "product_conc = [0]\n",
    "rate = []"
   ]
  },
  {
   "cell_type": "markdown",
   "metadata": {},
   "source": [
    "### Your Code Here"
   ]
  },
  {
   "cell_type": "markdown",
   "metadata": {},
   "source": [
    "Write your code for the numerical estimation of Michaelis-Menten kinetics over time."
   ]
  },
  {
   "cell_type": "code",
   "execution_count": 15,
   "metadata": {
    "collapsed": true
   },
   "outputs": [],
   "source": [
    "time = np.arange(0,10, step = dt)\n",
    "for t in range(0,len(time)-1):\n",
    "    next_rate = mm_rate(substrate_conc[-1], Km, Vmax)\n",
    "    next_product_conc = product_conc[-1] + dt*next_rate\n",
    "    next_substrate_conc = substrate_conc[-1] - dt*next_rate\n",
    "    rate.append(next_rate)\n",
    "    product_conc.append(next_product_conc)\n",
    "    substrate_conc.append(next_substrate_conc)\n",
    "rate.append(mm_rate(substrate_conc[-1], Km, Vmax))"
   ]
  },
  {
   "cell_type": "markdown",
   "metadata": {},
   "source": [
    "Now plot the results with `matplotlib`."
   ]
  },
  {
   "cell_type": "code",
   "execution_count": 16,
   "metadata": {},
   "outputs": [
    {
     "data": {
      "application/javascript": [
       "/* Put everything inside the global mpl namespace */\n",
       "window.mpl = {};\n",
       "\n",
       "\n",
       "mpl.get_websocket_type = function() {\n",
       "    if (typeof(WebSocket) !== 'undefined') {\n",
       "        return WebSocket;\n",
       "    } else if (typeof(MozWebSocket) !== 'undefined') {\n",
       "        return MozWebSocket;\n",
       "    } else {\n",
       "        alert('Your browser does not have WebSocket support.' +\n",
       "              'Please try Chrome, Safari or Firefox ≥ 6. ' +\n",
       "              'Firefox 4 and 5 are also supported but you ' +\n",
       "              'have to enable WebSockets in about:config.');\n",
       "    };\n",
       "}\n",
       "\n",
       "mpl.figure = function(figure_id, websocket, ondownload, parent_element) {\n",
       "    this.id = figure_id;\n",
       "\n",
       "    this.ws = websocket;\n",
       "\n",
       "    this.supports_binary = (this.ws.binaryType != undefined);\n",
       "\n",
       "    if (!this.supports_binary) {\n",
       "        var warnings = document.getElementById(\"mpl-warnings\");\n",
       "        if (warnings) {\n",
       "            warnings.style.display = 'block';\n",
       "            warnings.textContent = (\n",
       "                \"This browser does not support binary websocket messages. \" +\n",
       "                    \"Performance may be slow.\");\n",
       "        }\n",
       "    }\n",
       "\n",
       "    this.imageObj = new Image();\n",
       "\n",
       "    this.context = undefined;\n",
       "    this.message = undefined;\n",
       "    this.canvas = undefined;\n",
       "    this.rubberband_canvas = undefined;\n",
       "    this.rubberband_context = undefined;\n",
       "    this.format_dropdown = undefined;\n",
       "\n",
       "    this.image_mode = 'full';\n",
       "\n",
       "    this.root = $('<div/>');\n",
       "    this._root_extra_style(this.root)\n",
       "    this.root.attr('style', 'display: inline-block');\n",
       "\n",
       "    $(parent_element).append(this.root);\n",
       "\n",
       "    this._init_header(this);\n",
       "    this._init_canvas(this);\n",
       "    this._init_toolbar(this);\n",
       "\n",
       "    var fig = this;\n",
       "\n",
       "    this.waiting = false;\n",
       "\n",
       "    this.ws.onopen =  function () {\n",
       "            fig.send_message(\"supports_binary\", {value: fig.supports_binary});\n",
       "            fig.send_message(\"send_image_mode\", {});\n",
       "            if (mpl.ratio != 1) {\n",
       "                fig.send_message(\"set_dpi_ratio\", {'dpi_ratio': mpl.ratio});\n",
       "            }\n",
       "            fig.send_message(\"refresh\", {});\n",
       "        }\n",
       "\n",
       "    this.imageObj.onload = function() {\n",
       "            if (fig.image_mode == 'full') {\n",
       "                // Full images could contain transparency (where diff images\n",
       "                // almost always do), so we need to clear the canvas so that\n",
       "                // there is no ghosting.\n",
       "                fig.context.clearRect(0, 0, fig.canvas.width, fig.canvas.height);\n",
       "            }\n",
       "            fig.context.drawImage(fig.imageObj, 0, 0);\n",
       "        };\n",
       "\n",
       "    this.imageObj.onunload = function() {\n",
       "        this.ws.close();\n",
       "    }\n",
       "\n",
       "    this.ws.onmessage = this._make_on_message_function(this);\n",
       "\n",
       "    this.ondownload = ondownload;\n",
       "}\n",
       "\n",
       "mpl.figure.prototype._init_header = function() {\n",
       "    var titlebar = $(\n",
       "        '<div class=\"ui-dialog-titlebar ui-widget-header ui-corner-all ' +\n",
       "        'ui-helper-clearfix\"/>');\n",
       "    var titletext = $(\n",
       "        '<div class=\"ui-dialog-title\" style=\"width: 100%; ' +\n",
       "        'text-align: center; padding: 3px;\"/>');\n",
       "    titlebar.append(titletext)\n",
       "    this.root.append(titlebar);\n",
       "    this.header = titletext[0];\n",
       "}\n",
       "\n",
       "\n",
       "\n",
       "mpl.figure.prototype._canvas_extra_style = function(canvas_div) {\n",
       "\n",
       "}\n",
       "\n",
       "\n",
       "mpl.figure.prototype._root_extra_style = function(canvas_div) {\n",
       "\n",
       "}\n",
       "\n",
       "mpl.figure.prototype._init_canvas = function() {\n",
       "    var fig = this;\n",
       "\n",
       "    var canvas_div = $('<div/>');\n",
       "\n",
       "    canvas_div.attr('style', 'position: relative; clear: both; outline: 0');\n",
       "\n",
       "    function canvas_keyboard_event(event) {\n",
       "        return fig.key_event(event, event['data']);\n",
       "    }\n",
       "\n",
       "    canvas_div.keydown('key_press', canvas_keyboard_event);\n",
       "    canvas_div.keyup('key_release', canvas_keyboard_event);\n",
       "    this.canvas_div = canvas_div\n",
       "    this._canvas_extra_style(canvas_div)\n",
       "    this.root.append(canvas_div);\n",
       "\n",
       "    var canvas = $('<canvas/>');\n",
       "    canvas.addClass('mpl-canvas');\n",
       "    canvas.attr('style', \"left: 0; top: 0; z-index: 0; outline: 0\")\n",
       "\n",
       "    this.canvas = canvas[0];\n",
       "    this.context = canvas[0].getContext(\"2d\");\n",
       "\n",
       "    var backingStore = this.context.backingStorePixelRatio ||\n",
       "\tthis.context.webkitBackingStorePixelRatio ||\n",
       "\tthis.context.mozBackingStorePixelRatio ||\n",
       "\tthis.context.msBackingStorePixelRatio ||\n",
       "\tthis.context.oBackingStorePixelRatio ||\n",
       "\tthis.context.backingStorePixelRatio || 1;\n",
       "\n",
       "    mpl.ratio = (window.devicePixelRatio || 1) / backingStore;\n",
       "\n",
       "    var rubberband = $('<canvas/>');\n",
       "    rubberband.attr('style', \"position: absolute; left: 0; top: 0; z-index: 1;\")\n",
       "\n",
       "    var pass_mouse_events = true;\n",
       "\n",
       "    canvas_div.resizable({\n",
       "        start: function(event, ui) {\n",
       "            pass_mouse_events = false;\n",
       "        },\n",
       "        resize: function(event, ui) {\n",
       "            fig.request_resize(ui.size.width, ui.size.height);\n",
       "        },\n",
       "        stop: function(event, ui) {\n",
       "            pass_mouse_events = true;\n",
       "            fig.request_resize(ui.size.width, ui.size.height);\n",
       "        },\n",
       "    });\n",
       "\n",
       "    function mouse_event_fn(event) {\n",
       "        if (pass_mouse_events)\n",
       "            return fig.mouse_event(event, event['data']);\n",
       "    }\n",
       "\n",
       "    rubberband.mousedown('button_press', mouse_event_fn);\n",
       "    rubberband.mouseup('button_release', mouse_event_fn);\n",
       "    // Throttle sequential mouse events to 1 every 20ms.\n",
       "    rubberband.mousemove('motion_notify', mouse_event_fn);\n",
       "\n",
       "    rubberband.mouseenter('figure_enter', mouse_event_fn);\n",
       "    rubberband.mouseleave('figure_leave', mouse_event_fn);\n",
       "\n",
       "    canvas_div.on(\"wheel\", function (event) {\n",
       "        event = event.originalEvent;\n",
       "        event['data'] = 'scroll'\n",
       "        if (event.deltaY < 0) {\n",
       "            event.step = 1;\n",
       "        } else {\n",
       "            event.step = -1;\n",
       "        }\n",
       "        mouse_event_fn(event);\n",
       "    });\n",
       "\n",
       "    canvas_div.append(canvas);\n",
       "    canvas_div.append(rubberband);\n",
       "\n",
       "    this.rubberband = rubberband;\n",
       "    this.rubberband_canvas = rubberband[0];\n",
       "    this.rubberband_context = rubberband[0].getContext(\"2d\");\n",
       "    this.rubberband_context.strokeStyle = \"#000000\";\n",
       "\n",
       "    this._resize_canvas = function(width, height) {\n",
       "        // Keep the size of the canvas, canvas container, and rubber band\n",
       "        // canvas in synch.\n",
       "        canvas_div.css('width', width)\n",
       "        canvas_div.css('height', height)\n",
       "\n",
       "        canvas.attr('width', width * mpl.ratio);\n",
       "        canvas.attr('height', height * mpl.ratio);\n",
       "        canvas.attr('style', 'width: ' + width + 'px; height: ' + height + 'px;');\n",
       "\n",
       "        rubberband.attr('width', width);\n",
       "        rubberband.attr('height', height);\n",
       "    }\n",
       "\n",
       "    // Set the figure to an initial 600x600px, this will subsequently be updated\n",
       "    // upon first draw.\n",
       "    this._resize_canvas(600, 600);\n",
       "\n",
       "    // Disable right mouse context menu.\n",
       "    $(this.rubberband_canvas).bind(\"contextmenu\",function(e){\n",
       "        return false;\n",
       "    });\n",
       "\n",
       "    function set_focus () {\n",
       "        canvas.focus();\n",
       "        canvas_div.focus();\n",
       "    }\n",
       "\n",
       "    window.setTimeout(set_focus, 100);\n",
       "}\n",
       "\n",
       "mpl.figure.prototype._init_toolbar = function() {\n",
       "    var fig = this;\n",
       "\n",
       "    var nav_element = $('<div/>')\n",
       "    nav_element.attr('style', 'width: 100%');\n",
       "    this.root.append(nav_element);\n",
       "\n",
       "    // Define a callback function for later on.\n",
       "    function toolbar_event(event) {\n",
       "        return fig.toolbar_button_onclick(event['data']);\n",
       "    }\n",
       "    function toolbar_mouse_event(event) {\n",
       "        return fig.toolbar_button_onmouseover(event['data']);\n",
       "    }\n",
       "\n",
       "    for(var toolbar_ind in mpl.toolbar_items) {\n",
       "        var name = mpl.toolbar_items[toolbar_ind][0];\n",
       "        var tooltip = mpl.toolbar_items[toolbar_ind][1];\n",
       "        var image = mpl.toolbar_items[toolbar_ind][2];\n",
       "        var method_name = mpl.toolbar_items[toolbar_ind][3];\n",
       "\n",
       "        if (!name) {\n",
       "            // put a spacer in here.\n",
       "            continue;\n",
       "        }\n",
       "        var button = $('<button/>');\n",
       "        button.addClass('ui-button ui-widget ui-state-default ui-corner-all ' +\n",
       "                        'ui-button-icon-only');\n",
       "        button.attr('role', 'button');\n",
       "        button.attr('aria-disabled', 'false');\n",
       "        button.click(method_name, toolbar_event);\n",
       "        button.mouseover(tooltip, toolbar_mouse_event);\n",
       "\n",
       "        var icon_img = $('<span/>');\n",
       "        icon_img.addClass('ui-button-icon-primary ui-icon');\n",
       "        icon_img.addClass(image);\n",
       "        icon_img.addClass('ui-corner-all');\n",
       "\n",
       "        var tooltip_span = $('<span/>');\n",
       "        tooltip_span.addClass('ui-button-text');\n",
       "        tooltip_span.html(tooltip);\n",
       "\n",
       "        button.append(icon_img);\n",
       "        button.append(tooltip_span);\n",
       "\n",
       "        nav_element.append(button);\n",
       "    }\n",
       "\n",
       "    var fmt_picker_span = $('<span/>');\n",
       "\n",
       "    var fmt_picker = $('<select/>');\n",
       "    fmt_picker.addClass('mpl-toolbar-option ui-widget ui-widget-content');\n",
       "    fmt_picker_span.append(fmt_picker);\n",
       "    nav_element.append(fmt_picker_span);\n",
       "    this.format_dropdown = fmt_picker[0];\n",
       "\n",
       "    for (var ind in mpl.extensions) {\n",
       "        var fmt = mpl.extensions[ind];\n",
       "        var option = $(\n",
       "            '<option/>', {selected: fmt === mpl.default_extension}).html(fmt);\n",
       "        fmt_picker.append(option)\n",
       "    }\n",
       "\n",
       "    // Add hover states to the ui-buttons\n",
       "    $( \".ui-button\" ).hover(\n",
       "        function() { $(this).addClass(\"ui-state-hover\");},\n",
       "        function() { $(this).removeClass(\"ui-state-hover\");}\n",
       "    );\n",
       "\n",
       "    var status_bar = $('<span class=\"mpl-message\"/>');\n",
       "    nav_element.append(status_bar);\n",
       "    this.message = status_bar[0];\n",
       "}\n",
       "\n",
       "mpl.figure.prototype.request_resize = function(x_pixels, y_pixels) {\n",
       "    // Request matplotlib to resize the figure. Matplotlib will then trigger a resize in the client,\n",
       "    // which will in turn request a refresh of the image.\n",
       "    this.send_message('resize', {'width': x_pixels, 'height': y_pixels});\n",
       "}\n",
       "\n",
       "mpl.figure.prototype.send_message = function(type, properties) {\n",
       "    properties['type'] = type;\n",
       "    properties['figure_id'] = this.id;\n",
       "    this.ws.send(JSON.stringify(properties));\n",
       "}\n",
       "\n",
       "mpl.figure.prototype.send_draw_message = function() {\n",
       "    if (!this.waiting) {\n",
       "        this.waiting = true;\n",
       "        this.ws.send(JSON.stringify({type: \"draw\", figure_id: this.id}));\n",
       "    }\n",
       "}\n",
       "\n",
       "\n",
       "mpl.figure.prototype.handle_save = function(fig, msg) {\n",
       "    var format_dropdown = fig.format_dropdown;\n",
       "    var format = format_dropdown.options[format_dropdown.selectedIndex].value;\n",
       "    fig.ondownload(fig, format);\n",
       "}\n",
       "\n",
       "\n",
       "mpl.figure.prototype.handle_resize = function(fig, msg) {\n",
       "    var size = msg['size'];\n",
       "    if (size[0] != fig.canvas.width || size[1] != fig.canvas.height) {\n",
       "        fig._resize_canvas(size[0], size[1]);\n",
       "        fig.send_message(\"refresh\", {});\n",
       "    };\n",
       "}\n",
       "\n",
       "mpl.figure.prototype.handle_rubberband = function(fig, msg) {\n",
       "    var x0 = msg['x0'] / mpl.ratio;\n",
       "    var y0 = (fig.canvas.height - msg['y0']) / mpl.ratio;\n",
       "    var x1 = msg['x1'] / mpl.ratio;\n",
       "    var y1 = (fig.canvas.height - msg['y1']) / mpl.ratio;\n",
       "    x0 = Math.floor(x0) + 0.5;\n",
       "    y0 = Math.floor(y0) + 0.5;\n",
       "    x1 = Math.floor(x1) + 0.5;\n",
       "    y1 = Math.floor(y1) + 0.5;\n",
       "    var min_x = Math.min(x0, x1);\n",
       "    var min_y = Math.min(y0, y1);\n",
       "    var width = Math.abs(x1 - x0);\n",
       "    var height = Math.abs(y1 - y0);\n",
       "\n",
       "    fig.rubberband_context.clearRect(\n",
       "        0, 0, fig.canvas.width, fig.canvas.height);\n",
       "\n",
       "    fig.rubberband_context.strokeRect(min_x, min_y, width, height);\n",
       "}\n",
       "\n",
       "mpl.figure.prototype.handle_figure_label = function(fig, msg) {\n",
       "    // Updates the figure title.\n",
       "    fig.header.textContent = msg['label'];\n",
       "}\n",
       "\n",
       "mpl.figure.prototype.handle_cursor = function(fig, msg) {\n",
       "    var cursor = msg['cursor'];\n",
       "    switch(cursor)\n",
       "    {\n",
       "    case 0:\n",
       "        cursor = 'pointer';\n",
       "        break;\n",
       "    case 1:\n",
       "        cursor = 'default';\n",
       "        break;\n",
       "    case 2:\n",
       "        cursor = 'crosshair';\n",
       "        break;\n",
       "    case 3:\n",
       "        cursor = 'move';\n",
       "        break;\n",
       "    }\n",
       "    fig.rubberband_canvas.style.cursor = cursor;\n",
       "}\n",
       "\n",
       "mpl.figure.prototype.handle_message = function(fig, msg) {\n",
       "    fig.message.textContent = msg['message'];\n",
       "}\n",
       "\n",
       "mpl.figure.prototype.handle_draw = function(fig, msg) {\n",
       "    // Request the server to send over a new figure.\n",
       "    fig.send_draw_message();\n",
       "}\n",
       "\n",
       "mpl.figure.prototype.handle_image_mode = function(fig, msg) {\n",
       "    fig.image_mode = msg['mode'];\n",
       "}\n",
       "\n",
       "mpl.figure.prototype.updated_canvas_event = function() {\n",
       "    // Called whenever the canvas gets updated.\n",
       "    this.send_message(\"ack\", {});\n",
       "}\n",
       "\n",
       "// A function to construct a web socket function for onmessage handling.\n",
       "// Called in the figure constructor.\n",
       "mpl.figure.prototype._make_on_message_function = function(fig) {\n",
       "    return function socket_on_message(evt) {\n",
       "        if (evt.data instanceof Blob) {\n",
       "            /* FIXME: We get \"Resource interpreted as Image but\n",
       "             * transferred with MIME type text/plain:\" errors on\n",
       "             * Chrome.  But how to set the MIME type?  It doesn't seem\n",
       "             * to be part of the websocket stream */\n",
       "            evt.data.type = \"image/png\";\n",
       "\n",
       "            /* Free the memory for the previous frames */\n",
       "            if (fig.imageObj.src) {\n",
       "                (window.URL || window.webkitURL).revokeObjectURL(\n",
       "                    fig.imageObj.src);\n",
       "            }\n",
       "\n",
       "            fig.imageObj.src = (window.URL || window.webkitURL).createObjectURL(\n",
       "                evt.data);\n",
       "            fig.updated_canvas_event();\n",
       "            fig.waiting = false;\n",
       "            return;\n",
       "        }\n",
       "        else if (typeof evt.data === 'string' && evt.data.slice(0, 21) == \"data:image/png;base64\") {\n",
       "            fig.imageObj.src = evt.data;\n",
       "            fig.updated_canvas_event();\n",
       "            fig.waiting = false;\n",
       "            return;\n",
       "        }\n",
       "\n",
       "        var msg = JSON.parse(evt.data);\n",
       "        var msg_type = msg['type'];\n",
       "\n",
       "        // Call the  \"handle_{type}\" callback, which takes\n",
       "        // the figure and JSON message as its only arguments.\n",
       "        try {\n",
       "            var callback = fig[\"handle_\" + msg_type];\n",
       "        } catch (e) {\n",
       "            console.log(\"No handler for the '\" + msg_type + \"' message type: \", msg);\n",
       "            return;\n",
       "        }\n",
       "\n",
       "        if (callback) {\n",
       "            try {\n",
       "                // console.log(\"Handling '\" + msg_type + \"' message: \", msg);\n",
       "                callback(fig, msg);\n",
       "            } catch (e) {\n",
       "                console.log(\"Exception inside the 'handler_\" + msg_type + \"' callback:\", e, e.stack, msg);\n",
       "            }\n",
       "        }\n",
       "    };\n",
       "}\n",
       "\n",
       "// from http://stackoverflow.com/questions/1114465/getting-mouse-location-in-canvas\n",
       "mpl.findpos = function(e) {\n",
       "    //this section is from http://www.quirksmode.org/js/events_properties.html\n",
       "    var targ;\n",
       "    if (!e)\n",
       "        e = window.event;\n",
       "    if (e.target)\n",
       "        targ = e.target;\n",
       "    else if (e.srcElement)\n",
       "        targ = e.srcElement;\n",
       "    if (targ.nodeType == 3) // defeat Safari bug\n",
       "        targ = targ.parentNode;\n",
       "\n",
       "    // jQuery normalizes the pageX and pageY\n",
       "    // pageX,Y are the mouse positions relative to the document\n",
       "    // offset() returns the position of the element relative to the document\n",
       "    var x = e.pageX - $(targ).offset().left;\n",
       "    var y = e.pageY - $(targ).offset().top;\n",
       "\n",
       "    return {\"x\": x, \"y\": y};\n",
       "};\n",
       "\n",
       "/*\n",
       " * return a copy of an object with only non-object keys\n",
       " * we need this to avoid circular references\n",
       " * http://stackoverflow.com/a/24161582/3208463\n",
       " */\n",
       "function simpleKeys (original) {\n",
       "  return Object.keys(original).reduce(function (obj, key) {\n",
       "    if (typeof original[key] !== 'object')\n",
       "        obj[key] = original[key]\n",
       "    return obj;\n",
       "  }, {});\n",
       "}\n",
       "\n",
       "mpl.figure.prototype.mouse_event = function(event, name) {\n",
       "    var canvas_pos = mpl.findpos(event)\n",
       "\n",
       "    if (name === 'button_press')\n",
       "    {\n",
       "        this.canvas.focus();\n",
       "        this.canvas_div.focus();\n",
       "    }\n",
       "\n",
       "    var x = canvas_pos.x * mpl.ratio;\n",
       "    var y = canvas_pos.y * mpl.ratio;\n",
       "\n",
       "    this.send_message(name, {x: x, y: y, button: event.button,\n",
       "                             step: event.step,\n",
       "                             guiEvent: simpleKeys(event)});\n",
       "\n",
       "    /* This prevents the web browser from automatically changing to\n",
       "     * the text insertion cursor when the button is pressed.  We want\n",
       "     * to control all of the cursor setting manually through the\n",
       "     * 'cursor' event from matplotlib */\n",
       "    event.preventDefault();\n",
       "    return false;\n",
       "}\n",
       "\n",
       "mpl.figure.prototype._key_event_extra = function(event, name) {\n",
       "    // Handle any extra behaviour associated with a key event\n",
       "}\n",
       "\n",
       "mpl.figure.prototype.key_event = function(event, name) {\n",
       "\n",
       "    // Prevent repeat events\n",
       "    if (name == 'key_press')\n",
       "    {\n",
       "        if (event.which === this._key)\n",
       "            return;\n",
       "        else\n",
       "            this._key = event.which;\n",
       "    }\n",
       "    if (name == 'key_release')\n",
       "        this._key = null;\n",
       "\n",
       "    var value = '';\n",
       "    if (event.ctrlKey && event.which != 17)\n",
       "        value += \"ctrl+\";\n",
       "    if (event.altKey && event.which != 18)\n",
       "        value += \"alt+\";\n",
       "    if (event.shiftKey && event.which != 16)\n",
       "        value += \"shift+\";\n",
       "\n",
       "    value += 'k';\n",
       "    value += event.which.toString();\n",
       "\n",
       "    this._key_event_extra(event, name);\n",
       "\n",
       "    this.send_message(name, {key: value,\n",
       "                             guiEvent: simpleKeys(event)});\n",
       "    return false;\n",
       "}\n",
       "\n",
       "mpl.figure.prototype.toolbar_button_onclick = function(name) {\n",
       "    if (name == 'download') {\n",
       "        this.handle_save(this, null);\n",
       "    } else {\n",
       "        this.send_message(\"toolbar_button\", {name: name});\n",
       "    }\n",
       "};\n",
       "\n",
       "mpl.figure.prototype.toolbar_button_onmouseover = function(tooltip) {\n",
       "    this.message.textContent = tooltip;\n",
       "};\n",
       "mpl.toolbar_items = [[\"Home\", \"Reset original view\", \"fa fa-home icon-home\", \"home\"], [\"Back\", \"Back to  previous view\", \"fa fa-arrow-left icon-arrow-left\", \"back\"], [\"Forward\", \"Forward to next view\", \"fa fa-arrow-right icon-arrow-right\", \"forward\"], [\"\", \"\", \"\", \"\"], [\"Pan\", \"Pan axes with left mouse, zoom with right\", \"fa fa-arrows icon-move\", \"pan\"], [\"Zoom\", \"Zoom to rectangle\", \"fa fa-square-o icon-check-empty\", \"zoom\"], [\"\", \"\", \"\", \"\"], [\"Download\", \"Download plot\", \"fa fa-floppy-o icon-save\", \"download\"]];\n",
       "\n",
       "mpl.extensions = [\"eps\", \"jpeg\", \"pdf\", \"png\", \"ps\", \"raw\", \"svg\", \"tif\"];\n",
       "\n",
       "mpl.default_extension = \"png\";var comm_websocket_adapter = function(comm) {\n",
       "    // Create a \"websocket\"-like object which calls the given IPython comm\n",
       "    // object with the appropriate methods. Currently this is a non binary\n",
       "    // socket, so there is still some room for performance tuning.\n",
       "    var ws = {};\n",
       "\n",
       "    ws.close = function() {\n",
       "        comm.close()\n",
       "    };\n",
       "    ws.send = function(m) {\n",
       "        //console.log('sending', m);\n",
       "        comm.send(m);\n",
       "    };\n",
       "    // Register the callback with on_msg.\n",
       "    comm.on_msg(function(msg) {\n",
       "        //console.log('receiving', msg['content']['data'], msg);\n",
       "        // Pass the mpl event to the overriden (by mpl) onmessage function.\n",
       "        ws.onmessage(msg['content']['data'])\n",
       "    });\n",
       "    return ws;\n",
       "}\n",
       "\n",
       "mpl.mpl_figure_comm = function(comm, msg) {\n",
       "    // This is the function which gets called when the mpl process\n",
       "    // starts-up an IPython Comm through the \"matplotlib\" channel.\n",
       "\n",
       "    var id = msg.content.data.id;\n",
       "    // Get hold of the div created by the display call when the Comm\n",
       "    // socket was opened in Python.\n",
       "    var element = $(\"#\" + id);\n",
       "    var ws_proxy = comm_websocket_adapter(comm)\n",
       "\n",
       "    function ondownload(figure, format) {\n",
       "        window.open(figure.imageObj.src);\n",
       "    }\n",
       "\n",
       "    var fig = new mpl.figure(id, ws_proxy,\n",
       "                           ondownload,\n",
       "                           element.get(0));\n",
       "\n",
       "    // Call onopen now - mpl needs it, as it is assuming we've passed it a real\n",
       "    // web socket which is closed, not our websocket->open comm proxy.\n",
       "    ws_proxy.onopen();\n",
       "\n",
       "    fig.parent_element = element.get(0);\n",
       "    fig.cell_info = mpl.find_output_cell(\"<div id='\" + id + \"'></div>\");\n",
       "    if (!fig.cell_info) {\n",
       "        console.error(\"Failed to find cell for figure\", id, fig);\n",
       "        return;\n",
       "    }\n",
       "\n",
       "    var output_index = fig.cell_info[2]\n",
       "    var cell = fig.cell_info[0];\n",
       "\n",
       "};\n",
       "\n",
       "mpl.figure.prototype.handle_close = function(fig, msg) {\n",
       "    var width = fig.canvas.width/mpl.ratio\n",
       "    fig.root.unbind('remove')\n",
       "\n",
       "    // Update the output cell to use the data from the current canvas.\n",
       "    fig.push_to_output();\n",
       "    var dataURL = fig.canvas.toDataURL();\n",
       "    // Re-enable the keyboard manager in IPython - without this line, in FF,\n",
       "    // the notebook keyboard shortcuts fail.\n",
       "    IPython.keyboard_manager.enable()\n",
       "    $(fig.parent_element).html('<img src=\"' + dataURL + '\" width=\"' + width + '\">');\n",
       "    fig.close_ws(fig, msg);\n",
       "}\n",
       "\n",
       "mpl.figure.prototype.close_ws = function(fig, msg){\n",
       "    fig.send_message('closing', msg);\n",
       "    // fig.ws.close()\n",
       "}\n",
       "\n",
       "mpl.figure.prototype.push_to_output = function(remove_interactive) {\n",
       "    // Turn the data on the canvas into data in the output cell.\n",
       "    var width = this.canvas.width/mpl.ratio\n",
       "    var dataURL = this.canvas.toDataURL();\n",
       "    this.cell_info[1]['text/html'] = '<img src=\"' + dataURL + '\" width=\"' + width + '\">';\n",
       "}\n",
       "\n",
       "mpl.figure.prototype.updated_canvas_event = function() {\n",
       "    // Tell IPython that the notebook contents must change.\n",
       "    IPython.notebook.set_dirty(true);\n",
       "    this.send_message(\"ack\", {});\n",
       "    var fig = this;\n",
       "    // Wait a second, then push the new image to the DOM so\n",
       "    // that it is saved nicely (might be nice to debounce this).\n",
       "    setTimeout(function () { fig.push_to_output() }, 1000);\n",
       "}\n",
       "\n",
       "mpl.figure.prototype._init_toolbar = function() {\n",
       "    var fig = this;\n",
       "\n",
       "    var nav_element = $('<div/>')\n",
       "    nav_element.attr('style', 'width: 100%');\n",
       "    this.root.append(nav_element);\n",
       "\n",
       "    // Define a callback function for later on.\n",
       "    function toolbar_event(event) {\n",
       "        return fig.toolbar_button_onclick(event['data']);\n",
       "    }\n",
       "    function toolbar_mouse_event(event) {\n",
       "        return fig.toolbar_button_onmouseover(event['data']);\n",
       "    }\n",
       "\n",
       "    for(var toolbar_ind in mpl.toolbar_items){\n",
       "        var name = mpl.toolbar_items[toolbar_ind][0];\n",
       "        var tooltip = mpl.toolbar_items[toolbar_ind][1];\n",
       "        var image = mpl.toolbar_items[toolbar_ind][2];\n",
       "        var method_name = mpl.toolbar_items[toolbar_ind][3];\n",
       "\n",
       "        if (!name) { continue; };\n",
       "\n",
       "        var button = $('<button class=\"btn btn-default\" href=\"#\" title=\"' + name + '\"><i class=\"fa ' + image + ' fa-lg\"></i></button>');\n",
       "        button.click(method_name, toolbar_event);\n",
       "        button.mouseover(tooltip, toolbar_mouse_event);\n",
       "        nav_element.append(button);\n",
       "    }\n",
       "\n",
       "    // Add the status bar.\n",
       "    var status_bar = $('<span class=\"mpl-message\" style=\"text-align:right; float: right;\"/>');\n",
       "    nav_element.append(status_bar);\n",
       "    this.message = status_bar[0];\n",
       "\n",
       "    // Add the close button to the window.\n",
       "    var buttongrp = $('<div class=\"btn-group inline pull-right\"></div>');\n",
       "    var button = $('<button class=\"btn btn-mini btn-primary\" href=\"#\" title=\"Stop Interaction\"><i class=\"fa fa-power-off icon-remove icon-large\"></i></button>');\n",
       "    button.click(function (evt) { fig.handle_close(fig, {}); } );\n",
       "    button.mouseover('Stop Interaction', toolbar_mouse_event);\n",
       "    buttongrp.append(button);\n",
       "    var titlebar = this.root.find($('.ui-dialog-titlebar'));\n",
       "    titlebar.prepend(buttongrp);\n",
       "}\n",
       "\n",
       "mpl.figure.prototype._root_extra_style = function(el){\n",
       "    var fig = this\n",
       "    el.on(\"remove\", function(){\n",
       "\tfig.close_ws(fig, {});\n",
       "    });\n",
       "}\n",
       "\n",
       "mpl.figure.prototype._canvas_extra_style = function(el){\n",
       "    // this is important to make the div 'focusable\n",
       "    el.attr('tabindex', 0)\n",
       "    // reach out to IPython and tell the keyboard manager to turn it's self\n",
       "    // off when our div gets focus\n",
       "\n",
       "    // location in version 3\n",
       "    if (IPython.notebook.keyboard_manager) {\n",
       "        IPython.notebook.keyboard_manager.register_events(el);\n",
       "    }\n",
       "    else {\n",
       "        // location in version 2\n",
       "        IPython.keyboard_manager.register_events(el);\n",
       "    }\n",
       "\n",
       "}\n",
       "\n",
       "mpl.figure.prototype._key_event_extra = function(event, name) {\n",
       "    var manager = IPython.notebook.keyboard_manager;\n",
       "    if (!manager)\n",
       "        manager = IPython.keyboard_manager;\n",
       "\n",
       "    // Check for shift+enter\n",
       "    if (event.shiftKey && event.which == 13) {\n",
       "        this.canvas_div.blur();\n",
       "        // select the cell after this one\n",
       "        var index = IPython.notebook.find_cell_index(this.cell_info[0]);\n",
       "        IPython.notebook.select(index + 1);\n",
       "    }\n",
       "}\n",
       "\n",
       "mpl.figure.prototype.handle_save = function(fig, msg) {\n",
       "    fig.ondownload(fig, null);\n",
       "}\n",
       "\n",
       "\n",
       "mpl.find_output_cell = function(html_output) {\n",
       "    // Return the cell and output element which can be found *uniquely* in the notebook.\n",
       "    // Note - this is a bit hacky, but it is done because the \"notebook_saving.Notebook\"\n",
       "    // IPython event is triggered only after the cells have been serialised, which for\n",
       "    // our purposes (turning an active figure into a static one), is too late.\n",
       "    var cells = IPython.notebook.get_cells();\n",
       "    var ncells = cells.length;\n",
       "    for (var i=0; i<ncells; i++) {\n",
       "        var cell = cells[i];\n",
       "        if (cell.cell_type === 'code'){\n",
       "            for (var j=0; j<cell.output_area.outputs.length; j++) {\n",
       "                var data = cell.output_area.outputs[j];\n",
       "                if (data.data) {\n",
       "                    // IPython >= 3 moved mimebundle to data attribute of output\n",
       "                    data = data.data;\n",
       "                }\n",
       "                if (data['text/html'] == html_output) {\n",
       "                    return [cell, data, j];\n",
       "                }\n",
       "            }\n",
       "        }\n",
       "    }\n",
       "}\n",
       "\n",
       "// Register the function which deals with the matplotlib target/channel.\n",
       "// The kernel may be null if the page has been refreshed.\n",
       "if (IPython.notebook.kernel != null) {\n",
       "    IPython.notebook.kernel.comm_manager.register_target('matplotlib', mpl.mpl_figure_comm);\n",
       "}\n"
      ],
      "text/plain": [
       "<IPython.core.display.Javascript object>"
      ]
     },
     "metadata": {},
     "output_type": "display_data"
    },
    {
     "data": {
      "text/html": [
       "<img src=\"data:image/png;base64,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\" width=\"639.8333142648146\">"
      ],
      "text/plain": [
       "<IPython.core.display.HTML object>"
      ]
     },
     "metadata": {},
     "output_type": "display_data"
    },
    {
     "data": {
      "text/plain": [
       "<matplotlib.legend.Legend at 0x1bdc509d160>"
      ]
     },
     "execution_count": 16,
     "metadata": {},
     "output_type": "execute_result"
    }
   ],
   "source": [
    "fig3 = plt.figure()\n",
    "ax3 = fig3.add_subplot(1,1,1)\n",
    "ax3.plot(time, substrate_conc)\n",
    "ax3.plot(time, product_conc)\n",
    "ax3.plot(time, rate)\n",
    "ax3.set_xlabel(\"Time (s)\")\n",
    "ax3.set_ylabel(\"Values\")\n",
    "ax3.legend([\"[S]\", \"[P]\", \"Rate\"])"
   ]
  },
  {
   "cell_type": "code",
   "execution_count": null,
   "metadata": {
    "collapsed": true
   },
   "outputs": [],
   "source": []
  }
 ],
 "metadata": {
  "celltoolbar": "Raw Cell Format",
  "kernelspec": {
   "display_name": "Python 3",
   "language": "python",
   "name": "python3"
  },
  "language_info": {
   "codemirror_mode": {
    "name": "ipython",
    "version": 3
   },
   "file_extension": ".py",
   "mimetype": "text/x-python",
   "name": "python",
   "nbconvert_exporter": "python",
   "pygments_lexer": "ipython3",
   "version": "3.5.4"
  }
 },
 "nbformat": 4,
 "nbformat_minor": 2
}

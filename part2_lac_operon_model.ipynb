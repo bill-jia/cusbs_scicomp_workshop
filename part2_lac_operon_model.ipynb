{
 "cells": [
  {
   "cell_type": "markdown",
   "metadata": {},
   "source": [
    "<i> Prepared by Bill Jia, Ilya Manyakin, and Andre Zylstra </i>"
   ]
  },
  {
   "cell_type": "markdown",
   "metadata": {},
   "source": [
    "# Modelling a pathway with regulation"
   ]
  },
  {
   "cell_type": "markdown",
   "metadata": {},
   "source": [
    "Most biological systems are more complicated than a single Michaelis-Menten equation. A cell contains numerous metabolic pathways with many steps, and many employ regulation mechanisms to ensure homeostasis in a changing environment. If we can develop a set of theoretically- or empirically-derived equations for a pathway, we can obtain parameters for each component through relatively simple wet-lab experiments and use them to predict the behaviour of the entire pathway in an arbitrary scenario."
   ]
  },
  {
   "cell_type": "markdown",
   "metadata": {},
   "source": [
    "## The <i>lac</i> operon"
   ]
  },
  {
   "cell_type": "markdown",
   "metadata": {},
   "source": [
    "A classic example of a pathway with regulation is the <i>lac</i> operon in <i>E. coli</i>. It is a set of genes used to acquire lactose from the cell's environment and break it down into simpler sugars that can be used as energy. However, manufacturing the enzymes required is a waste of energy if lactose is not present, or if simpler sugars are already available. So the cell needs some sort of regulation to determine the appropriate situation to express the genes in the operon."
   ]
  },
  {
   "cell_type": "markdown",
   "metadata": {},
   "source": [
    "<img src=https://i.ytimg.com/vi/YGsLrS_5B6M/maxresdefault.jpg width=480/>\n",
    "From https://i.ytimg.com/vi/YGsLrS_5B6M/maxresdefault.jpg\n",
    "<img src=http://fig.cox.miami.edu/~cmallery/150/gene/c8.18x4b.lac.operon.jpg />\n",
    "From http://fig.cox.miami.edu/~cmallery/150/gene/c8.18x4b.lac.operon.jpg"
   ]
  },
  {
   "cell_type": "markdown",
   "metadata": {},
   "source": [
    "There are three genes in the operon important for its homeostasis:\n",
    "\n",
    "1. <i>lacI</i> is a repressor for the other genes in the operon. In its active form, it binds to the operator sequence and prevents transcription. The repressor also binds to allolactose, an isomer of lactose, which renders it inactive and allows transcription to proceed. <i>lacI</i> is constantly expressed at a low level.\n",
    "\n",
    "2. <i>lacZ</i> produces $\\beta$-galactosidase, an enzyme that has a high affinity for lactose as a substrate. It breaks down lactose into glucose and galactose (usable as energy) but serves the additional function of isomerizing lactose to allolactose via a transgalactosylation reaction. <i>LacZ</i> also breaks down allolactose into the same products.\n",
    "\n",
    "3. <i>lacY</i> produces lactose permease, which greatly increases the transport rate of lactose across the cell membrane. Without permease, lactose normally diffuses very slowly across the membrane.\n",
    "\n",
    "The genes produce three feedback effects that allow the cell to reach steady state at an arbitrary level of lactose input:\n",
    "\n",
    "1. LacY allows more lactose into the cell, which is converted by LacZ into allolactose, inactivating more LacI and allowing increased expression of <i>lacY</i> (positive feedback).\n",
    "2. LacZ converts lactose into allolactose, binding more LacI and allowing increased expression of <i>lacZ</i> (positive feedback).\n",
    "3. LacZ hydrolyses allolactose, reducing the amount of bound LacI and decreasing expression of <i>lacZ</i> and <i>lacY</i> (negative feedback).\n",
    "\n",
    "There is another negative feedback mechanism that involves the total amount of ATP within the cell, but we will ignore it for the sake of simplicity. Ultimately, the effect of the operon is such that the cell will consume lactose at a rate equal to its availability.\n",
    "\n",
    "Intuitively, it is possible to draw a flow chart that represents the feedback system. However, if we can describe the behaviour of these genes, as well as that of intracellular lactose and allolactose, using a set of differential equations, we should be able to get a more precise description of the system dynamics through numerical modelling as we did before. \n",
    "\n",
    "The <i>lac</i> operon is very well-characterized and has many applications in biotechnology, so it is natural that models already exist for the system. The model we will be working with is adapted from the following paper:\n",
    "\n",
    "    Necmettin Yildirim, Michael C. Mackey, Feedback Regulation in the Lactose Operon: A Mathematical Modeling Study and Comparison with Experimental Data, In Biophysical Journal, Volume 84, Issue 5, 2003, Pages 2841-2851, ISSN 0006-3495, https://doi.org/10.1016/S0006-3495(03)70013-7.\n",
    "    (http://www.sciencedirect.com/science/article/pii/S0006349503700137)"
   ]
  },
  {
   "cell_type": "markdown",
   "metadata": {},
   "source": [
    "## Developing the governing equations"
   ]
  },
  {
   "cell_type": "markdown",
   "metadata": {},
   "source": [
    "Let's start by writing the relevant (pseudo)-chemical equations for each reaction involved in our model."
   ]
  },
  {
   "cell_type": "markdown",
   "metadata": {},
   "source": [
    "\\begin{align}\n",
    "DNAP + DNA \\to DNAP + DNA + mRNA \\quad(1)\\\\\n",
    "mRNA + RB \\to mRNA + RB + LacY + LacZ \\quad(2)\\\\\n",
    "LacI + DNA \\leftrightarrow LacI:DNA  \\quad(3)\\\\\n",
    "LacI + A \\leftrightarrow LacI:A \\quad(4)\\\\\n",
    "LacY + L_e \\leftrightarrow LacY:L_e \\to LacY + L_i \\quad(5)\\\\\n",
    "LacY + L_i \\leftrightarrow LacY:L_i \\to LacY + L_e \\quad(6)\\\\\n",
    "LacZ + L_i \\leftrightarrow LacZ:L_i \\to LacZ + A \\quad(7)\\\\\n",
    "LacZ + L_i \\leftrightarrow LacZ:L_i \\to LacZ + Ga + Gl \\quad(8)\\\\ \n",
    "LacZ + A \\leftrightarrow LacZ:A \\to LacZ + Ga + Gl \\quad(9)\\\\\n",
    "\\end{align}"
   ]
  },
  {
   "cell_type": "markdown",
   "metadata": {},
   "source": [
    "Here's what the equations represent biologically:\n",
    "* 1-2: the transcription and translation of LacY and LacZ\n",
    "* 3-4: the repression activity of LacI\n",
    "* 5-6: the transport of lactose across the membrane by LacY\n",
    "* 7-9: the activity of LacZ in isomerizing and catabolizing lactose\n",
    "\n",
    "It is clear that equations 5-9 can be modelled with the Michaelis-Menten equation. By obtaining their Michaelis-Menten rates, we can see how they affect the concentrations of each chemical species in the system. Subsequently, we can write a differential equation for the concentration of each species by summing rates for all reactions it is involved in, and then numerically model. We can also make a set of simplifying assumptions to make equations 1-4 easier to work with. Additionally, the chemically hostile environment of the cell means that we must account for degradation of each species, which we will assume to be directly proportional to their concentrations. \n",
    "\n"
   ]
  },
  {
   "cell_type": "markdown",
   "metadata": {},
   "source": [
    "$$\n",
    "\\frac{\\mathrm{d[P]}}{\\mathrm{d}t} = \\frac{V_{max}\\mathrm{[S]}}{K_m + \\mathrm{[S]}}\\\\\n",
    "V_{max} = K_{cat}[E]\n",
    "$$"
   ]
  },
  {
   "cell_type": "markdown",
   "metadata": {},
   "source": [
    "Let's write down the species involved. We can ignore those that remain at steady state throughout the simulation ($DNA, DNAP, RB, LacI, L_e$), because their rates of change can be assumed to be zero at all times:\n",
    "\n",
    "$$\n",
    "mRNA, LacY, LacZ, L_i, A, Ga, Gl\n",
    "$$\n",
    "\n",
    "This means we need to consider seven differential equations. <i> Note the Michaelis-Menten terms that pop up in several of the equations</i>."
   ]
  },
  {
   "cell_type": "markdown",
   "metadata": {},
   "source": [
    "$$\n",
    "\\frac{dM}{dt} = k_{tx}\\frac{1 + K_{LacI-A}A^n}{K_{LacI-O} + K_{LacI-A}A^n} - k_{deg,M}M\n",
    "$$\n",
    "\n",
    "The first differential equation we will consider is that of the operon mRNA. The first term describes the transcription as a function of allolactose concentration, assuming that the total amount of LacI is large relative to the amount that binds to the operator. The constant $k_{tx}$ is the rate of transcription assuming all operators are unbound; $K_{LacI-A}$ and $K_{LacI-O}$ represent the association constants between LacI and allolactose or the operator sequence respectively. $n$ is the number of allolactose molecules required to inactivate LacI (also known as the Hill coefficient). Some of you might be familiar with the idea of leaky expression - even when the operator is fully repressed, some transcription occurs. What happens when you set allolactose concentration in this expression to zero?\n",
    "\n",
    "The second term describes the chemical degradation rate of mRNA due to instability."
   ]
  },
  {
   "cell_type": "markdown",
   "metadata": {},
   "source": [
    "$$\n",
    "\\frac{d[LacZ]}{dt} = k_{exp,LacZ}M - k_{deg,LacY}[LacZ] \\\\\n",
    "\\frac{d[LacY]}{dt} = k_{exp,LacY}M - k_{deg,LacY}[LacY]\n",
    "$$"
   ]
  },
  {
   "cell_type": "markdown",
   "metadata": {},
   "source": [
    "The next set of equations describes the expression of the proteins LacZ and LacY. The first term describes translation and processing of proteins as a function of mRNA concentration, and the second term describes degradation and dilution as above."
   ]
  },
  {
   "cell_type": "markdown",
   "metadata": {},
   "source": [
    "$$\n",
    "\\frac{dA}{dt} = k_{cat,transg}[LacZ]\\frac{L}{K_{m,LacZ-L} + L} - k_{cat,A}[LacZ]\\frac{A}{K_{m,LacZ-A} + A} -  k_{deg,A}A\n",
    "$$"
   ]
  },
  {
   "cell_type": "markdown",
   "metadata": {},
   "source": [
    "The fourth equation is for allolactose. The first term describes the transgalactosylation of lactose as a reaction with Michaelis-Menten kinetics. The second term similarly represents the hydrolysis of allolactose, and the third term is for degradation."
   ]
  },
  {
   "cell_type": "markdown",
   "metadata": {},
   "source": [
    "$$\n",
    "\\frac{dL}{dt} = k_{cat,import}[LacY]\\frac{L_{ext}}{K_{m,LacY-L_{ext}} + L_{ext}} - (k_{cat,transg} + k_{cat,L})[LacZ]\\frac{L}{K_{m,LacZ-L} + L} - k_{deg,L}L\n",
    "$$"
   ]
  },
  {
   "cell_type": "markdown",
   "metadata": {},
   "source": [
    "The fifth equation describes the kinetics of lactose. The first term describes the action of LacY in importing lactose. The second term describes the hydrolysis of lactose catalyzed by LacZ. The third term describes the transgalactosylation and hydrolysis of lactose via LacZ."
   ]
  },
  {
   "cell_type": "markdown",
   "metadata": {},
   "source": [
    "$$\n",
    "\\frac{dGa}{dt} = \\frac{dG}{dt} = k_{cat,A}[LacZ]\\frac{A}{K_{m,LacZ-A} + A} + k_{cat,L}[LacZ]\\frac{L}{K_{m,LacZ-L} + L} - k_{deg,G}G\n",
    "$$"
   ]
  },
  {
   "cell_type": "markdown",
   "metadata": {},
   "source": [
    "Glucose and galactose can be assumed to have identical kinetics, because one molecule of each is produced from the hydrolysis of a lactose or allolactose molecule. In this case, the degradation rate accounts for the consumption of energy by the cell. In reality, one of glucose and galactose would be metabolized preferentially, but here we will assume they are equally metabolized for simplicity."
   ]
  },
  {
   "cell_type": "markdown",
   "metadata": {},
   "source": [
    "## Model assumptions and abstractions"
   ]
  },
  {
   "cell_type": "markdown",
   "metadata": {},
   "source": [
    "Making certain assumptions can often simplify a model computationally or mathematically, at the expense of accuracy in describing the underlying system. It's important to think about this tradeoff when developing a model, and to understand the assumptions that you're making. What are some of the major assumptions and abstractions in this model?"
   ]
  },
  {
   "cell_type": "markdown",
   "metadata": {},
   "source": [
    "* The total amount of repressor LacI is much larger than the quantity bound to the operator, so transcription can be modelled as a function of allolactose concentration only.\n",
    "* LacI bound to allolactose has <b>zero</b> repressive activity.\n",
    "* There is no cell growth or division.\n",
    "* LacY only imports lactose (in reality it can act in reverse).\n",
    "* The import of lactose through diffusion, independent of LacY, is small.\n",
    "* Synthesis of mRNA and protein is instantaneous.\n",
    "* There is no competitive inhibition between the different substrates of each enzyme.\n",
    "* All enzymes follow Michaelis-Menten kinetics - there are no colocalization effects, etc.\n",
    "* External lactose concentration is held constant by an infinite source."
   ]
  },
  {
   "cell_type": "markdown",
   "metadata": {},
   "source": [
    "## Implementing the equations in Python"
   ]
  },
  {
   "cell_type": "markdown",
   "metadata": {},
   "source": [
    "First start by importing libraries."
   ]
  },
  {
   "cell_type": "code",
   "execution_count": 5,
   "metadata": {
    "collapsed": true
   },
   "outputs": [],
   "source": [
    "import numpy as np\n",
    "import matplotlib.pyplot as plt\n",
    "%matplotlib inline"
   ]
  },
  {
   "cell_type": "markdown",
   "metadata": {},
   "source": [
    "Next, we define the parameters required for the equations. These are usually derived from experimental data, or reasonable assumptions."
   ]
  },
  {
   "cell_type": "code",
   "execution_count": 6,
   "metadata": {
    "collapsed": true
   },
   "outputs": [],
   "source": [
    "# Rate constants (accounting for dilution)\n",
    "#k_cat in min^-1, k_m in mM, k_i in mM\n",
    "\n",
    "k_tx = 9.97e-4\n",
    "k_eq_laci_a = 2.52e4\n",
    "k_eq_rep_op = 7200\n",
    "hill_coefficient = 2\n",
    "k_deg_mrna = 0.411\n",
    "\n",
    "k_exp_lacz = 1.66e-2\n",
    "k_deg_lacz = 8.33e-4\n",
    "\n",
    "k_exp_lacy = 10\n",
    "k_deg_lacy = 0.65\n",
    "\n",
    "k_m_lacz_l = 0.97\n",
    "k_m_lacz_a = 1.95\n",
    "k_i_lacz_l = 1.15\n",
    "k_i_lacz_a = 2.3\n",
    "\n",
    "\n",
    "k_cat_transg = 8.46e3\n",
    "k_cat_hydrolysis_a = 2.15e4\n",
    "k_deg_a = 0.52\n",
    "\n",
    "k_cat_lacy_import = 2880\n",
    "k_m_lacy_import = 0.26\n",
    "\n",
    "k_cat_hydrolysis_l = 9.54e3\n",
    "k_deg_l = 0.0\n",
    "\n",
    "k_deg_ga = 1.4\n",
    "\n"
   ]
  },
  {
   "cell_type": "markdown",
   "metadata": {},
   "source": [
    "Finally, we define the time step size and the end time of the simulation - we don't want it to take forever to calculate!"
   ]
  },
  {
   "cell_type": "code",
   "execution_count": 1,
   "metadata": {},
   "outputs": [],
   "source": [
    "# Simulation constants\n",
    "\n",
    "dt = 1\n",
    "end_time = 1000"
   ]
  },
  {
   "cell_type": "markdown",
   "metadata": {},
   "source": [
    "Here is a function for the calculation of a Michaelis-Menten rate, that can be recycled for many of the functions you'll need to write."
   ]
  },
  {
   "cell_type": "code",
   "execution_count": 8,
   "metadata": {
    "collapsed": true
   },
   "outputs": [],
   "source": [
    "def mm_rate(substrate_conc, enzyme_conc, K_cat, K_m):\n",
    "    rate = K_cat * enzyme_conc * (substrate_conc / (substrate_conc + K_m))\n",
    "    return rate"
   ]
  },
  {
   "cell_type": "markdown",
   "metadata": {},
   "source": [
    "Now you need to define functions for the rates that will be calculated at each time step, according to the governing equations. As a reminder:\n",
    "\n",
    "$$\n",
    "\\frac{dM}{dt} = k_{tx}\\frac{1 + K_{LacI-A}A^n}{K_{LacI-O} + K_{lacI-A}A^n} - k_{deg,M}M \\\\\n",
    "\\frac{d[LacZ]}{dt} = k_{exp,LacZ}M - k_{deg,LacY}[LacZ] \\\\\n",
    "\\frac{d[LacY]}{dt} = k_{exp,LacY}M - k_{deg,LacY}[LacY] \\\\\n",
    "\\frac{dA}{dt} = k_{cat,transg}[LacZ]\\frac{L}{K_{m,LacZ-L} + L} - k_{cat,A}[LacZ]\\frac{A}{K_{m,LacZ-A} + A} -  k_{deg,A}A \\\\\n",
    "\\frac{dL}{dt} = k_{cat,import}[LacY]\\frac{L_{ext}}{K_{m,LacY-L_{ext}} + L_{ext}} - (k_{cat,transg} + k_{cat,L})[LacZ]\\frac{L}{K_{m,LacZ-L} + L} - k_{deg,L}L \\\\\n",
    "\\frac{dGa}{dt} = \\frac{dG}{dt} = k_{cat,A}[LacZ]\\frac{A}{K_{m,LacZ-A} + A} + k_{cat,L}[LacZ]\\frac{L}{K_{m,LacZ-L} + L} - k_{deg,G}G\n",
    "$$"
   ]
  },
  {
   "cell_type": "code",
   "execution_count": 9,
   "metadata": {},
   "outputs": [
    {
     "ename": "IndentationError",
     "evalue": "expected an indented block (<ipython-input-9-11312efbfb6c>, line 8)",
     "output_type": "error",
     "traceback": [
      "\u001b[1;36m  File \u001b[1;32m\"<ipython-input-9-11312efbfb6c>\"\u001b[1;36m, line \u001b[1;32m8\u001b[0m\n\u001b[1;33m    def LacZ_rate(LacZ, mRNA):\u001b[0m\n\u001b[1;37m      ^\u001b[0m\n\u001b[1;31mIndentationError\u001b[0m\u001b[1;31m:\u001b[0m expected an indented block\n"
     ]
    }
   ],
   "source": [
    "def mRNA_rate(mRNA, A):\n",
    "    # CONSTANTS: k_tx, k_deg_mrna, hill_coefficient,\n",
    "    # k_eq_laci_a, k_eq_rep_op\n",
    "    # YOUR CODE HERE\n",
    "\n",
    "\n",
    "\n",
    "def LacZ_rate(LacZ, mRNA):\n",
    "    # CONSTANTS: k_exp_lacz, k_deg_lacz\n",
    "    # YOUR CODE HERE\n",
    "\n",
    "\n",
    "def LacY_rate(LacY, mRNA):\n",
    "    # CONSTANTS: k_exp_lacy, k_deg_lacy\n",
    "    # YOUR CODE HERE\n",
    "\n",
    "\n",
    "def A_rate(L, A, LacZ):\n",
    "    # CONSTANTS: k_m_lacz_l, k_m_lacz_a, k_cat_hydrolysis_a\n",
    "    # k_cat_transg, k_deg_a\n",
    "    # YOUR CODE HERE\n",
    "\n",
    "\n",
    "def L_rate(L, LacY, LacZ):\n",
    "    # CONSTANTS: k_m_lacz_l, k_cat_lacy_import, k_m_lacy_import, k_cat_hydrolysis_l, k_cat_transg, k_deg_l\n",
    "    # YOUR CODE HERE\n",
    "\n",
    "\n",
    "def Ga_rate(L, A, Ga, LacZ):\n",
    "    # CONSTANTS: k_m_lacz_l, k_m_lacz_a, k_cat_hydrolysis_l,\n",
    "    # k_cat_hydrolysis_a, k_deg_ga\n",
    "    # YOUR CODE HERE\n"
   ]
  },
  {
   "cell_type": "markdown",
   "metadata": {},
   "source": [
    "Next, we need to define the initial coniditions of the simulation. To start with, let's assume that the external lactose concentration remains constant throughout the simulation at 0.08mM, and that there are some low and arbitrary quantities of operon mRNA, LacZ, and LacY that represent the steady state before lactose is introduced to the system (i.e. under leaky expression)."
   ]
  },
  {
   "cell_type": "code",
   "execution_count": 10,
   "metadata": {
    "collapsed": true
   },
   "outputs": [],
   "source": [
    "# Chemical species involved (in mM)\n",
    "L_ext = 8e-2\n",
    "L = [0]\n",
    "A = [0]\n",
    "Gl = [0]\n",
    "Ga = [0]\n",
    "\n",
    "mRNA = [3.35e-7]\n",
    "LacZ = [2e-6]\n",
    "LacY = [5.2e-6]"
   ]
  },
  {
   "cell_type": "markdown",
   "metadata": {},
   "source": [
    "Next, let's write a for loop that iterates through time and solves these equations. (Hint: you can access the last index in a list using `list_name[-1]`)"
   ]
  },
  {
   "cell_type": "code",
   "execution_count": 3,
   "metadata": {
    "collapsed": true
   },
   "outputs": [],
   "source": [
    "time = np.arange(0, end_time, step=dt)\n",
    "for i in np.arange(0, end_time-dt, step=dt):\n",
    "    ### YOUR CODE HERE\n"
   ]
  },
  {
   "cell_type": "markdown",
   "metadata": {},
   "source": [
    "Finally, we can plot the results. The code for doing so is already provided. Note that glucose and galactose are produced in equal proportions by the hydrolysis of lactose, and we are not accounting for downstream metabolism. So for our purposes, it is enough to plot one of them."
   ]
  },
  {
   "cell_type": "code",
   "execution_count": 11,
   "metadata": {},
   "outputs": [
    {
     "name": "stdout",
     "output_type": "stream",
     "text": [
      "('Lactose (mM)', 0)\n",
      "('Allolactose (mM)', 0)\n",
      "('Galactose (mM)', 0)\n",
      "('mRNA (mM)', 3e-07)\n",
      "('LacY (mM)', 4e-06)\n",
      "('LacZ (mM)', 2e-06)\n"
     ]
    },
    {
     "ename": "NameError",
     "evalue": "name 'time' is not defined",
     "output_type": "error",
     "traceback": [
      "\u001b[1;31m---------------------------------------------------------------------------\u001b[0m",
      "\u001b[1;31mNameError\u001b[0m                                 Traceback (most recent call last)",
      "\u001b[1;32m<ipython-input-11-f1eee67348bf>\u001b[0m in \u001b[0;36m<module>\u001b[1;34m()\u001b[0m\n\u001b[0;32m     10\u001b[0m \u001b[0mfig1\u001b[0m \u001b[1;33m=\u001b[0m \u001b[0mplt\u001b[0m\u001b[1;33m.\u001b[0m\u001b[0mfigure\u001b[0m\u001b[1;33m(\u001b[0m\u001b[0mfigsize\u001b[0m\u001b[1;33m=\u001b[0m\u001b[1;33m(\u001b[0m\u001b[1;36m10\u001b[0m\u001b[1;33m,\u001b[0m\u001b[1;36m10\u001b[0m\u001b[1;33m)\u001b[0m\u001b[1;33m)\u001b[0m\u001b[1;33m\u001b[0m\u001b[0m\n\u001b[0;32m     11\u001b[0m \u001b[0max1\u001b[0m \u001b[1;33m=\u001b[0m \u001b[0mfig1\u001b[0m\u001b[1;33m.\u001b[0m\u001b[0madd_subplot\u001b[0m\u001b[1;33m(\u001b[0m\u001b[1;36m2\u001b[0m\u001b[1;33m,\u001b[0m\u001b[1;36m1\u001b[0m\u001b[1;33m,\u001b[0m\u001b[1;36m1\u001b[0m\u001b[1;33m)\u001b[0m\u001b[1;33m\u001b[0m\u001b[0m\n\u001b[1;32m---> 12\u001b[1;33m \u001b[0max1\u001b[0m\u001b[1;33m.\u001b[0m\u001b[0mplot\u001b[0m\u001b[1;33m(\u001b[0m\u001b[0mtime\u001b[0m\u001b[1;33m,\u001b[0m \u001b[0mL\u001b[0m\u001b[1;33m)\u001b[0m\u001b[1;33m\u001b[0m\u001b[0m\n\u001b[0m\u001b[0;32m     13\u001b[0m \u001b[0max1\u001b[0m\u001b[1;33m.\u001b[0m\u001b[0mplot\u001b[0m\u001b[1;33m(\u001b[0m\u001b[0mtime\u001b[0m\u001b[1;33m,\u001b[0m \u001b[0mA\u001b[0m\u001b[1;33m)\u001b[0m\u001b[1;33m\u001b[0m\u001b[0m\n\u001b[0;32m     14\u001b[0m \u001b[0max1\u001b[0m\u001b[1;33m.\u001b[0m\u001b[0mplot\u001b[0m\u001b[1;33m(\u001b[0m\u001b[0mtime\u001b[0m\u001b[1;33m,\u001b[0m \u001b[0mGa\u001b[0m\u001b[1;33m)\u001b[0m\u001b[1;33m\u001b[0m\u001b[0m\n",
      "\u001b[1;31mNameError\u001b[0m: name 'time' is not defined"
     ]
    },
    {
     "data": {
      "image/png": "[encoded data removed]",
      "text/plain": [
       "<matplotlib.figure.Figure at 0x1caaca5ce80>"
      ]
     },
     "metadata": {},
     "output_type": "display_data"
    }
   ],
   "source": [
    "# Print end concentrations (may or may not be steady state)\n",
    "print((\"Lactose (mM)\",L[-1]))\n",
    "print((\"Allolactose (mM)\", A[-1]))\n",
    "print((\"Galactose (mM)\", Ga[-1]))\n",
    "print((\"mRNA (mM)\", mRNA[-1]))\n",
    "print((\"LacY (mM)\", LacY[-1]))\n",
    "print((\"LacZ (mM)\", LacZ[-1]))\n",
    "\n",
    "# Plot metabolite concentrations\n",
    "fig1 = plt.figure(figsize=(10,10))\n",
    "ax1 = fig1.add_subplot(2,1,1)\n",
    "ax1.plot(time, L)\n",
    "ax1.plot(time, A)\n",
    "ax1.plot(time, Ga)\n",
    "ax1.set_xlabel(\"Time (min)\")\n",
    "ax1.set_ylabel(\"Concentration (mM)\")\n",
    "ax1.legend([\"Lactose\", \"Allolactose\",  \"Galactose\"])\n",
    "\n",
    "# Plot enzyme concentrations\n",
    "ax2 = fig1.add_subplot(2,1,2)\n",
    "ax3 = ax2.twinx()\n",
    "ln1 = ax2.plot(time, LacY, color = 'C0', label='LacY')\n",
    "ln2 = ax2.plot(time, LacZ, color = 'C2', label='LacZ')\n",
    "ln3 = ax3.plot(time, mRNA, color ='C1', label='Operon mRNA')\n",
    "ax2.set_xlabel(\"Time (min)\")\n",
    "ax2.set_ylabel(\"LacY/LacZ Concentration (mM)\")\n",
    "ax3.set_ylabel(\"mRNA Concentration (mM)\")\n",
    "\n",
    "lns = ln1+ln2+ln3\n",
    "labs = [l.get_label() for l in lns]\n",
    "ax2.legend(lns, labs, loc=0)\n"
   ]
  },
  {
   "cell_type": "markdown",
   "metadata": {},
   "source": [
    "## Further exploring the model\n",
    "\n",
    "Now that we have a basic working model, we can use it to answer some questions about the system, and further improve its accuracy. Try to answer some of the following questions by modifying your code."
   ]
  },
  {
   "cell_type": "markdown",
   "metadata": {},
   "source": [
    "1. Set external lactose concentration to different levels: 0 mM, $8\\times 10^{-3}$ mM, 0.8 mM, and run the simulation again. What happens?\n",
    "    * This still assumes that the external lactose concentration is constant. How would you code an oscillation in external concentration? How would you expect the system to respond?\n",
    "2. One common experimental approach to understand the effect of an enzyme is to knock it out. How would you represent the knockout of LacY or LacZ in this model? What about LacI?\n",
    "3. Cells are constantly growing and multiplying. From a physical perspective, this can be thought of as continuous dilution of the current cell contents (why?). How would you account for this in the governing equations? (Hint: consider the effect of concentration on the degradation term in each equation and note the similarities and differences)\n",
    "    * Implement the effect of dilution in the model. Run the model with the following initial conditions:\n",
    "        * mRNA = $6.26\\times 10^{-5}$ mM\n",
    "        * LacY = $2\\times 10^{-4}$ mM\n",
    "        * LacZ = $5\\times 10^{-5}$ mM\n",
    "        * $L_e = 0.08 $ mM\n",
    "4. In reality, LacY can work in both directions, transporting lactose into and out of the cell. How would this affect the behaviour of the model?\n",
    "    * In reality, LacY can work in both directions, transporting lactose into and out of the cell. How would this affect the behaviour of the model?\n",
    "    * (After completing 3) Modify the differential equation for lactose and implement the additional term for export in your code. Use $K_{cat}$ = 2650 and $K_m$ = 1.81 for export. Why are these values biologically intuitive? (Hint: consider the corresponding values for lactose import)"
   ]
  },
  {
   "cell_type": "markdown",
   "metadata": {},
   "source": [
    "# Other applications of computing in biology\n"
   ]
  },
  {
   "cell_type": "markdown",
   "metadata": {},
   "source": [
    "### Models of more complex systems can produce some stunning results. Below is a computational model of a genetic circuit that acts as an edge detector, that CUSBS built this year:\n",
    "\n",
    "![Alt Text](https://media.giphy.com/media/3o752jta4KxeN7bvr2/giphy.gif)\n",
    "\n",
    "### Statistical analysis such as hierarchical clustering can be performed on large datasets to uncover correlations between genes and specific genes to study further (D'haeseleer, Nat. Biotech. 2005). (__scipy.cluster__)\n",
    "\n",
    "![alt-text](https://media.nature.com/lw926/nature-assets/nbt/journal/v23/n12/images/nbt1205-1499-F1.gif)\n",
    "\n",
    "### DNA and amino acid sequences can be aligned across species to reveal evolutionary trends (Butt et al., Proc. Royal Soc. 2010). (__biopython__)\n",
    "\n",
    "![](http://rspb.royalsocietypublishing.org/content/royprsb/277/1699/3381/F1.large.jpg?width=800&height=600&carousel=1)\n",
    "\n",
    "### Machine learning can be used to predict functionality based on sequence information (Angermueller et al., Mol. Sys. Bio. 2016). (__pybrain__)\n",
    "\n",
    "![](http://msb.embopress.org/content/msb/12/7/878/F2.large.jpg?width=800&height=600&carousel=1)"
   ]
  },
  {
   "cell_type": "markdown",
   "metadata": {},
   "source": [
    "## Closing remarks"
   ]
  },
  {
   "cell_type": "markdown",
   "metadata": {},
   "source": [
    "We've seen how a biological system can be described through a mathematical model, and how computers enable the practical study of these models through numerical solution of differential equations. Given parameters derived from experimentation, we've used such a model to investigate the dynamics of the <i>lac</i> operon in different situations. It's important to note that while models can be helpful, they are mathematical abstractions of systems that can be complex and stochastic in reality. Models are not always accurate, and can always be improved. We have made some improvements to the first model, but here are some ideas for more ambitious ones:\n",
    "\n",
    "1. Include the modelling of the binding interaction between LacI and allolactose.\n",
    "2. Account for competitive inhibition between allolactose and lactose.\n",
    "3. Account for changes in cell growth rate due to metabolism of lactose and growth phase.\n",
    "4. Add the catabolite repression mechanism for negative feedback.\n",
    "\n",
    "Hopefully you've come away from these workshops with some basic Python skills and an appreciation of how computation and mathematics can be useful in biology. Beyond numerical modelling, there are myriad ways to leverage the power of computers in the lab, from bioinformatics to image analysis. Maybe you'll be using one of these in your next project!"
   ]
  },
  {
   "cell_type": "markdown",
   "metadata": {},
   "source": [
    "## Part III Systems Biology"
   ]
  },
  {
   "cell_type": "markdown",
   "metadata": {},
   "source": [
    "We hope you’ve enjoyed the workshops! If you’re interested to find out more about biological modelling and the use of computational techniques in biology generally, you may consider applying for the Part III Systems Biology course (4th year Natural Sciences Tripos). This course is a nice introduction to the variety of techniques and tools available for Systems Biology, which the course website defines as “an integrated approach to the study of living systems. It is quintessentially interdisciplinary with participation of biological, physical, mathematical, engineering and computational sciences.” Systems Biology is concerned with the relationships and interactions of the many different components of real biological systems which the highly reductionist approach of the past has tended to ignore. Notably one module focuses on the rapidly developing field of Synthetic Biology, the rational design of living systems.\n",
    "\n",
    "The course has taught courses covering mathematical and computational, as well as biological topics and is open to students from variety of scientific or mathematics backgrounds.\n",
    "\n",
    "Further information can be found here https://www.natsci.tripos.cam.ac.uk/subject-information/part3/sb and here https://www.sysbiol.cam.ac.uk/Part%20III. \n",
    "\n",
    "(Note applications for next academic year, i.e. for current 3rd year students, should be made by the first Friday in May)\n",
    "\n",
    "\n",
    "Textbooks are also good options if you’d like to find out more, well reviewed examples are:\n",
    "\n",
    "[A First Course in Systems Biology by Eberhard Voit](http://www.garlandscience.com/product/isbn/9780815344674)\n",
    "\n",
    "[An Introduction Systems Biology – Design Principles of Biological Circuits by Uri Alon](http://www.weizmann.ac.il/mcb/UriAlon/introduction-systems-biology-design-principles-biological-circuits)\n",
    "\n",
    "We recommend trying your college library before buying for yourself, typically libraries can buy new books on request if they don’t already have them."
   ]
  }
 ],
 "metadata": {
  "kernelspec": {
   "display_name": "Python 3",
   "language": "python",
   "name": "python3"
  },
  "language_info": {
   "codemirror_mode": {
    "name": "ipython",
    "version": 3
   },
   "file_extension": ".py",
   "mimetype": "text/x-python",
   "name": "python",
   "nbconvert_exporter": "python",
   "pygments_lexer": "ipython3",
   "version": "3.5.4"
  }
 },
 "nbformat": 4,
 "nbformat_minor": 2
}

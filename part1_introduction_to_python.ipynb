{
 "cells": [
  {
   "cell_type": "code",
   "execution_count": 43,
   "metadata": {},
   "outputs": [
    {
     "name": "stdout",
     "output_type": "stream",
     "text": [
      "CUSBS Python Introduction!\n"
     ]
    }
   ],
   "source": [
    "print(\"CUSBS Python Introduction!\")"
   ]
  },
  {
   "cell_type": "markdown",
   "metadata": {
    "raw_mimetype": "text/markdown"
   },
   "source": [
    "## What we will cover\n",
    "* What is Python\n",
    "    * Versions\n",
    "    * Installation\n",
    "    * Jupyter Notebook\n",
    "* Problem Statement\n",
    "* Python Fundamentals\n",
    "    * Variables and datatypes\n",
    "    * Functions\n",
    "    * Lists\n",
    "    * If-else statements\n",
    "    * Loops\n",
    "* Libraries and Plotting\n",
    "    * Numpy\n",
    "    * Scipy\n",
    "    * Matplotlib\n",
    "* Putting things together\n",
    "        \n",
    "\n",
    "## What is Python\n",
    "\n",
    "* Interpreted, dynamically typed modern high-level language designed with readability and ease of use in mind. \n",
    "* Supports both procedural, functional and object-oriented\n",
    "* Can interface to other languages like C (see: \"ctypes\") if fast execution of code is required\n",
    "* Becoming common in scientific computing - many libraries are open source (*cough* matlab *cough*), easy to share code (github).\n",
    "\n",
    "### Versions\n",
    "\n",
    "Python has two versions that are similar but slightly different:\n",
    "* Python 2 - legacy version of python, primarily maintained for backwards compatibility (computer systems are brittle and tend to break when new updates are released)\n",
    "* Python 3 - newer version which this notebook is written in\n",
    "\n",
    "For anything we will be doing - it doesn't really matter which version you use, it's possible to rewrite in either case, but lets stick to 3. Run the below code to check which version of Python you're on."
   ]
  },
  {
   "cell_type": "code",
   "execution_count": 18,
   "metadata": {},
   "outputs": [
    {
     "name": "stdout",
     "output_type": "stream",
     "text": [
      "3.5.4 |Anaconda, Inc.| (default, Sep 19 2017, 08:15:17) [MSC v.1900 64 bit (AMD64)]\n"
     ]
    }
   ],
   "source": [
    "import sys\n",
    "print(sys.version)"
   ]
  },
  {
   "cell_type": "markdown",
   "metadata": {},
   "source": [
    "### Installation\n",
    "\n",
    "We recommend that you install a Linux distribution for programming because it makes it easiest to install and software on your machine. The easiest and most commonly used Linux is Ubuntu: https://www.ubuntu.com/.\n",
    "\n",
    "Python should come preinstalled on Ubuntu distribution. To check that you have python 3 installed \n",
    "\n",
    "```sh\n",
    "python3 --version\n",
    "```\n",
    "\n",
    "* dollar sign \\$ added just to indicate that this is a Linux command line  terminal\n",
    "* You may also like to configure the bash environment alias \"python\" to point to the python3 interpreter\n",
    "\n",
    "To simplify installing libraries (code others have written) for python install pythons package management tool: pip\n",
    "\n",
    "```sh\n",
    "sudo apt-get install python3-pip\n",
    "```\n",
    "\n",
    "To install a package like numpy (NumericPython) with pip:\n",
    "```sh\n",
    "sudo pip install numpy\n",
    "```\n",
    "\n",
    "Pip will then get to work and automatically install the packages that that are required for numpy and then numpy itself. Will will cover this later.\n",
    "\n",
    "[Alternatively]\n",
    "\n",
    "Install a distribution of Anaconda (https://anaconda.org/). This is a distribution of Python designed for scientific computing - it comes with a lot of packages like Numpy and Scipy preinstalled, and uses a different package manager called `conda` that is pretty similar to `pip`. However, `conda` is more thorough in making sure that all of your packages are compatible with each other (some packages depend on different versions of the other). It also includes a built-in environment manager, that lets you decide which packages are going to be accessible in a particular folder and even whether you use Python 2 or 3!"
   ]
  },
  {
   "cell_type": "markdown",
   "metadata": {},
   "source": [
    "### Jupyter Notebook\n",
    "\n",
    "Here we are working in Jupyter Notebook, a Python environment that's geared towards education and the natural sciences. It allows you to create boxes containing isolated segments of text (formatted using Markdown) or code, which can be compiled and ran individually. Any graphics that Python produces can be routed directly to the notebook, making it easy to both analyze and present your results.\n",
    "\n",
    "All you have to do to edit a box is click on it (your current box will be highlighted in green). To run the code inside a box, hit CTRL+ENTER, or hit SHIFT+ENTER if you would also like to move to the next box. (Note that these shortcuts are for Windows and Linux) To see a full list of keyboard commands, click the keyboard symbol at the right end of the floating toolbar."
   ]
  },
  {
   "cell_type": "markdown",
   "metadata": {},
   "source": [
    "## Problem Statement\n",
    "\n",
    "Most reactions in biological systems are catalyzed by enzymes. The rates at which these reactions proceed allow us to predict both dynamics and steady-state behaviour. Suppose an enzymatic reaction can be described by the following equation:"
   ]
  },
  {
   "cell_type": "markdown",
   "metadata": {},
   "source": [
    "$$\n",
    "S + E \\leftrightarrow SE \\to P\n",
    "$$"
   ]
  },
  {
   "cell_type": "markdown",
   "metadata": {},
   "source": [
    "Since the enzyme binds far more strongly to the substrate than the product, we can assume that the second step is a one-way reaction and that the rate of the process is just dependent on the substrate and enzyme concentrations. The equation of the reaction rate can then be described with just [S] and constants $V_{max}$ (the maximum speed at saturation of the enzyme, which is dependent on enzyme properties and concentration), and $K_{m}$ (a constant describing binding affinity). (Proof at https://depts.washington.edu/wmatkins/kinetics/michaelis-menten.html)"
   ]
  },
  {
   "cell_type": "markdown",
   "metadata": {},
   "source": [
    "$$\n",
    "\\frac{\\mathrm{d[P]}}{\\mathrm{d}t} = \\frac{V_{max}\\mathrm{[S]}}{K_m + \\mathrm{[S]}}\n",
    "$$"
   ]
  },
  {
   "cell_type": "markdown",
   "metadata": {},
   "source": [
    "We're interested in figuring out how the product and substrate concentrations change over time, and whether they might reach a steady state. However, in this case and many others in biology, it's a lot easier to express the rates of change than it is to solve for the actual quantities that we're interested in. We can't simply integrate the Michaelis-Menten equation because the <b>substrate concentration</b> is also a function of the same rate over time, and standard methods for solving differential equations would get messy quickly. We need a better solution, but it doesn't have to be <i>perfectly</i> accurate, especially given how noisy biology can be."
   ]
  },
  {
   "cell_type": "markdown",
   "metadata": {},
   "source": [
    "We can take a numerical approach to estimating the product and substrate concentration. Since we know the rate given a concentration, we can estimate the concentration at the next time step using the known rate at the current time step. From the definition of a derivative,"
   ]
  },
  {
   "cell_type": "markdown",
   "metadata": {},
   "source": [
    "$$\n",
    "\\frac{dP}{dt} = \\lim_{\\delta t\\to0} \\frac{P(t+\\delta t) - P(t)}{\\delta t} \\\\\n",
    "\\frac{dP}{dt} \\delta t \\approx P(t+\\delta t) - P(t)\\\\\n",
    "P(t+dt) \\approx P(t) + \\delta t\\left.\\frac{dP}{dt}\\right|_t\n",
    "$$"
   ]
  },
  {
   "cell_type": "markdown",
   "metadata": {},
   "source": [
    "So if we know the rate of change of a quantity, we can approximate its progression over time. The smaller the timestep $\\delta t$, the closer it will be to the real solution in continuous time. This would be a lot of work to calculate by hand, which is why we use computers to do it."
   ]
  },
  {
   "cell_type": "markdown",
   "metadata": {},
   "source": [
    "How can we model the substrate and product concentrations of the Michaelis-Menten equation using Python?"
   ]
  },
  {
   "cell_type": "markdown",
   "metadata": {},
   "source": [
    "\n",
    "\n",
    "## Python Fundamentals\n",
    "\n",
    "### Variables and datatypes\n",
    "\n",
    "\n",
    "Python is dynamically typed, meaning that there are no explicit typing constraints on the language. But if you try to add a boolean (True/False) to a String - expect it to fail!"
   ]
  },
  {
   "cell_type": "code",
   "execution_count": 19,
   "metadata": {},
   "outputs": [
    {
     "ename": "TypeError",
     "evalue": "unsupported operand type(s) for +: 'bool' and 'str'",
     "output_type": "error",
     "traceback": [
      "\u001b[1;31m---------------------------------------------------------------------------\u001b[0m",
      "\u001b[1;31mTypeError\u001b[0m                                 Traceback (most recent call last)",
      "\u001b[1;32m<ipython-input-19-39566f5a3bd7>\u001b[0m in \u001b[0;36m<module>\u001b[1;34m()\u001b[0m\n\u001b[1;32m----> 1\u001b[1;33m \u001b[1;32mFalse\u001b[0m \u001b[1;33m+\u001b[0m \u001b[1;34m\"hello\"\u001b[0m\u001b[1;33m\u001b[0m\u001b[0m\n\u001b[0m",
      "\u001b[1;31mTypeError\u001b[0m: unsupported operand type(s) for +: 'bool' and 'str'"
     ]
    }
   ],
   "source": [
    "False + \"hello\""
   ]
  },
  {
   "cell_type": "markdown",
   "metadata": {},
   "source": [
    "#### Numbers \n",
    "Python 3 is clever about the way it handles division, unlike Python 2 the forward slash operator now produces floating point outputs, integer division now specified by '//' operator:"
   ]
  },
  {
   "cell_type": "code",
   "execution_count": 21,
   "metadata": {},
   "outputs": [
    {
     "name": "stdout",
     "output_type": "stream",
     "text": [
      "1.3333333333333333\n",
      "1\n"
     ]
    }
   ],
   "source": [
    "print(4/3)\n",
    "print(4//3)"
   ]
  },
  {
   "cell_type": "markdown",
   "metadata": {},
   "source": [
    "The devil is in the details - remember that a real number in the mathematic sense is not the same as a floating point number as the latter only have a finite number of bits that are used to represent it:"
   ]
  },
  {
   "cell_type": "code",
   "execution_count": 22,
   "metadata": {},
   "outputs": [
    {
     "data": {
      "text/plain": [
       "0.30000000000000004"
      ]
     },
     "execution_count": 22,
     "metadata": {},
     "output_type": "execute_result"
    }
   ],
   "source": [
    "0.1+0.1+0.1"
   ]
  },
  {
   "cell_type": "markdown",
   "metadata": {},
   "source": [
    "In particular this applies to performing comparisons between numbers:"
   ]
  },
  {
   "cell_type": "code",
   "execution_count": 23,
   "metadata": {},
   "outputs": [
    {
     "data": {
      "text/plain": [
       "False"
      ]
     },
     "execution_count": 23,
     "metadata": {},
     "output_type": "execute_result"
    }
   ],
   "source": [
    "0.3==(0.1+0.1+0.1)"
   ]
  },
  {
   "cell_type": "markdown",
   "metadata": {},
   "source": [
    "Instead use a tolerance level (ie. a small numerical value)"
   ]
  },
  {
   "cell_type": "code",
   "execution_count": 24,
   "metadata": {},
   "outputs": [
    {
     "data": {
      "text/plain": [
       "True"
      ]
     },
     "execution_count": 24,
     "metadata": {},
     "output_type": "execute_result"
    }
   ],
   "source": [
    "0.3-(0.1+0.1+0.1)<1e-12"
   ]
  },
  {
   "cell_type": "markdown",
   "metadata": {},
   "source": [
    "#### Variables\n",
    "\n",
    "To be able to manipulate data in a symbolic way - we need to create variables. To do this, we use the asignment operator '=' (not to be confused with the mathematical meaning of equality, which in python is '=='). Basic asignment of variables is:"
   ]
  },
  {
   "cell_type": "code",
   "execution_count": 25,
   "metadata": {},
   "outputs": [
    {
     "name": "stdout",
     "output_type": "stream",
     "text": [
      "4\n",
      "<class 'int'>\n",
      "<class 'float'>\n",
      "<class 'int'>\n",
      "1 1\n"
     ]
    }
   ],
   "source": [
    "x=3 #create an integer\n",
    "print(x+1) \n",
    "print(type(x)) #what is it's type?\n",
    "\n",
    "x=3.0\n",
    "print(type(x)) #what's it's type now?\n",
    "\n",
    "x=y=1\n",
    "print(y,x)"
   ]
  },
  {
   "cell_type": "markdown",
   "metadata": {},
   "source": [
    "#### Exercise"
   ]
  },
  {
   "cell_type": "markdown",
   "metadata": {},
   "source": [
    "Let's define variables to store some of the properties that we need to model the Michaelis-Menten equation. We need:\n",
    "* `dt` that defines the size of the timestep in our numerical estimation. Let's set it to 0.01.\n",
    "* `Km` that defines the Michaelis-Menten constant. Let's set it to 5.\n",
    "* `Vmax` that defines the maximum reaction rate. Let's set it to 5.\n",
    "\n",
    "As a reminder, the relevant equations are:\n",
    "\n",
    "$$\n",
    "\\frac{\\mathrm{d[P]}}{\\mathrm{d}t} = \\frac{V_{max}\\mathrm{[S]}}{K_m + \\mathrm{[S]}} \\\\\n",
    "P(t+dt) \\approx P(t) + \\delta t\\left.\\frac{dP}{dt}\\right|_t\n",
    "$$"
   ]
  },
  {
   "cell_type": "code",
   "execution_count": 1,
   "metadata": {
    "collapsed": true
   },
   "outputs": [],
   "source": [
    "### YOUR CODE HERE\n",
    "\n",
    "\n"
   ]
  },
  {
   "cell_type": "markdown",
   "metadata": {},
   "source": [
    "Don't worry about the defining the actual product and substrate concentrations yet. There's a better way of dealing with them."
   ]
  },
  {
   "cell_type": "markdown",
   "metadata": {},
   "source": [
    "### Functions\n",
    "\n",
    "Functions are the bread and butter of programming - allows us to write isolated units of code and reuse them. Python does not require us to specify function input and output types - so it's up to you what you return, but don't get caught out, the compiler won't be able to save you. A Python function requires\n",
    " * A `def` statement indicating that the following lines are a function;\n",
    " * The name of the function that will be referenced when you want to use it;\n",
    " * The parameters taken as inputs (optional);\n",
    " * A return statement (also optional).\n",
    " \n",
    "For example, a function to add two numbers `x` and `y` might look like this:"
   ]
  },
  {
   "cell_type": "code",
   "execution_count": 27,
   "metadata": {
    "collapsed": true
   },
   "outputs": [],
   "source": [
    "def f(x,y):\n",
    "    return x+y"
   ]
  },
  {
   "cell_type": "markdown",
   "metadata": {},
   "source": [
    "Let's try calling this function:"
   ]
  },
  {
   "cell_type": "code",
   "execution_count": 28,
   "metadata": {},
   "outputs": [
    {
     "name": "stdout",
     "output_type": "stream",
     "text": [
      "3\n",
      "3.5\n"
     ]
    }
   ],
   "source": [
    "print(f(1,2))\n",
    "print(f(1.5, 2))"
   ]
  },
  {
   "cell_type": "markdown",
   "metadata": {},
   "source": [
    "Recall that Python is dynamically typed, meaning that we can use this function to add strings, and other data types as well. But be careful about matching data types!"
   ]
  },
  {
   "cell_type": "code",
   "execution_count": 29,
   "metadata": {},
   "outputs": [
    {
     "name": "stdout",
     "output_type": "stream",
     "text": [
      "Hello World!\n"
     ]
    }
   ],
   "source": [
    "print(f(\"Hello \", \"World!\"))"
   ]
  },
  {
   "cell_type": "markdown",
   "metadata": {},
   "source": [
    "You can also set a default value for parameters:"
   ]
  },
  {
   "cell_type": "code",
   "execution_count": 30,
   "metadata": {},
   "outputs": [
    {
     "name": "stdout",
     "output_type": "stream",
     "text": [
      "3.0\n"
     ]
    }
   ],
   "source": [
    "def f2(x,y=2.0):\n",
    "    return x+y\n",
    "\n",
    "print(f2(1))"
   ]
  },
  {
   "cell_type": "markdown",
   "metadata": {},
   "source": [
    "#### Exercise"
   ]
  },
  {
   "cell_type": "markdown",
   "metadata": {},
   "source": [
    "In order to perform numerical estimation, let's write a function that can calculate the term,\n",
    "\n",
    "$$\n",
    "\\frac{dP}{dt}\n",
    "$$\n",
    "\n",
    "If we know the parameters and the concentration of substrate at a given point in time, we can do it directly using the Michaelis-Menten equation. Let's write a function that gives the reaction rate as an output, with substrate concentration, $K_m$, and $V_{max}$ as inputs. As a reminder,\n",
    "\n",
    "$$\n",
    "\\frac{\\mathrm{d[P]}}{\\mathrm{d}t} = \\frac{V_{max}\\mathrm{[S]}}{K_m + \\mathrm{[S]}}\n",
    "$$"
   ]
  },
  {
   "cell_type": "code",
   "execution_count": 3,
   "metadata": {
    "collapsed": true
   },
   "outputs": [],
   "source": [
    "### YOUR CODE HERE\n",
    "\n",
    "\n"
   ]
  },
  {
   "cell_type": "markdown",
   "metadata": {},
   "source": [
    "### Lists\n",
    "\n",
    "Lists are very fundamental data structures in Python. They act as ordered collections of items, in Python they do not have to have the same type - that is, you can have a single list containing strings, floating point numbers, functions, lists and other more complex data structures."
   ]
  },
  {
   "cell_type": "code",
   "execution_count": 32,
   "metadata": {},
   "outputs": [
    {
     "name": "stdout",
     "output_type": "stream",
     "text": [
      "[1, 2, 3, 4]\n",
      "[0, 1, 2, 3, 4, 5, 6, 7, 8, 9]\n",
      "0\n",
      "new_value\n"
     ]
    }
   ],
   "source": [
    "#manually\n",
    "x = [1,2,3,4]\n",
    "print(x)\n",
    "\n",
    "#using range function\n",
    "# range(start,end,step)\n",
    "x = list(range(0,10))  \n",
    "print(x)\n",
    "\n",
    "#get the value at the start of the list:\n",
    "print(x[0])\n",
    "\n",
    "#assign to an element of list\n",
    "x[1]=\"new_value\"\n",
    "\n",
    "# get the value at an index\n",
    "print(x[1])\n",
    "\n"
   ]
  },
  {
   "cell_type": "markdown",
   "metadata": {},
   "source": [
    "Unlike in many other languages, you can <b>directly access the last element of a list</b> without knowing its length. In applications such as ours, where we need to frequently do this, it makes our code a lot easier to write!"
   ]
  },
  {
   "cell_type": "code",
   "execution_count": 33,
   "metadata": {},
   "outputs": [
    {
     "name": "stdout",
     "output_type": "stream",
     "text": [
      "9\n",
      "7\n",
      "7\n"
     ]
    }
   ],
   "source": [
    "print(x[-1])\n",
    "\n",
    "# The index -1 of a list with length zero is the same as index 0\n",
    "y = [7]\n",
    "print(y[0])\n",
    "print(y[-1])"
   ]
  },
  {
   "cell_type": "markdown",
   "metadata": {},
   "source": [
    "Lists can be defined in relation to other lists by specifying how elements of one may be obtained from the other. This is known as <b>list comprehension</b>):"
   ]
  },
  {
   "cell_type": "code",
   "execution_count": 1,
   "metadata": {},
   "outputs": [
    {
     "name": "stdout",
     "output_type": "stream",
     "text": [
      "[0, 1, 2, 3, 4, 5, 6, 7, 8, 9]\n",
      "[0, 1, 4, 9, 16, 25, 36, 49, 64, 81]\n",
      "[0, 4, 16, 36, 64]\n",
      "[1, 2, 3, 4, 5, 6, 7, 8, 9, 10]\n"
     ]
    }
   ],
   "source": [
    "#define basic list as some range of intger values\n",
    "xs = [i for i in range(0,10)]\n",
    "print(xs)\n",
    "\n",
    "#can generate one list from another by defining how elements in ys are related to elements in xs\n",
    "ys = [x**2 for x in xs]\n",
    "print(ys)\n",
    "\n",
    "#can filter elements of one list to create another - this is every similar to set definitions\n",
    "even_ys = [y for y in ys if y%2==0]\n",
    "print(even_ys)\n",
    "\n",
    "#can apply functions to all elements of a list\n",
    "def add_one(val):\n",
    "    return val+1\n",
    "\n",
    "zs = [add_one(x) for x in xs]\n",
    "print(zs)"
   ]
  },
  {
   "cell_type": "markdown",
   "metadata": {},
   "source": [
    "Unlike arrays in some other programming languages, lists can be resized. You can add an element to the end of a list in several ways:"
   ]
  },
  {
   "cell_type": "code",
   "execution_count": 2,
   "metadata": {},
   "outputs": [
    {
     "name": "stdout",
     "output_type": "stream",
     "text": [
      "[0, 1, 2, 3, 4]\n",
      "[0, 1, 2, 3, 4, 5]\n",
      "[0, 1, 2, 3, 4]\n",
      "[0, 1, 2, 3, 4, 5]\n"
     ]
    }
   ],
   "source": [
    "x1s = [i for i in range(0,5)]\n",
    "x2 = 5\n",
    "print(x1s)\n",
    "\n",
    "#add using operator overloading\n",
    "print(x1s + [x2])\n",
    "print(x1s)\n",
    "\n",
    "#add using member function of list object\n",
    "x1s.append(x2)\n",
    "print(x1s)"
   ]
  },
  {
   "cell_type": "markdown",
   "metadata": {},
   "source": [
    "Note that adding two lists together creates a new variable in memory, while using the `append` function of a list modifies the existing variable. This is important for two reasons:\n",
    "\n",
    "1. If you want to keep your old list, the first method is useful.\n",
    "2. You can't modify your list in a function using the first method.\n",
    "\n",
    "Let's demonstrate the second point:"
   ]
  },
  {
   "cell_type": "code",
   "execution_count": 36,
   "metadata": {},
   "outputs": [
    {
     "name": "stdout",
     "output_type": "stream",
     "text": [
      "[0, 1, 2, 3, 4]\n",
      "[0, 1, 2, 3, 4, 5]\n"
     ]
    },
    {
     "ename": "NameError",
     "evalue": "name 'list_input' is not defined",
     "output_type": "error",
     "traceback": [
      "\u001b[1;31m---------------------------------------------------------------------------\u001b[0m",
      "\u001b[1;31mNameError\u001b[0m                                 Traceback (most recent call last)",
      "\u001b[1;32m<ipython-input-36-4bde758a5882>\u001b[0m in \u001b[0;36m<module>\u001b[1;34m()\u001b[0m\n\u001b[0;32m     11\u001b[0m \u001b[0mf2\u001b[0m\u001b[1;33m(\u001b[0m\u001b[0mx1s\u001b[0m\u001b[1;33m)\u001b[0m\u001b[1;33m\u001b[0m\u001b[0m\n\u001b[0;32m     12\u001b[0m \u001b[0mprint\u001b[0m\u001b[1;33m(\u001b[0m\u001b[0mx1s\u001b[0m\u001b[1;33m)\u001b[0m\u001b[1;33m\u001b[0m\u001b[0m\n\u001b[1;32m---> 13\u001b[1;33m \u001b[0mprint\u001b[0m\u001b[1;33m(\u001b[0m\u001b[0mlist_input\u001b[0m\u001b[1;33m)\u001b[0m\u001b[1;33m\u001b[0m\u001b[0m\n\u001b[0m",
      "\u001b[1;31mNameError\u001b[0m: name 'list_input' is not defined"
     ]
    }
   ],
   "source": [
    "x1s = [i for i in range(0,5)]\n",
    "\n",
    "def f1(list_input):\n",
    "    list_input = list_input + [5]\n",
    "    \n",
    "def f2(list_input):\n",
    "    list_input.append(5)\n",
    "    \n",
    "f1(x1s)\n",
    "print(x1s)\n",
    "f2(x1s)\n",
    "print(x1s)\n",
    "print(list_input)"
   ]
  },
  {
   "cell_type": "markdown",
   "metadata": {},
   "source": [
    "In the first function, we've assigned our input list to the internal variable `list_input`, which only exists inside the function. But the body of the function simply reassigns the <b>local variable</b> specified by the input to the new list created by the addition of the input and the additional value. When the function finishes executing, the reference to `list_input` disappears. Since our new construct is not referenced anywhere else, it is erased from memory to save space. Note that `x1s` still exists because it has a reference outside the function.\n",
    "\n",
    "In the second function, we've instructed the object referenced by `list_input`, in this case our list of numbers, to do something to itself. Although the reference to `list_input` disappears, the object is still there because it was defined outside the function and still has a reference, and the additional value is successfully appended.\n",
    "\n",
    "To understand the idea of a local variable within a function, observe what happens when we try to print `list_input` after executing the two functions. It gives an error saying that 'list_input' is not defined! This means exactly what it says - the variable was only defined inside the functions, so it does not exist to anything outside the `def` statements. Note that defining the inputs of a function simply creates local variables that are assigned to values given when the function is called."
   ]
  },
  {
   "cell_type": "markdown",
   "metadata": {},
   "source": [
    "#### Exercise"
   ]
  },
  {
   "cell_type": "markdown",
   "metadata": {},
   "source": [
    "Lists will be useful for us to store the rate of the reaction, and the concentrations of product and substrate, at each time point. They provide a <b>systematic way</b> of keeping all these values <b>in one place</b> so we can plot or analyze them later, and allow us to run our program for arbitrary time lengths <b>without defining new variables</b>. Let's define some lists:\n",
    "\n",
    "* `substrate`, for the substrate concentration, with a value at time 0 of 10.\n",
    "* `product`, for the product concentration, with a value at time 0 of 0.\n",
    "* `rate`, for the Michaelis Menten rate. Leave this list empty, as we need to calculate the rate using the substrate concentration."
   ]
  },
  {
   "cell_type": "code",
   "execution_count": 4,
   "metadata": {
    "collapsed": true
   },
   "outputs": [],
   "source": [
    "### YOUR CODE HERE\n",
    "\n",
    "\n"
   ]
  },
  {
   "cell_type": "markdown",
   "metadata": {},
   "source": [
    "### If-else statements"
   ]
  },
  {
   "cell_type": "markdown",
   "metadata": {},
   "source": [
    "Although they won't be necessary in this workshop, if-else statements are a useful part of any programming language for creating more complex behaviour. In computational biology, you will typically use them for <b>classification</b> of data or for producing behaviour in <b>edge cases</b>."
   ]
  },
  {
   "cell_type": "code",
   "execution_count": 38,
   "metadata": {},
   "outputs": [
    {
     "name": "stdout",
     "output_type": "stream",
     "text": [
      "0 IS EVEN\n",
      "1 IS ODD\n",
      "2 IS EVEN\n",
      "3 IS DIVISIBLE BY 3\n",
      "4 IS EVEN\n"
     ]
    }
   ],
   "source": [
    "for i in range(0,5):\n",
    "    if i%2 == 0:\n",
    "        print(i, \"IS EVEN\")\n",
    "    elif i%3 == 0:\n",
    "        print(i, \"IS DIVISIBLE BY 3\")\n",
    "    else:\n",
    "        print(i, \"IS ODD\")"
   ]
  },
  {
   "cell_type": "markdown",
   "metadata": {},
   "source": [
    "### Loops\n",
    "\n",
    "One of the most powerful applications of computing is the ability to perform simple actions <b>repeatedly</b> to get a more complicated result. The simplest way to achieve this is with loops. The two most common types of loops are:\n",
    "\n",
    "* `for` - This type of loop lets you iterate through the items in a list or, in general, repeat execution a defined number of times.\n",
    "* `while` - This type of loop repeats an action until a condition is met.\n",
    "\n",
    "Here's how you would add together the numbers from one to ten using each type of loop:"
   ]
  },
  {
   "cell_type": "code",
   "execution_count": 39,
   "metadata": {},
   "outputs": [
    {
     "name": "stdout",
     "output_type": "stream",
     "text": [
      "55\n",
      "55\n"
     ]
    }
   ],
   "source": [
    "result = 0\n",
    "for i in range(1,11):\n",
    "    result = result + i\n",
    "print(result)\n",
    "\n",
    "result = 0\n",
    "i = 1\n",
    "while (i <= 10):\n",
    "    result = result + i\n",
    "    i = i + 1\n",
    "print(result)"
   ]
  },
  {
   "cell_type": "markdown",
   "metadata": {},
   "source": [
    "#### Exercise"
   ]
  },
  {
   "cell_type": "markdown",
   "metadata": {},
   "source": [
    "Now let's generate some values of reaction rate over possible substrate concentrations for our Michaelis-Menten equation. Calculate the reaction rates for the list of substrate concentrations provided, `substrate_concentrations` using a <b>for loop</b>, and store them in the list `rate_substrate`.\n",
    "\n",
    "Hints\n",
    "* Iterate through the list of substrate concentrations provided.\n",
    "* You've already defined a function for calculating reaction rates, called `mm_rate`. Use the constants that you've already saved in your variables.\n",
    "* You know how to add values to the end of a list - either way will work here."
   ]
  },
  {
   "cell_type": "code",
   "execution_count": 5,
   "metadata": {
    "collapsed": true
   },
   "outputs": [],
   "source": [
    "substrate_concentrations = range(0,11)\n",
    "### YOUR CODE HERE\n",
    "\n",
    "\n",
    "\n"
   ]
  },
  {
   "cell_type": "markdown",
   "metadata": {},
   "source": [
    "## Libraries\n",
    "\n",
    "A library is a collection of code that someone else has written that you can use. The open-source nature of Python is a great advantage as for most modules, you can get a copy of the source code and see for yourself what it is doing. This is particularly useful for verifying simulations where even small changes in various parameters and coefficients can be the dividing line between success and failure.\n"
   ]
  },
  {
   "cell_type": "markdown",
   "metadata": {},
   "source": [
    "### Numpy\n",
    "\n",
    "Numpy contains utilities for mathematical operations, such as trigonometry, linear algebra, generation of random numbers. Of particular note is its N-dimensional array object, which is efficient for storage and manipulation."
   ]
  },
  {
   "cell_type": "code",
   "execution_count": 41,
   "metadata": {},
   "outputs": [
    {
     "name": "stdout",
     "output_type": "stream",
     "text": [
      "[[1 2 3]\n",
      " [4 5 6]]\n"
     ]
    }
   ],
   "source": [
    "import numpy as np \n",
    "x = np.array([[1, 2, 3], [4, 5, 6]], np.int32)\n",
    "print(x)"
   ]
  },
  {
   "cell_type": "markdown",
   "metadata": {},
   "source": [
    "Another useful Numpy function is `np.arange`, which is like Python's `range` function, but lets you specify increment size."
   ]
  },
  {
   "cell_type": "code",
   "execution_count": 42,
   "metadata": {},
   "outputs": [
    {
     "name": "stdout",
     "output_type": "stream",
     "text": [
      "[ 0.   0.5  1.   1.5  2.   2.5  3.   3.5  4.   4.5]\n"
     ]
    }
   ],
   "source": [
    "half_step = np.arange(0,5, step = 0.5)\n",
    "print(half_step)"
   ]
  },
  {
   "cell_type": "markdown",
   "metadata": {},
   "source": [
    "## Scipy\n",
    "Scipy is a package that duplicates some of the features of Numpy and has some additional functionality. For example, it includes functions for curve-fitting, optimization, and signal processing. One tool that might be particularly useful for us is integration. Use the quad function for general integration. The two outputs are the value and the error bounds."
   ]
  },
  {
   "cell_type": "code",
   "execution_count": 43,
   "metadata": {},
   "outputs": [
    {
     "name": "stdout",
     "output_type": "stream",
     "text": [
      "(30.375, 3.372302437298913e-13)\n"
     ]
    }
   ],
   "source": [
    "import scipy.integrate as integrate\n",
    "result = integrate.quad(lambda x: x**2, 0, 4.5)\n",
    "print(result)"
   ]
  },
  {
   "cell_type": "markdown",
   "metadata": {},
   "source": [
    "## Matplotlib\n",
    "This library generates figures for you. Matplotlib lets you produce almost every type of graph and chart that exists with a little bit of work. You can use `pyplot` as a sort of black box that plots things for you, but far more powerful is the object-oriented approach. This allows you to have direct access to each axis and everything you draw on it, giving you more control for complex plots. We will use the object-oriented approach."
   ]
  },
  {
   "cell_type": "markdown",
   "metadata": {},
   "source": [
    "Here we will look at how basic plotting works. First, we import the library. The second line tells Matplotlib to draw its figures within the Jupyter notebook (a fairly unique Python environment, so it needs specific instructions!)."
   ]
  },
  {
   "cell_type": "code",
   "execution_count": 10,
   "metadata": {
    "collapsed": true
   },
   "outputs": [],
   "source": [
    "import matplotlib.pyplot as plt\n",
    "%matplotlib notebook"
   ]
  },
  {
   "cell_type": "markdown",
   "metadata": {},
   "source": [
    "Next, we initialise the figure, and add a set of axes to it."
   ]
  },
  {
   "cell_type": "code",
   "execution_count": 11,
   "metadata": {},
   "outputs": [
    {
     "data": {
      "application/javascript": [
       "/* Put everything inside the global mpl namespace */\n",
       "window.mpl = {};\n",
       "\n",
       "\n",
       "mpl.get_websocket_type = function() {\n",
       "    if (typeof(WebSocket) !== 'undefined') {\n",
       "        return WebSocket;\n",
       "    } else if (typeof(MozWebSocket) !== 'undefined') {\n",
       "        return MozWebSocket;\n",
       "    } else {\n",
       "        alert('Your browser does not have WebSocket support.' +\n",
       "              'Please try Chrome, Safari or Firefox ≥ 6. ' +\n",
       "              'Firefox 4 and 5 are also supported but you ' +\n",
       "              'have to enable WebSockets in about:config.');\n",
       "    };\n",
       "}\n",
       "\n",
       "mpl.figure = function(figure_id, websocket, ondownload, parent_element) {\n",
       "    this.id = figure_id;\n",
       "\n",
       "    this.ws = websocket;\n",
       "\n",
       "    this.supports_binary = (this.ws.binaryType != undefined);\n",
       "\n",
       "    if (!this.supports_binary) {\n",
       "        var warnings = document.getElementById(\"mpl-warnings\");\n",
       "        if (warnings) {\n",
       "            warnings.style.display = 'block';\n",
       "            warnings.textContent = (\n",
       "                \"This browser does not support binary websocket messages. \" +\n",
       "                    \"Performance may be slow.\");\n",
       "        }\n",
       "    }\n",
       "\n",
       "    this.imageObj = new Image();\n",
       "\n",
       "    this.context = undefined;\n",
       "    this.message = undefined;\n",
       "    this.canvas = undefined;\n",
       "    this.rubberband_canvas = undefined;\n",
       "    this.rubberband_context = undefined;\n",
       "    this.format_dropdown = undefined;\n",
       "\n",
       "    this.image_mode = 'full';\n",
       "\n",
       "    this.root = $('<div/>');\n",
       "    this._root_extra_style(this.root)\n",
       "    this.root.attr('style', 'display: inline-block');\n",
       "\n",
       "    $(parent_element).append(this.root);\n",
       "\n",
       "    this._init_header(this);\n",
       "    this._init_canvas(this);\n",
       "    this._init_toolbar(this);\n",
       "\n",
       "    var fig = this;\n",
       "\n",
       "    this.waiting = false;\n",
       "\n",
       "    this.ws.onopen =  function () {\n",
       "            fig.send_message(\"supports_binary\", {value: fig.supports_binary});\n",
       "            fig.send_message(\"send_image_mode\", {});\n",
       "            if (mpl.ratio != 1) {\n",
       "                fig.send_message(\"set_dpi_ratio\", {'dpi_ratio': mpl.ratio});\n",
       "            }\n",
       "            fig.send_message(\"refresh\", {});\n",
       "        }\n",
       "\n",
       "    this.imageObj.onload = function() {\n",
       "            if (fig.image_mode == 'full') {\n",
       "                // Full images could contain transparency (where diff images\n",
       "                // almost always do), so we need to clear the canvas so that\n",
       "                // there is no ghosting.\n",
       "                fig.context.clearRect(0, 0, fig.canvas.width, fig.canvas.height);\n",
       "            }\n",
       "            fig.context.drawImage(fig.imageObj, 0, 0);\n",
       "        };\n",
       "\n",
       "    this.imageObj.onunload = function() {\n",
       "        this.ws.close();\n",
       "    }\n",
       "\n",
       "    this.ws.onmessage = this._make_on_message_function(this);\n",
       "\n",
       "    this.ondownload = ondownload;\n",
       "}\n",
       "\n",
       "mpl.figure.prototype._init_header = function() {\n",
       "    var titlebar = $(\n",
       "        '<div class=\"ui-dialog-titlebar ui-widget-header ui-corner-all ' +\n",
       "        'ui-helper-clearfix\"/>');\n",
       "    var titletext = $(\n",
       "        '<div class=\"ui-dialog-title\" style=\"width: 100%; ' +\n",
       "        'text-align: center; padding: 3px;\"/>');\n",
       "    titlebar.append(titletext)\n",
       "    this.root.append(titlebar);\n",
       "    this.header = titletext[0];\n",
       "}\n",
       "\n",
       "\n",
       "\n",
       "mpl.figure.prototype._canvas_extra_style = function(canvas_div) {\n",
       "\n",
       "}\n",
       "\n",
       "\n",
       "mpl.figure.prototype._root_extra_style = function(canvas_div) {\n",
       "\n",
       "}\n",
       "\n",
       "mpl.figure.prototype._init_canvas = function() {\n",
       "    var fig = this;\n",
       "\n",
       "    var canvas_div = $('<div/>');\n",
       "\n",
       "    canvas_div.attr('style', 'position: relative; clear: both; outline: 0');\n",
       "\n",
       "    function canvas_keyboard_event(event) {\n",
       "        return fig.key_event(event, event['data']);\n",
       "    }\n",
       "\n",
       "    canvas_div.keydown('key_press', canvas_keyboard_event);\n",
       "    canvas_div.keyup('key_release', canvas_keyboard_event);\n",
       "    this.canvas_div = canvas_div\n",
       "    this._canvas_extra_style(canvas_div)\n",
       "    this.root.append(canvas_div);\n",
       "\n",
       "    var canvas = $('<canvas/>');\n",
       "    canvas.addClass('mpl-canvas');\n",
       "    canvas.attr('style', \"left: 0; top: 0; z-index: 0; outline: 0\")\n",
       "\n",
       "    this.canvas = canvas[0];\n",
       "    this.context = canvas[0].getContext(\"2d\");\n",
       "\n",
       "    var backingStore = this.context.backingStorePixelRatio ||\n",
       "\tthis.context.webkitBackingStorePixelRatio ||\n",
       "\tthis.context.mozBackingStorePixelRatio ||\n",
       "\tthis.context.msBackingStorePixelRatio ||\n",
       "\tthis.context.oBackingStorePixelRatio ||\n",
       "\tthis.context.backingStorePixelRatio || 1;\n",
       "\n",
       "    mpl.ratio = (window.devicePixelRatio || 1) / backingStore;\n",
       "\n",
       "    var rubberband = $('<canvas/>');\n",
       "    rubberband.attr('style', \"position: absolute; left: 0; top: 0; z-index: 1;\")\n",
       "\n",
       "    var pass_mouse_events = true;\n",
       "\n",
       "    canvas_div.resizable({\n",
       "        start: function(event, ui) {\n",
       "            pass_mouse_events = false;\n",
       "        },\n",
       "        resize: function(event, ui) {\n",
       "            fig.request_resize(ui.size.width, ui.size.height);\n",
       "        },\n",
       "        stop: function(event, ui) {\n",
       "            pass_mouse_events = true;\n",
       "            fig.request_resize(ui.size.width, ui.size.height);\n",
       "        },\n",
       "    });\n",
       "\n",
       "    function mouse_event_fn(event) {\n",
       "        if (pass_mouse_events)\n",
       "            return fig.mouse_event(event, event['data']);\n",
       "    }\n",
       "\n",
       "    rubberband.mousedown('button_press', mouse_event_fn);\n",
       "    rubberband.mouseup('button_release', mouse_event_fn);\n",
       "    // Throttle sequential mouse events to 1 every 20ms.\n",
       "    rubberband.mousemove('motion_notify', mouse_event_fn);\n",
       "\n",
       "    rubberband.mouseenter('figure_enter', mouse_event_fn);\n",
       "    rubberband.mouseleave('figure_leave', mouse_event_fn);\n",
       "\n",
       "    canvas_div.on(\"wheel\", function (event) {\n",
       "        event = event.originalEvent;\n",
       "        event['data'] = 'scroll'\n",
       "        if (event.deltaY < 0) {\n",
       "            event.step = 1;\n",
       "        } else {\n",
       "            event.step = -1;\n",
       "        }\n",
       "        mouse_event_fn(event);\n",
       "    });\n",
       "\n",
       "    canvas_div.append(canvas);\n",
       "    canvas_div.append(rubberband);\n",
       "\n",
       "    this.rubberband = rubberband;\n",
       "    this.rubberband_canvas = rubberband[0];\n",
       "    this.rubberband_context = rubberband[0].getContext(\"2d\");\n",
       "    this.rubberband_context.strokeStyle = \"#000000\";\n",
       "\n",
       "    this._resize_canvas = function(width, height) {\n",
       "        // Keep the size of the canvas, canvas container, and rubber band\n",
       "        // canvas in synch.\n",
       "        canvas_div.css('width', width)\n",
       "        canvas_div.css('height', height)\n",
       "\n",
       "        canvas.attr('width', width * mpl.ratio);\n",
       "        canvas.attr('height', height * mpl.ratio);\n",
       "        canvas.attr('style', 'width: ' + width + 'px; height: ' + height + 'px;');\n",
       "\n",
       "        rubberband.attr('width', width);\n",
       "        rubberband.attr('height', height);\n",
       "    }\n",
       "\n",
       "    // Set the figure to an initial 600x600px, this will subsequently be updated\n",
       "    // upon first draw.\n",
       "    this._resize_canvas(600, 600);\n",
       "\n",
       "    // Disable right mouse context menu.\n",
       "    $(this.rubberband_canvas).bind(\"contextmenu\",function(e){\n",
       "        return false;\n",
       "    });\n",
       "\n",
       "    function set_focus () {\n",
       "        canvas.focus();\n",
       "        canvas_div.focus();\n",
       "    }\n",
       "\n",
       "    window.setTimeout(set_focus, 100);\n",
       "}\n",
       "\n",
       "mpl.figure.prototype._init_toolbar = function() {\n",
       "    var fig = this;\n",
       "\n",
       "    var nav_element = $('<div/>')\n",
       "    nav_element.attr('style', 'width: 100%');\n",
       "    this.root.append(nav_element);\n",
       "\n",
       "    // Define a callback function for later on.\n",
       "    function toolbar_event(event) {\n",
       "        return fig.toolbar_button_onclick(event['data']);\n",
       "    }\n",
       "    function toolbar_mouse_event(event) {\n",
       "        return fig.toolbar_button_onmouseover(event['data']);\n",
       "    }\n",
       "\n",
       "    for(var toolbar_ind in mpl.toolbar_items) {\n",
       "        var name = mpl.toolbar_items[toolbar_ind][0];\n",
       "        var tooltip = mpl.toolbar_items[toolbar_ind][1];\n",
       "        var image = mpl.toolbar_items[toolbar_ind][2];\n",
       "        var method_name = mpl.toolbar_items[toolbar_ind][3];\n",
       "\n",
       "        if (!name) {\n",
       "            // put a spacer in here.\n",
       "            continue;\n",
       "        }\n",
       "        var button = $('<button/>');\n",
       "        button.addClass('ui-button ui-widget ui-state-default ui-corner-all ' +\n",
       "                        'ui-button-icon-only');\n",
       "        button.attr('role', 'button');\n",
       "        button.attr('aria-disabled', 'false');\n",
       "        button.click(method_name, toolbar_event);\n",
       "        button.mouseover(tooltip, toolbar_mouse_event);\n",
       "\n",
       "        var icon_img = $('<span/>');\n",
       "        icon_img.addClass('ui-button-icon-primary ui-icon');\n",
       "        icon_img.addClass(image);\n",
       "        icon_img.addClass('ui-corner-all');\n",
       "\n",
       "        var tooltip_span = $('<span/>');\n",
       "        tooltip_span.addClass('ui-button-text');\n",
       "        tooltip_span.html(tooltip);\n",
       "\n",
       "        button.append(icon_img);\n",
       "        button.append(tooltip_span);\n",
       "\n",
       "        nav_element.append(button);\n",
       "    }\n",
       "\n",
       "    var fmt_picker_span = $('<span/>');\n",
       "\n",
       "    var fmt_picker = $('<select/>');\n",
       "    fmt_picker.addClass('mpl-toolbar-option ui-widget ui-widget-content');\n",
       "    fmt_picker_span.append(fmt_picker);\n",
       "    nav_element.append(fmt_picker_span);\n",
       "    this.format_dropdown = fmt_picker[0];\n",
       "\n",
       "    for (var ind in mpl.extensions) {\n",
       "        var fmt = mpl.extensions[ind];\n",
       "        var option = $(\n",
       "            '<option/>', {selected: fmt === mpl.default_extension}).html(fmt);\n",
       "        fmt_picker.append(option)\n",
       "    }\n",
       "\n",
       "    // Add hover states to the ui-buttons\n",
       "    $( \".ui-button\" ).hover(\n",
       "        function() { $(this).addClass(\"ui-state-hover\");},\n",
       "        function() { $(this).removeClass(\"ui-state-hover\");}\n",
       "    );\n",
       "\n",
       "    var status_bar = $('<span class=\"mpl-message\"/>');\n",
       "    nav_element.append(status_bar);\n",
       "    this.message = status_bar[0];\n",
       "}\n",
       "\n",
       "mpl.figure.prototype.request_resize = function(x_pixels, y_pixels) {\n",
       "    // Request matplotlib to resize the figure. Matplotlib will then trigger a resize in the client,\n",
       "    // which will in turn request a refresh of the image.\n",
       "    this.send_message('resize', {'width': x_pixels, 'height': y_pixels});\n",
       "}\n",
       "\n",
       "mpl.figure.prototype.send_message = function(type, properties) {\n",
       "    properties['type'] = type;\n",
       "    properties['figure_id'] = this.id;\n",
       "    this.ws.send(JSON.stringify(properties));\n",
       "}\n",
       "\n",
       "mpl.figure.prototype.send_draw_message = function() {\n",
       "    if (!this.waiting) {\n",
       "        this.waiting = true;\n",
       "        this.ws.send(JSON.stringify({type: \"draw\", figure_id: this.id}));\n",
       "    }\n",
       "}\n",
       "\n",
       "\n",
       "mpl.figure.prototype.handle_save = function(fig, msg) {\n",
       "    var format_dropdown = fig.format_dropdown;\n",
       "    var format = format_dropdown.options[format_dropdown.selectedIndex].value;\n",
       "    fig.ondownload(fig, format);\n",
       "}\n",
       "\n",
       "\n",
       "mpl.figure.prototype.handle_resize = function(fig, msg) {\n",
       "    var size = msg['size'];\n",
       "    if (size[0] != fig.canvas.width || size[1] != fig.canvas.height) {\n",
       "        fig._resize_canvas(size[0], size[1]);\n",
       "        fig.send_message(\"refresh\", {});\n",
       "    };\n",
       "}\n",
       "\n",
       "mpl.figure.prototype.handle_rubberband = function(fig, msg) {\n",
       "    var x0 = msg['x0'] / mpl.ratio;\n",
       "    var y0 = (fig.canvas.height - msg['y0']) / mpl.ratio;\n",
       "    var x1 = msg['x1'] / mpl.ratio;\n",
       "    var y1 = (fig.canvas.height - msg['y1']) / mpl.ratio;\n",
       "    x0 = Math.floor(x0) + 0.5;\n",
       "    y0 = Math.floor(y0) + 0.5;\n",
       "    x1 = Math.floor(x1) + 0.5;\n",
       "    y1 = Math.floor(y1) + 0.5;\n",
       "    var min_x = Math.min(x0, x1);\n",
       "    var min_y = Math.min(y0, y1);\n",
       "    var width = Math.abs(x1 - x0);\n",
       "    var height = Math.abs(y1 - y0);\n",
       "\n",
       "    fig.rubberband_context.clearRect(\n",
       "        0, 0, fig.canvas.width, fig.canvas.height);\n",
       "\n",
       "    fig.rubberband_context.strokeRect(min_x, min_y, width, height);\n",
       "}\n",
       "\n",
       "mpl.figure.prototype.handle_figure_label = function(fig, msg) {\n",
       "    // Updates the figure title.\n",
       "    fig.header.textContent = msg['label'];\n",
       "}\n",
       "\n",
       "mpl.figure.prototype.handle_cursor = function(fig, msg) {\n",
       "    var cursor = msg['cursor'];\n",
       "    switch(cursor)\n",
       "    {\n",
       "    case 0:\n",
       "        cursor = 'pointer';\n",
       "        break;\n",
       "    case 1:\n",
       "        cursor = 'default';\n",
       "        break;\n",
       "    case 2:\n",
       "        cursor = 'crosshair';\n",
       "        break;\n",
       "    case 3:\n",
       "        cursor = 'move';\n",
       "        break;\n",
       "    }\n",
       "    fig.rubberband_canvas.style.cursor = cursor;\n",
       "}\n",
       "\n",
       "mpl.figure.prototype.handle_message = function(fig, msg) {\n",
       "    fig.message.textContent = msg['message'];\n",
       "}\n",
       "\n",
       "mpl.figure.prototype.handle_draw = function(fig, msg) {\n",
       "    // Request the server to send over a new figure.\n",
       "    fig.send_draw_message();\n",
       "}\n",
       "\n",
       "mpl.figure.prototype.handle_image_mode = function(fig, msg) {\n",
       "    fig.image_mode = msg['mode'];\n",
       "}\n",
       "\n",
       "mpl.figure.prototype.updated_canvas_event = function() {\n",
       "    // Called whenever the canvas gets updated.\n",
       "    this.send_message(\"ack\", {});\n",
       "}\n",
       "\n",
       "// A function to construct a web socket function for onmessage handling.\n",
       "// Called in the figure constructor.\n",
       "mpl.figure.prototype._make_on_message_function = function(fig) {\n",
       "    return function socket_on_message(evt) {\n",
       "        if (evt.data instanceof Blob) {\n",
       "            /* FIXME: We get \"Resource interpreted as Image but\n",
       "             * transferred with MIME type text/plain:\" errors on\n",
       "             * Chrome.  But how to set the MIME type?  It doesn't seem\n",
       "             * to be part of the websocket stream */\n",
       "            evt.data.type = \"image/png\";\n",
       "\n",
       "            /* Free the memory for the previous frames */\n",
       "            if (fig.imageObj.src) {\n",
       "                (window.URL || window.webkitURL).revokeObjectURL(\n",
       "                    fig.imageObj.src);\n",
       "            }\n",
       "\n",
       "            fig.imageObj.src = (window.URL || window.webkitURL).createObjectURL(\n",
       "                evt.data);\n",
       "            fig.updated_canvas_event();\n",
       "            fig.waiting = false;\n",
       "            return;\n",
       "        }\n",
       "        else if (typeof evt.data === 'string' && evt.data.slice(0, 21) == \"data:image/png;base64\") {\n",
       "            fig.imageObj.src = evt.data;\n",
       "            fig.updated_canvas_event();\n",
       "            fig.waiting = false;\n",
       "            return;\n",
       "        }\n",
       "\n",
       "        var msg = JSON.parse(evt.data);\n",
       "        var msg_type = msg['type'];\n",
       "\n",
       "        // Call the  \"handle_{type}\" callback, which takes\n",
       "        // the figure and JSON message as its only arguments.\n",
       "        try {\n",
       "            var callback = fig[\"handle_\" + msg_type];\n",
       "        } catch (e) {\n",
       "            console.log(\"No handler for the '\" + msg_type + \"' message type: \", msg);\n",
       "            return;\n",
       "        }\n",
       "\n",
       "        if (callback) {\n",
       "            try {\n",
       "                // console.log(\"Handling '\" + msg_type + \"' message: \", msg);\n",
       "                callback(fig, msg);\n",
       "            } catch (e) {\n",
       "                console.log(\"Exception inside the 'handler_\" + msg_type + \"' callback:\", e, e.stack, msg);\n",
       "            }\n",
       "        }\n",
       "    };\n",
       "}\n",
       "\n",
       "// from http://stackoverflow.com/questions/1114465/getting-mouse-location-in-canvas\n",
       "mpl.findpos = function(e) {\n",
       "    //this section is from http://www.quirksmode.org/js/events_properties.html\n",
       "    var targ;\n",
       "    if (!e)\n",
       "        e = window.event;\n",
       "    if (e.target)\n",
       "        targ = e.target;\n",
       "    else if (e.srcElement)\n",
       "        targ = e.srcElement;\n",
       "    if (targ.nodeType == 3) // defeat Safari bug\n",
       "        targ = targ.parentNode;\n",
       "\n",
       "    // jQuery normalizes the pageX and pageY\n",
       "    // pageX,Y are the mouse positions relative to the document\n",
       "    // offset() returns the position of the element relative to the document\n",
       "    var x = e.pageX - $(targ).offset().left;\n",
       "    var y = e.pageY - $(targ).offset().top;\n",
       "\n",
       "    return {\"x\": x, \"y\": y};\n",
       "};\n",
       "\n",
       "/*\n",
       " * return a copy of an object with only non-object keys\n",
       " * we need this to avoid circular references\n",
       " * http://stackoverflow.com/a/24161582/3208463\n",
       " */\n",
       "function simpleKeys (original) {\n",
       "  return Object.keys(original).reduce(function (obj, key) {\n",
       "    if (typeof original[key] !== 'object')\n",
       "        obj[key] = original[key]\n",
       "    return obj;\n",
       "  }, {});\n",
       "}\n",
       "\n",
       "mpl.figure.prototype.mouse_event = function(event, name) {\n",
       "    var canvas_pos = mpl.findpos(event)\n",
       "\n",
       "    if (name === 'button_press')\n",
       "    {\n",
       "        this.canvas.focus();\n",
       "        this.canvas_div.focus();\n",
       "    }\n",
       "\n",
       "    var x = canvas_pos.x * mpl.ratio;\n",
       "    var y = canvas_pos.y * mpl.ratio;\n",
       "\n",
       "    this.send_message(name, {x: x, y: y, button: event.button,\n",
       "                             step: event.step,\n",
       "                             guiEvent: simpleKeys(event)});\n",
       "\n",
       "    /* This prevents the web browser from automatically changing to\n",
       "     * the text insertion cursor when the button is pressed.  We want\n",
       "     * to control all of the cursor setting manually through the\n",
       "     * 'cursor' event from matplotlib */\n",
       "    event.preventDefault();\n",
       "    return false;\n",
       "}\n",
       "\n",
       "mpl.figure.prototype._key_event_extra = function(event, name) {\n",
       "    // Handle any extra behaviour associated with a key event\n",
       "}\n",
       "\n",
       "mpl.figure.prototype.key_event = function(event, name) {\n",
       "\n",
       "    // Prevent repeat events\n",
       "    if (name == 'key_press')\n",
       "    {\n",
       "        if (event.which === this._key)\n",
       "            return;\n",
       "        else\n",
       "            this._key = event.which;\n",
       "    }\n",
       "    if (name == 'key_release')\n",
       "        this._key = null;\n",
       "\n",
       "    var value = '';\n",
       "    if (event.ctrlKey && event.which != 17)\n",
       "        value += \"ctrl+\";\n",
       "    if (event.altKey && event.which != 18)\n",
       "        value += \"alt+\";\n",
       "    if (event.shiftKey && event.which != 16)\n",
       "        value += \"shift+\";\n",
       "\n",
       "    value += 'k';\n",
       "    value += event.which.toString();\n",
       "\n",
       "    this._key_event_extra(event, name);\n",
       "\n",
       "    this.send_message(name, {key: value,\n",
       "                             guiEvent: simpleKeys(event)});\n",
       "    return false;\n",
       "}\n",
       "\n",
       "mpl.figure.prototype.toolbar_button_onclick = function(name) {\n",
       "    if (name == 'download') {\n",
       "        this.handle_save(this, null);\n",
       "    } else {\n",
       "        this.send_message(\"toolbar_button\", {name: name});\n",
       "    }\n",
       "};\n",
       "\n",
       "mpl.figure.prototype.toolbar_button_onmouseover = function(tooltip) {\n",
       "    this.message.textContent = tooltip;\n",
       "};\n",
       "mpl.toolbar_items = [[\"Home\", \"Reset original view\", \"fa fa-home icon-home\", \"home\"], [\"Back\", \"Back to  previous view\", \"fa fa-arrow-left icon-arrow-left\", \"back\"], [\"Forward\", \"Forward to next view\", \"fa fa-arrow-right icon-arrow-right\", \"forward\"], [\"\", \"\", \"\", \"\"], [\"Pan\", \"Pan axes with left mouse, zoom with right\", \"fa fa-arrows icon-move\", \"pan\"], [\"Zoom\", \"Zoom to rectangle\", \"fa fa-square-o icon-check-empty\", \"zoom\"], [\"\", \"\", \"\", \"\"], [\"Download\", \"Download plot\", \"fa fa-floppy-o icon-save\", \"download\"]];\n",
       "\n",
       "mpl.extensions = [\"eps\", \"jpeg\", \"pdf\", \"png\", \"ps\", \"raw\", \"svg\", \"tif\"];\n",
       "\n",
       "mpl.default_extension = \"png\";var comm_websocket_adapter = function(comm) {\n",
       "    // Create a \"websocket\"-like object which calls the given IPython comm\n",
       "    // object with the appropriate methods. Currently this is a non binary\n",
       "    // socket, so there is still some room for performance tuning.\n",
       "    var ws = {};\n",
       "\n",
       "    ws.close = function() {\n",
       "        comm.close()\n",
       "    };\n",
       "    ws.send = function(m) {\n",
       "        //console.log('sending', m);\n",
       "        comm.send(m);\n",
       "    };\n",
       "    // Register the callback with on_msg.\n",
       "    comm.on_msg(function(msg) {\n",
       "        //console.log('receiving', msg['content']['data'], msg);\n",
       "        // Pass the mpl event to the overriden (by mpl) onmessage function.\n",
       "        ws.onmessage(msg['content']['data'])\n",
       "    });\n",
       "    return ws;\n",
       "}\n",
       "\n",
       "mpl.mpl_figure_comm = function(comm, msg) {\n",
       "    // This is the function which gets called when the mpl process\n",
       "    // starts-up an IPython Comm through the \"matplotlib\" channel.\n",
       "\n",
       "    var id = msg.content.data.id;\n",
       "    // Get hold of the div created by the display call when the Comm\n",
       "    // socket was opened in Python.\n",
       "    var element = $(\"#\" + id);\n",
       "    var ws_proxy = comm_websocket_adapter(comm)\n",
       "\n",
       "    function ondownload(figure, format) {\n",
       "        window.open(figure.imageObj.src);\n",
       "    }\n",
       "\n",
       "    var fig = new mpl.figure(id, ws_proxy,\n",
       "                           ondownload,\n",
       "                           element.get(0));\n",
       "\n",
       "    // Call onopen now - mpl needs it, as it is assuming we've passed it a real\n",
       "    // web socket which is closed, not our websocket->open comm proxy.\n",
       "    ws_proxy.onopen();\n",
       "\n",
       "    fig.parent_element = element.get(0);\n",
       "    fig.cell_info = mpl.find_output_cell(\"<div id='\" + id + \"'></div>\");\n",
       "    if (!fig.cell_info) {\n",
       "        console.error(\"Failed to find cell for figure\", id, fig);\n",
       "        return;\n",
       "    }\n",
       "\n",
       "    var output_index = fig.cell_info[2]\n",
       "    var cell = fig.cell_info[0];\n",
       "\n",
       "};\n",
       "\n",
       "mpl.figure.prototype.handle_close = function(fig, msg) {\n",
       "    var width = fig.canvas.width/mpl.ratio\n",
       "    fig.root.unbind('remove')\n",
       "\n",
       "    // Update the output cell to use the data from the current canvas.\n",
       "    fig.push_to_output();\n",
       "    var dataURL = fig.canvas.toDataURL();\n",
       "    // Re-enable the keyboard manager in IPython - without this line, in FF,\n",
       "    // the notebook keyboard shortcuts fail.\n",
       "    IPython.keyboard_manager.enable()\n",
       "    $(fig.parent_element).html('<img src=\"' + dataURL + '\" width=\"' + width + '\">');\n",
       "    fig.close_ws(fig, msg);\n",
       "}\n",
       "\n",
       "mpl.figure.prototype.close_ws = function(fig, msg){\n",
       "    fig.send_message('closing', msg);\n",
       "    // fig.ws.close()\n",
       "}\n",
       "\n",
       "mpl.figure.prototype.push_to_output = function(remove_interactive) {\n",
       "    // Turn the data on the canvas into data in the output cell.\n",
       "    var width = this.canvas.width/mpl.ratio\n",
       "    var dataURL = this.canvas.toDataURL();\n",
       "    this.cell_info[1]['text/html'] = '<img src=\"' + dataURL + '\" width=\"' + width + '\">';\n",
       "}\n",
       "\n",
       "mpl.figure.prototype.updated_canvas_event = function() {\n",
       "    // Tell IPython that the notebook contents must change.\n",
       "    IPython.notebook.set_dirty(true);\n",
       "    this.send_message(\"ack\", {});\n",
       "    var fig = this;\n",
       "    // Wait a second, then push the new image to the DOM so\n",
       "    // that it is saved nicely (might be nice to debounce this).\n",
       "    setTimeout(function () { fig.push_to_output() }, 1000);\n",
       "}\n",
       "\n",
       "mpl.figure.prototype._init_toolbar = function() {\n",
       "    var fig = this;\n",
       "\n",
       "    var nav_element = $('<div/>')\n",
       "    nav_element.attr('style', 'width: 100%');\n",
       "    this.root.append(nav_element);\n",
       "\n",
       "    // Define a callback function for later on.\n",
       "    function toolbar_event(event) {\n",
       "        return fig.toolbar_button_onclick(event['data']);\n",
       "    }\n",
       "    function toolbar_mouse_event(event) {\n",
       "        return fig.toolbar_button_onmouseover(event['data']);\n",
       "    }\n",
       "\n",
       "    for(var toolbar_ind in mpl.toolbar_items){\n",
       "        var name = mpl.toolbar_items[toolbar_ind][0];\n",
       "        var tooltip = mpl.toolbar_items[toolbar_ind][1];\n",
       "        var image = mpl.toolbar_items[toolbar_ind][2];\n",
       "        var method_name = mpl.toolbar_items[toolbar_ind][3];\n",
       "\n",
       "        if (!name) { continue; };\n",
       "\n",
       "        var button = $('<button class=\"btn btn-default\" href=\"#\" title=\"' + name + '\"><i class=\"fa ' + image + ' fa-lg\"></i></button>');\n",
       "        button.click(method_name, toolbar_event);\n",
       "        button.mouseover(tooltip, toolbar_mouse_event);\n",
       "        nav_element.append(button);\n",
       "    }\n",
       "\n",
       "    // Add the status bar.\n",
       "    var status_bar = $('<span class=\"mpl-message\" style=\"text-align:right; float: right;\"/>');\n",
       "    nav_element.append(status_bar);\n",
       "    this.message = status_bar[0];\n",
       "\n",
       "    // Add the close button to the window.\n",
       "    var buttongrp = $('<div class=\"btn-group inline pull-right\"></div>');\n",
       "    var button = $('<button class=\"btn btn-mini btn-primary\" href=\"#\" title=\"Stop Interaction\"><i class=\"fa fa-power-off icon-remove icon-large\"></i></button>');\n",
       "    button.click(function (evt) { fig.handle_close(fig, {}); } );\n",
       "    button.mouseover('Stop Interaction', toolbar_mouse_event);\n",
       "    buttongrp.append(button);\n",
       "    var titlebar = this.root.find($('.ui-dialog-titlebar'));\n",
       "    titlebar.prepend(buttongrp);\n",
       "}\n",
       "\n",
       "mpl.figure.prototype._root_extra_style = function(el){\n",
       "    var fig = this\n",
       "    el.on(\"remove\", function(){\n",
       "\tfig.close_ws(fig, {});\n",
       "    });\n",
       "}\n",
       "\n",
       "mpl.figure.prototype._canvas_extra_style = function(el){\n",
       "    // this is important to make the div 'focusable\n",
       "    el.attr('tabindex', 0)\n",
       "    // reach out to IPython and tell the keyboard manager to turn it's self\n",
       "    // off when our div gets focus\n",
       "\n",
       "    // location in version 3\n",
       "    if (IPython.notebook.keyboard_manager) {\n",
       "        IPython.notebook.keyboard_manager.register_events(el);\n",
       "    }\n",
       "    else {\n",
       "        // location in version 2\n",
       "        IPython.keyboard_manager.register_events(el);\n",
       "    }\n",
       "\n",
       "}\n",
       "\n",
       "mpl.figure.prototype._key_event_extra = function(event, name) {\n",
       "    var manager = IPython.notebook.keyboard_manager;\n",
       "    if (!manager)\n",
       "        manager = IPython.keyboard_manager;\n",
       "\n",
       "    // Check for shift+enter\n",
       "    if (event.shiftKey && event.which == 13) {\n",
       "        this.canvas_div.blur();\n",
       "        // select the cell after this one\n",
       "        var index = IPython.notebook.find_cell_index(this.cell_info[0]);\n",
       "        IPython.notebook.select(index + 1);\n",
       "    }\n",
       "}\n",
       "\n",
       "mpl.figure.prototype.handle_save = function(fig, msg) {\n",
       "    fig.ondownload(fig, null);\n",
       "}\n",
       "\n",
       "\n",
       "mpl.find_output_cell = function(html_output) {\n",
       "    // Return the cell and output element which can be found *uniquely* in the notebook.\n",
       "    // Note - this is a bit hacky, but it is done because the \"notebook_saving.Notebook\"\n",
       "    // IPython event is triggered only after the cells have been serialised, which for\n",
       "    // our purposes (turning an active figure into a static one), is too late.\n",
       "    var cells = IPython.notebook.get_cells();\n",
       "    var ncells = cells.length;\n",
       "    for (var i=0; i<ncells; i++) {\n",
       "        var cell = cells[i];\n",
       "        if (cell.cell_type === 'code'){\n",
       "            for (var j=0; j<cell.output_area.outputs.length; j++) {\n",
       "                var data = cell.output_area.outputs[j];\n",
       "                if (data.data) {\n",
       "                    // IPython >= 3 moved mimebundle to data attribute of output\n",
       "                    data = data.data;\n",
       "                }\n",
       "                if (data['text/html'] == html_output) {\n",
       "                    return [cell, data, j];\n",
       "                }\n",
       "            }\n",
       "        }\n",
       "    }\n",
       "}\n",
       "\n",
       "// Register the function which deals with the matplotlib target/channel.\n",
       "// The kernel may be null if the page has been refreshed.\n",
       "if (IPython.notebook.kernel != null) {\n",
       "    IPython.notebook.kernel.comm_manager.register_target('matplotlib', mpl.mpl_figure_comm);\n",
       "}\n"
      ],
      "text/plain": [
       "<IPython.core.display.Javascript object>"
      ]
     },
     "metadata": {},
     "output_type": "display_data"
    },
    {
     "data": {
      "text/html": [
       "<img src=\"data:image/png;base64,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\" width=\"639.8333142648146\">"
      ],
      "text/plain": [
       "<IPython.core.display.HTML object>"
      ]
     },
     "metadata": {},
     "output_type": "display_data"
    }
   ],
   "source": [
    "fig = plt.figure()\n",
    "ax1 = fig.add_subplot(1,1,1)"
   ]
  },
  {
   "cell_type": "markdown",
   "metadata": {},
   "source": [
    "All we have to do now is plot the two variables `substrate_concentrations` and `rate_substrate` against each other. We should also label the axes."
   ]
  },
  {
   "cell_type": "code",
   "execution_count": 46,
   "metadata": {},
   "outputs": [
    {
     "data": {
      "text/plain": [
       "<matplotlib.text.Text at 0x28f29ec4080>"
      ]
     },
     "execution_count": 46,
     "metadata": {},
     "output_type": "execute_result"
    }
   ],
   "source": [
    "\n",
    "ax1.plot(substrate_concentrations, rate_substrate)\n",
    "ax1.set_xlabel(\"[S]\")\n",
    "ax1.set_ylabel(\"V\")"
   ]
  },
  {
   "cell_type": "markdown",
   "metadata": {},
   "source": [
    "If you've done all of the exercises correctly, the plot should look something like this.\n",
    "\n",
    "<img src=https://i.gyazo.com/e7eb906ae697e9ce4e2f42d6ffee5f50.png/>"
   ]
  },
  {
   "cell_type": "markdown",
   "metadata": {},
   "source": [
    "## Putting things together"
   ]
  },
  {
   "cell_type": "markdown",
   "metadata": {},
   "source": [
    "Now we can get to our complete product. You need to do two things here:\n",
    "\n",
    "1. Approximate the product concentration, substrate concentration, and rate over 10 seconds.\n",
    "2. Plot all three properties over time on the same axes.\n",
    "\n",
    "### Some reminders\n",
    "\n",
    "The update equation you'll need to use is the following:\n",
    "$$\n",
    "S(t+dt) \\approx S(t) + \\delta t\\left.\\frac{dS}{dt}\\right|_t\n",
    "$$\n",
    "\n",
    "You've already defined the following:\n",
    "\n",
    "<b> Variables </b> - `dt` , `Km`, `Vmax`\n",
    "\n",
    "<b> Functions </b> - `mm_rate`\n",
    "\n",
    "<b> Lists </b> - `substrate_conc`, `product_conc`, `rate`"
   ]
  },
  {
   "cell_type": "markdown",
   "metadata": {},
   "source": [
    "### Hints\n",
    "\n",
    "* How can you use `np.arange` to generate your time points?\n",
    "\n",
    "* At each time step, you'll need to calculate the rate of the reaction. This should be easy because you've already done most of the work!\n",
    "\n",
    "* We previously iterated through an arbitrary list of substrate concentrations, which could have been thought of as the \"x-variable\". Here time is the \"x-variable\", and we've made lists to save all of the values for product and substrate concentration for each time point. But we want to use the substrate concentration at the immediately-previous timepoint to calculate values for the next one. How do we do this?\n",
    "\n",
    "* Once we've calculated the values for the next time point, how do we ensure that they are available for the next iteration of the loop?\n",
    "\n",
    "* The lists of substrate concentration and product concentration already have an initial value, while the list for rate does not. Be careful about writing your \"for\" loop such that all of the lists (including time on the x-axis) have the same dimensions. Otherwise plotting won't work!\n",
    "\n",
    "* You can draw multiple plots on the same axes simply by calling the axis object's `plot` function again."
   ]
  },
  {
   "cell_type": "markdown",
   "metadata": {},
   "source": [
    "Run the following import statements before you get started."
   ]
  },
  {
   "cell_type": "code",
   "execution_count": 6,
   "metadata": {
    "collapsed": true
   },
   "outputs": [],
   "source": [
    "import numpy as np\n",
    "import matplotlib.pyplot as plt\n",
    "%matplotlib notebook"
   ]
  },
  {
   "cell_type": "markdown",
   "metadata": {},
   "source": [
    "If your code doesn't work the first time, remember to reset the contents of the lists using the following lines of code. (Otherwise any values you generate will persist, and your timeseries data will quickly become nonsense)"
   ]
  },
  {
   "cell_type": "code",
   "execution_count": 58,
   "metadata": {
    "collapsed": true
   },
   "outputs": [],
   "source": [
    "substrate_conc = [10]\n",
    "product_conc = [0]\n",
    "rate = []"
   ]
  },
  {
   "cell_type": "markdown",
   "metadata": {},
   "source": [
    "### Your Code Here"
   ]
  },
  {
   "cell_type": "markdown",
   "metadata": {},
   "source": [
    "Write your code for the numerical estimation of Michaelis-Menten kinetics over time."
   ]
  },
  {
   "cell_type": "code",
   "execution_count": 8,
   "metadata": {
    "collapsed": true
   },
   "outputs": [],
   "source": [
    "### YOUR CODE HERE\n",
    "\n"
   ]
  },
  {
   "cell_type": "markdown",
   "metadata": {},
   "source": [
    "Now plot the results with `matplotlib`."
   ]
  },
  {
   "cell_type": "code",
   "execution_count": 9,
   "metadata": {
    "collapsed": true
   },
   "outputs": [],
   "source": [
    "### YOUR CODE HERE\n",
    "\n"
   ]
  }
 ],
 "metadata": {
  "celltoolbar": "Raw Cell Format",
  "kernelspec": {
   "display_name": "Python 3",
   "language": "python",
   "name": "python3"
  },
  "language_info": {
   "codemirror_mode": {
    "name": "ipython",
    "version": 3
   },
   "file_extension": ".py",
   "mimetype": "text/x-python",
   "name": "python",
   "nbconvert_exporter": "python",
   "pygments_lexer": "ipython3",
   "version": "3.5.4"
  }
 },
 "nbformat": 4,
 "nbformat_minor": 2
}

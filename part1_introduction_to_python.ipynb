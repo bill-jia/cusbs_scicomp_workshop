{
 "cells": [
  {
   "cell_type": "markdown",
   "metadata": {},
   "source": [
    "<i> Prepared by Bill Jia, Ilya Manyakin, and Andre Zylstra </i>"
   ]
  },
  {
   "cell_type": "code",
   "execution_count": 43,
   "metadata": {},
   "outputs": [
    {
     "name": "stdout",
     "output_type": "stream",
     "text": [
      "CUSBS Python Introduction!\n"
     ]
    }
   ],
   "source": [
    "print(\"CUSBS Python Introduction!\")"
   ]
  },
  {
   "cell_type": "markdown",
   "metadata": {
    "raw_mimetype": "text/markdown"
   },
   "source": [
    "## What we will cover\n",
    "* What is Python\n",
    "    * Versions\n",
    "    * Installation\n",
    "    * Jupyter Notebook\n",
    "* Problem Statement\n",
    "* Python Fundamentals\n",
    "    * Variables and datatypes\n",
    "    * Functions\n",
    "    * Lists\n",
    "    * If-else statements\n",
    "    * Loops\n",
    "* Libraries and Plotting\n",
    "    * Numpy\n",
    "    * Scipy\n",
    "    * Matplotlib\n",
    "* Putting things together\n",
    "        \n",
    "\n",
    "## What is Python\n",
    "\n",
    "* Interpreted, dynamically typed modern high-level language designed with readability and ease of use in mind. \n",
    "* Supports both procedural, functional and object-oriented\n",
    "* Can interface to other languages like C (see: \"ctypes\") if fast execution of code is required\n",
    "* Becoming common in scientific computing - many libraries are open source (*cough* matlab *cough*), easy to share code (github).\n",
    "\n",
    "### Versions\n",
    "\n",
    "Python has two versions that are similar but slightly different:\n",
    "* Python 2 - legacy version of python, primarily maintained for backwards compatibility (computer systems are brittle and tend to break when new updates are released)\n",
    "* Python 3 - newer version which this notebook is written in\n",
    "\n",
    "For anything we will be doing - it doesn't really matter which version you use, it's possible to rewrite in either case, but lets stick to 3. Run the below code to check which version of Python you're on."
   ]
  },
  {
   "cell_type": "code",
   "execution_count": 3,
   "metadata": {},
   "outputs": [
    {
     "name": "stdout",
     "output_type": "stream",
     "text": [
      "3.5.4 |Anaconda custom (64-bit)| (default, Oct 13 2017, 11:22:58) \n",
      "[GCC 7.2.0]\n"
     ]
    }
   ],
   "source": [
    "import sys\n",
    "print(sys.version)"
   ]
  },
  {
   "cell_type": "markdown",
   "metadata": {},
   "source": [
    "### Installation\n",
    "\n",
    "We recommend that you install a Linux distribution for programming because it makes it easiest to install and software on your machine. The easiest and most commonly used Linux is Ubuntu: https://www.ubuntu.com/.\n",
    "\n",
    "Python should come preinstalled on Ubuntu distribution. To check that you have python 3 installed \n",
    "\n",
    "```sh\n",
    "python3 --version\n",
    "```\n",
    "\n",
    "* dollar sign \\$ added just to indicate that this is a Linux command line  terminal\n",
    "* You may also like to configure the bash environment alias \"python\" to point to the python3 interpreter\n",
    "\n",
    "To simplify installing libraries (code others have written) for python install pythons package management tool: pip\n",
    "\n",
    "```sh\n",
    "sudo apt-get install python3-pip\n",
    "```\n",
    "\n",
    "To install a package like numpy (NumericPython) with pip:\n",
    "```sh\n",
    "sudo pip install numpy\n",
    "```\n",
    "\n",
    "Pip will then get to work and automatically install the packages that that are required for numpy and then numpy itself. Will will cover this later.\n",
    "\n",
    "[Alternatively]\n",
    "\n",
    "Install a distribution of Anaconda (https://anaconda.org/). This is a distribution of Python designed for scientific computing - it comes with a lot of packages like Numpy and Scipy preinstalled, and uses a different package manager called `conda` that is pretty similar to `pip`. However, `conda` is more thorough in making sure that all of your packages are compatible with each other (some packages depend on different versions of the other). It also includes a built-in environment manager, that lets you decide which packages are going to be accessible in a particular folder and even whether you use Python 2 or 3!"
   ]
  },
  {
   "cell_type": "markdown",
   "metadata": {},
   "source": [
    "### Jupyter Notebook\n",
    "\n",
    "Here we are working in Jupyter Notebook, a Python environment that's geared towards education and the natural sciences. It allows you to create boxes containing isolated segments of text (formatted using Markdown) or code, which can be compiled and ran individually. Any graphics that Python produces can be routed directly to the notebook, making it easy to both analyze and present your results.\n",
    "\n",
    "All you have to do to edit a box is click on it (your current box will be highlighted in green). To run the code inside a box, hit CTRL+ENTER, or hit SHIFT+ENTER if you would also like to move to the next box. (Note that these shortcuts are for Windows and Linux) To see a full list of keyboard commands, click the keyboard symbol at the right end of the floating toolbar."
   ]
  },
  {
   "cell_type": "markdown",
   "metadata": {},
   "source": [
    "## Problem Statement\n",
    "\n",
    "Most reactions in biological systems are catalyzed by enzymes. The rates at which these reactions proceed allow us to predict both dynamics and steady-state behaviour. Suppose an enzymatic reaction can be described by the following equation:"
   ]
  },
  {
   "cell_type": "markdown",
   "metadata": {},
   "source": [
    "$$\n",
    "S + E \\leftrightarrow SE \\to P\n",
    "$$"
   ]
  },
  {
   "cell_type": "markdown",
   "metadata": {},
   "source": [
    "Since the enzyme binds far more strongly to the substrate than the product, we can assume that the second step is a one-way reaction with a much higher rate than the first and that the rate of the process is just dependent on the substrate and enzyme concentrations. The equation of the reaction rate can then be described with just [S] and constants $V_{max}$ (the maximum speed at saturation of the enzyme, which is dependent on enzyme properties and concentration), and $K_{m}$ (a constant describing binding affinity). (Proof at https://depts.washington.edu/wmatkins/kinetics/michaelis-menten.html)"
   ]
  },
  {
   "cell_type": "markdown",
   "metadata": {},
   "source": [
    "$$\n",
    "\\frac{\\mathrm{d[P]}}{\\mathrm{d}t} = \\frac{V_{max}\\mathrm{[S]}}{K_m + \\mathrm{[S]}}\n",
    "$$"
   ]
  },
  {
   "cell_type": "markdown",
   "metadata": {},
   "source": [
    "We're interested in figuring out how the product and substrate concentrations change over time, and whether they might reach a steady state. However, in this case and many others in biology, it's a lot easier to express the rates of change than it is to solve for the actual quantities that we're interested in. We can't integrate the Michaelis-Menten equation with methods you might have learned at A-Level because the <b>substrate concentration</b> is also a function of the same rate over time, and standard methods for solving differential equations would get messy quickly. We need a better solution, but it doesn't have to be <i>perfectly</i> accurate, especially given how noisy biology can be."
   ]
  },
  {
   "cell_type": "markdown",
   "metadata": {},
   "source": [
    "We can take a numerical approach to estimating the product and substrate concentration. Since we know the rate given a concentration, we can estimate the concentration at the next time step using the known rate at the current time step. From the definition of a derivative,"
   ]
  },
  {
   "cell_type": "markdown",
   "metadata": {},
   "source": [
    "$$\n",
    "\\frac{dP}{dt} = \\lim_{\\delta t\\to0} \\frac{P(t+\\delta t) - P(t)}{\\delta t} \\\\\n",
    "\\frac{dP}{dt} \\delta t \\approx P(t+\\delta t) - P(t)\\\\\n",
    "P(t+dt) \\approx P(t) + \\delta t\\left.\\frac{dP}{dt}\\right|_t\n",
    "$$"
   ]
  },
  {
   "cell_type": "markdown",
   "metadata": {},
   "source": [
    "So if we know the rate of change of a quantity, we can approximate its progression over time. The smaller the timestep $\\delta t$, the closer it will be to the real solution in continuous time. This would be a lot of work to calculate by hand, which is why we use computers to do it."
   ]
  },
  {
   "cell_type": "markdown",
   "metadata": {},
   "source": [
    "How can we model the substrate and product concentrations of the Michaelis-Menten equation using Python?"
   ]
  },
  {
   "cell_type": "markdown",
   "metadata": {},
   "source": [
    "\n",
    "\n",
    "## Python Fundamentals\n",
    "\n",
    "### Variables and datatypes\n",
    "\n",
    "\n",
    "Python is dynamically typed, meaning that there are no explicit typing constraints on the language. But if you try to add a boolean (True/False) to a String - expect it to fail!"
   ]
  },
  {
   "cell_type": "code",
   "execution_count": 4,
   "metadata": {},
   "outputs": [
    {
     "ename": "TypeError",
     "evalue": "unsupported operand type(s) for +: 'bool' and 'str'",
     "output_type": "error",
     "traceback": [
      "\u001b[0;31m---------------------------------------------------------------------------\u001b[0m",
      "\u001b[0;31mTypeError\u001b[0m                                 Traceback (most recent call last)",
      "\u001b[0;32m<ipython-input-4-11d910a36373>\u001b[0m in \u001b[0;36m<module>\u001b[0;34m()\u001b[0m\n\u001b[0;32m----> 1\u001b[0;31m \u001b[0;32mFalse\u001b[0m \u001b[0;34m+\u001b[0m \u001b[0;34m\"hello\"\u001b[0m\u001b[0;34m\u001b[0m\u001b[0m\n\u001b[0m",
      "\u001b[0;31mTypeError\u001b[0m: unsupported operand type(s) for +: 'bool' and 'str'"
     ]
    }
   ],
   "source": [
    "False + \"hello\""
   ]
  },
  {
   "cell_type": "markdown",
   "metadata": {},
   "source": [
    "#### Numbers \n",
    "Python 3 is clever about the way it handles division, unlike Python 2 the forward slash operator now produces floating point outputs, integer division now specified by '//' operator:"
   ]
  },
  {
   "cell_type": "code",
   "execution_count": 21,
   "metadata": {},
   "outputs": [
    {
     "name": "stdout",
     "output_type": "stream",
     "text": [
      "1.3333333333333333\n",
      "1\n"
     ]
    }
   ],
   "source": [
    "print(4/3)\n",
    "print(4//3)"
   ]
  },
  {
   "cell_type": "markdown",
   "metadata": {},
   "source": [
    "The devil is in the details - remember that a real number in the mathematic sense is not the same as a floating point number as the latter only have a finite number of bits that are used to represent it:"
   ]
  },
  {
   "cell_type": "code",
   "execution_count": 22,
   "metadata": {},
   "outputs": [
    {
     "data": {
      "text/plain": [
       "0.30000000000000004"
      ]
     },
     "execution_count": 22,
     "metadata": {},
     "output_type": "execute_result"
    }
   ],
   "source": [
    "0.1+0.1+0.1"
   ]
  },
  {
   "cell_type": "markdown",
   "metadata": {},
   "source": [
    "In particular this applies to performing comparisons between numbers:"
   ]
  },
  {
   "cell_type": "code",
   "execution_count": 23,
   "metadata": {},
   "outputs": [
    {
     "data": {
      "text/plain": [
       "False"
      ]
     },
     "execution_count": 23,
     "metadata": {},
     "output_type": "execute_result"
    }
   ],
   "source": [
    "0.3==(0.1+0.1+0.1)"
   ]
  },
  {
   "cell_type": "markdown",
   "metadata": {},
   "source": [
    "Instead use a tolerance level (ie. a small numerical value)"
   ]
  },
  {
   "cell_type": "code",
   "execution_count": 24,
   "metadata": {},
   "outputs": [
    {
     "data": {
      "text/plain": [
       "True"
      ]
     },
     "execution_count": 24,
     "metadata": {},
     "output_type": "execute_result"
    }
   ],
   "source": [
    "0.3-(0.1+0.1+0.1)<1e-12"
   ]
  },
  {
   "cell_type": "markdown",
   "metadata": {},
   "source": [
    "#### Variables\n",
    "\n",
    "To be able to manipulate data in a symbolic way - we need to create variables. To do this, we use the asignment operator '=' (not to be confused with the mathematical meaning of equality, which in python is '=='). Basic asignment of variables is:"
   ]
  },
  {
   "cell_type": "code",
   "execution_count": 5,
   "metadata": {},
   "outputs": [
    {
     "name": "stdout",
     "output_type": "stream",
     "text": [
      "4\n",
      "<class 'int'>\n",
      "<class 'float'>\n",
      "1 1\n"
     ]
    }
   ],
   "source": [
    "x=3 #create an integer\n",
    "print(x+1) \n",
    "print(type(x)) #what is it's type?\n",
    "\n",
    "x=3.0\n",
    "print(type(x)) #what's it's type now?\n",
    "\n",
    "x=y=1\n",
    "print(y,x)"
   ]
  },
  {
   "cell_type": "markdown",
   "metadata": {},
   "source": [
    "#### Exercise"
   ]
  },
  {
   "cell_type": "markdown",
   "metadata": {},
   "source": [
    "Let's define variables to store some of the properties that we need to model the Michaelis-Menten equation. We need:\n",
    "* `dt` that defines the size of the timestep in our numerical estimation. Let's set it to 0.01.\n",
    "* `Km` that defines the Michaelis-Menten constant. Let's set it to 5.\n",
    "* `Vmax` that defines the maximum reaction rate. Let's set it to 5.\n",
    "\n",
    "As a reminder, the relevant equations are:\n",
    "\n",
    "$$\n",
    "\\frac{\\mathrm{d[P]}}{\\mathrm{d}t} = \\frac{V_{max}\\mathrm{[S]}}{K_m + \\mathrm{[S]}} \\\\\n",
    "P(t+dt) \\approx P(t) + \\delta t\\left.\\frac{dP}{dt}\\right|_t\n",
    "$$"
   ]
  },
  {
   "cell_type": "code",
   "execution_count": 8,
   "metadata": {},
   "outputs": [
    {
     "name": "stdout",
     "output_type": "stream",
     "text": [
      "1\n"
     ]
    }
   ],
   "source": [
    "### YOUR CODE HERE\n",
    "\n"
   ]
  },
  {
   "cell_type": "markdown",
   "metadata": {},
   "source": [
    "Don't worry about the defining the actual product and substrate concentrations yet. There's a better way of dealing with them."
   ]
  },
  {
   "cell_type": "markdown",
   "metadata": {},
   "source": [
    "### Functions\n",
    "\n",
    "Functions are the bread and butter of programming - allows us to write isolated units of code and reuse them. Python does not require us to specify function input and output types - so it's up to you what you return, but don't get caught out, the compiler won't be able to save you. A Python function requires\n",
    " * A `def` statement indicating that the following lines are a function;\n",
    " * The name of the function that will be referenced when you want to use it;\n",
    " * The parameters taken as inputs (optional);\n",
    " * A return statement (also optional).\n",
    " \n",
    "For example, a function to add two numbers `x` and `y` might look like this:"
   ]
  },
  {
   "cell_type": "code",
   "execution_count": 6,
   "metadata": {},
   "outputs": [],
   "source": [
    "def f(x,y):\n",
    "    return x+y"
   ]
  },
  {
   "cell_type": "markdown",
   "metadata": {},
   "source": [
    "Let's try calling this function:"
   ]
  },
  {
   "cell_type": "code",
   "execution_count": 7,
   "metadata": {},
   "outputs": [
    {
     "name": "stdout",
     "output_type": "stream",
     "text": [
      "3\n",
      "3.5\n"
     ]
    }
   ],
   "source": [
    "print(f(1,2))\n",
    "print(f(1.5, 2))"
   ]
  },
  {
   "cell_type": "markdown",
   "metadata": {},
   "source": [
    "Recall that Python is dynamically typed, meaning that we can use this function to add strings, and other data types as well. But be careful about matching data types!"
   ]
  },
  {
   "cell_type": "code",
   "execution_count": 29,
   "metadata": {},
   "outputs": [
    {
     "name": "stdout",
     "output_type": "stream",
     "text": [
      "Hello World!\n"
     ]
    }
   ],
   "source": [
    "print(f(\"Hello \", \"World!\"))"
   ]
  },
  {
   "cell_type": "markdown",
   "metadata": {},
   "source": [
    "You can also set a default value for parameters:"
   ]
  },
  {
   "cell_type": "code",
   "execution_count": 30,
   "metadata": {},
   "outputs": [
    {
     "name": "stdout",
     "output_type": "stream",
     "text": [
      "3.0\n"
     ]
    }
   ],
   "source": [
    "def f2(x,y=2.0):\n",
    "    return x+y\n",
    "\n",
    "print(f2(1))"
   ]
  },
  {
   "cell_type": "markdown",
   "metadata": {},
   "source": [
    "#### Exercise"
   ]
  },
  {
   "cell_type": "markdown",
   "metadata": {},
   "source": [
    "In order to perform numerical estimation, let's write a function that can calculate the term,\n",
    "\n",
    "$$\n",
    "\\frac{dP}{dt}\n",
    "$$\n",
    "\n",
    "If we know the parameters and the concentration of substrate at a given point in time, we can do it directly using the Michaelis-Menten equation. Let's write a function called __mm_rate__ that gives the reaction rate as an output, with substrate concentration, $K_m$, and $V_{max}$ as inputs. As a reminder,\n",
    "\n",
    "$$\n",
    "\\frac{\\mathrm{d[P]}}{\\mathrm{d}t} = \\frac{V_{max}\\mathrm{[S]}}{K_m + \\mathrm{[S]}}\n",
    "$$"
   ]
  },
  {
   "cell_type": "code",
   "execution_count": 3,
   "metadata": {
    "collapsed": true
   },
   "outputs": [],
   "source": [
    "### YOUR CODE HERE\n",
    "\n",
    "\n"
   ]
  },
  {
   "cell_type": "markdown",
   "metadata": {},
   "source": [
    "### Lists\n",
    "\n",
    "Lists are very fundamental data structures in Python. They act as ordered collections of items, in Python they do not have to have the same type - that is, you can have a single list containing strings, floating point numbers, functions, lists and other more complex data structures."
   ]
  },
  {
   "cell_type": "code",
   "execution_count": 9,
   "metadata": {},
   "outputs": [
    {
     "name": "stdout",
     "output_type": "stream",
     "text": [
      "[1, 2, 3, 4]\n",
      "[0, 1, 2, 3, 4, 5, 6, 7, 8, 9]\n",
      "0\n",
      "new_value\n",
      "[0, 'new_value', 2, 3, 4, 5, 6, 7, 8, 9]\n",
      "[]\n"
     ]
    }
   ],
   "source": [
    "#manually\n",
    "x = [1,2,3,4]\n",
    "print(x)\n",
    "\n",
    "#using range function\n",
    "# range(start,end,step)\n",
    "x = list(range(0,10))  \n",
    "print(x)\n",
    "\n",
    "#get the value at the start of the list:\n",
    "print(x[0])\n",
    "\n",
    "#assign to an element of list\n",
    "x[1]=\"new_value\"\n",
    "\n",
    "# get the value at an index\n",
    "print(x[1])\n",
    "\n",
    "print(x)\n",
    "\n",
    "# Create an empty list\n",
    "x = []\n",
    "print(x)"
   ]
  },
  {
   "cell_type": "markdown",
   "metadata": {},
   "source": [
    "Unlike in many other languages, you can <b>directly access the last element of a list</b> without knowing its length. In applications such as ours, where we need to frequently do this, it makes our code a lot easier to write!"
   ]
  },
  {
   "cell_type": "code",
   "execution_count": 33,
   "metadata": {},
   "outputs": [
    {
     "name": "stdout",
     "output_type": "stream",
     "text": [
      "9\n",
      "7\n",
      "7\n"
     ]
    }
   ],
   "source": [
    "print(x[-1])\n",
    "\n",
    "# The index -1 of a list with length zero is the same as index 0\n",
    "y = [7]\n",
    "print(y[0])\n",
    "print(y[-1])"
   ]
  },
  {
   "cell_type": "markdown",
   "metadata": {},
   "source": [
    "Lists can be defined in relation to other lists by specifying how elements of one may be obtained from the other. This is known as <b>list comprehension</b>):"
   ]
  },
  {
   "cell_type": "code",
   "execution_count": 1,
   "metadata": {},
   "outputs": [
    {
     "name": "stdout",
     "output_type": "stream",
     "text": [
      "[0, 1, 2, 3, 4, 5, 6, 7, 8, 9]\n",
      "[0, 1, 4, 9, 16, 25, 36, 49, 64, 81]\n",
      "[0, 4, 16, 36, 64]\n",
      "[1, 2, 3, 4, 5, 6, 7, 8, 9, 10]\n"
     ]
    }
   ],
   "source": [
    "#define basic list as some range of intger values\n",
    "xs = [i for i in range(0,10)]\n",
    "print(xs)\n",
    "\n",
    "#can generate one list from another by defining how elements in ys are related to elements in xs\n",
    "ys = [x**2 for x in xs]\n",
    "print(ys)\n",
    "\n",
    "#can filter elements of one list to create another - this is every similar to set definitions\n",
    "even_ys = [y for y in ys if y%2==0]\n",
    "print(even_ys)\n",
    "\n",
    "#can apply functions to all elements of a list\n",
    "def add_one(val):\n",
    "    return val+1\n",
    "\n",
    "zs = [add_one(x) for x in xs]\n",
    "print(zs)"
   ]
  },
  {
   "cell_type": "markdown",
   "metadata": {},
   "source": [
    "Unlike arrays in some other programming languages, lists can be resized. You can add an element to the end of a list in several ways:"
   ]
  },
  {
   "cell_type": "code",
   "execution_count": 2,
   "metadata": {},
   "outputs": [
    {
     "name": "stdout",
     "output_type": "stream",
     "text": [
      "[0, 1, 2, 3, 4]\n",
      "[0, 1, 2, 3, 4, 5]\n",
      "[0, 1, 2, 3, 4]\n",
      "[0, 1, 2, 3, 4, 5]\n"
     ]
    }
   ],
   "source": [
    "x1s = [i for i in range(0,5)]\n",
    "x2 = 5\n",
    "print(x1s)\n",
    "\n",
    "#add using operator overloading\n",
    "print(x1s + [x2])\n",
    "print(x1s)\n",
    "\n",
    "#add using member function of list object\n",
    "x1s.append(x2)\n",
    "print(x1s)"
   ]
  },
  {
   "cell_type": "markdown",
   "metadata": {},
   "source": [
    "Note that adding two lists together creates a new variable in memory, while using the `append` function of a list modifies the existing variable. This is important for two reasons:\n",
    "\n",
    "1. If you want to keep your old list, the first method is useful.\n",
    "2. You can't modify your list in a function using the first method.\n",
    "\n",
    "Let's demonstrate the second point:"
   ]
  },
  {
   "cell_type": "code",
   "execution_count": 11,
   "metadata": {},
   "outputs": [
    {
     "name": "stdout",
     "output_type": "stream",
     "text": [
      "[0, 1, 2, 3, 4]\n",
      "[0, 1, 2, 3, 4, 5]\n",
      "[0, 1, 2, 3, 4, 5]\n"
     ]
    }
   ],
   "source": [
    "x1s = [i for i in range(0,5)]\n",
    "\n",
    "def f1(list_input):\n",
    "    list_input = list_input + [5]\n",
    "    return list_input\n",
    "\n",
    "def f2(list_input):\n",
    "    list_input.append(5)\n",
    "    \n",
    "f1(x1s)\n",
    "print(x1s)\n",
    "print(f1(x1s))\n",
    "f2(x1s)\n",
    "print(x1s)"
   ]
  },
  {
   "cell_type": "markdown",
   "metadata": {},
   "source": [
    "In the first function, we've assigned our input list to the internal variable `list_input`, which only exists inside the function. But the body of the function simply reassigns the <b>local variable</b> specified by the input to the new list created by the addition of the input and the additional value. When the function finishes executing, the reference to `list_input` disappears. Since our new construct is not referenced anywhere else, it is erased from memory to save space. Note that `x1s` still exists because it has a reference outside the function.\n",
    "\n",
    "In the second function, we've instructed the object referenced by `list_input`, in this case our list of numbers, to do something to itself. Although the reference to `list_input` disappears, the object is still there because it was defined outside the function and still has a reference, and the additional value is successfully appended.\n",
    "\n",
    "To understand the idea of a local variable within a function, observe what happens when we try to print `list_input` after executing the two functions. It gives an error saying that 'list_input' is not defined! This means exactly what it says - the variable was only defined inside the functions, so it does not exist to anything outside the `def` statements. Note that defining the inputs of a function simply creates local variables that are assigned to values given when the function is called."
   ]
  },
  {
   "cell_type": "markdown",
   "metadata": {},
   "source": [
    "#### Exercise"
   ]
  },
  {
   "cell_type": "markdown",
   "metadata": {},
   "source": [
    "Lists will be useful for us to store the rate of the reaction, and the concentrations of product and substrate, at each time point. They provide a <b>systematic way</b> of keeping all these values <b>in one place</b> so we can plot or analyze them later, and allow us to run our program for arbitrary time lengths <b>without defining new variables</b>. Let's define some lists:\n",
    "\n",
    "* `substrate`, for the substrate concentration, with a value at time 0 of 10.\n",
    "* `product`, for the product concentration, with a value at time 0 of 0.\n",
    "* `rate`, for the Michaelis Menten rate. Leave this list empty, as we need to calculate the rate using the substrate concentration."
   ]
  },
  {
   "cell_type": "code",
   "execution_count": 4,
   "metadata": {
    "collapsed": true
   },
   "outputs": [],
   "source": [
    "### YOUR CODE HERE\n",
    "\n",
    "\n"
   ]
  },
  {
   "cell_type": "markdown",
   "metadata": {},
   "source": [
    "### If-else statements"
   ]
  },
  {
   "cell_type": "markdown",
   "metadata": {},
   "source": [
    "Although they won't be necessary in this workshop, if-else statements are a useful part of any programming language for creating more complex behaviour. In computational biology, you will typically use them for <b>classification</b> of data or for producing behaviour in <b>edge cases</b>."
   ]
  },
  {
   "cell_type": "code",
   "execution_count": 38,
   "metadata": {},
   "outputs": [
    {
     "name": "stdout",
     "output_type": "stream",
     "text": [
      "0 IS EVEN\n",
      "1 IS ODD\n",
      "2 IS EVEN\n",
      "3 IS DIVISIBLE BY 3\n",
      "4 IS EVEN\n"
     ]
    }
   ],
   "source": [
    "for i in range(0,5):\n",
    "    if i%2 == 0:\n",
    "        print(i, \"IS EVEN\")\n",
    "    elif i%3 == 0:\n",
    "        print(i, \"IS DIVISIBLE BY 3\")\n",
    "    else:\n",
    "        print(i, \"IS ODD\")"
   ]
  },
  {
   "cell_type": "markdown",
   "metadata": {},
   "source": [
    "### Loops\n",
    "\n",
    "One of the most powerful applications of computing is the ability to perform simple actions <b>repeatedly</b> to get a more complicated result. The simplest way to achieve this is with loops. The two most common types of loops are:\n",
    "\n",
    "* `for` - This type of loop lets you iterate through the items in a list or, in general, repeat execution a defined number of times.\n",
    "* `while` - This type of loop repeats an action until a condition is met.\n",
    "\n",
    "Here's how you would add together the numbers from one to ten using each type of loop:"
   ]
  },
  {
   "cell_type": "code",
   "execution_count": 39,
   "metadata": {},
   "outputs": [
    {
     "name": "stdout",
     "output_type": "stream",
     "text": [
      "55\n",
      "55\n"
     ]
    }
   ],
   "source": [
    "result = 0\n",
    "for i in range(1,11):\n",
    "    result = result + i\n",
    "print(result)\n",
    "\n",
    "result = 0\n",
    "i = 1\n",
    "while (i <= 10):\n",
    "    result = result + i\n",
    "    i = i + 1\n",
    "print(result)"
   ]
  },
  {
   "cell_type": "markdown",
   "metadata": {},
   "source": [
    "#### Exercise"
   ]
  },
  {
   "cell_type": "markdown",
   "metadata": {},
   "source": [
    "Now let's generate some values of reaction rate over possible substrate concentrations for our Michaelis-Menten equation. Calculate the reaction rates for the list of substrate concentrations provided, `substrate_concentrations` using a <b>for loop</b>, and store them in the list `rate_substrate`.\n",
    "\n",
    "Hints\n",
    "* Iterate through the list of substrate concentrations provided.\n",
    "* You've already defined a function for calculating reaction rates, called `mm_rate`. Use the constants that you've already saved in your variables.\n",
    "* You know how to add values to the end of a list - either way will work here."
   ]
  },
  {
   "cell_type": "code",
   "execution_count": 5,
   "metadata": {
    "collapsed": true
   },
   "outputs": [],
   "source": [
    "substrate_concentrations = range(0,11)\n",
    "### YOUR CODE HERE\n",
    "\n",
    "\n",
    "\n"
   ]
  },
  {
   "cell_type": "markdown",
   "metadata": {},
   "source": [
    "## Libraries\n",
    "\n",
    "A library is a collection of code that someone else has written that you can use. The open-source nature of Python is a great advantage as for most modules, you can get a copy of the source code and see for yourself what it is doing. This is particularly useful for verifying simulations where even small changes in various parameters and coefficients can be the dividing line between success and failure.\n"
   ]
  },
  {
   "cell_type": "markdown",
   "metadata": {},
   "source": [
    "### Numpy\n",
    "\n",
    "Numpy contains utilities for mathematical operations, such as trigonometry, linear algebra, generation of random numbers. Of particular note is its N-dimensional array object, which is efficient for storage and manipulation."
   ]
  },
  {
   "cell_type": "code",
   "execution_count": 41,
   "metadata": {},
   "outputs": [
    {
     "name": "stdout",
     "output_type": "stream",
     "text": [
      "[[1 2 3]\n",
      " [4 5 6]]\n"
     ]
    }
   ],
   "source": [
    "import numpy as np \n",
    "x = np.array([[1, 2, 3], [4, 5, 6]], np.int32)\n",
    "print(x)"
   ]
  },
  {
   "cell_type": "markdown",
   "metadata": {},
   "source": [
    "Another useful Numpy function is `np.arange`, which is like Python's `range` function, but lets you specify increment size."
   ]
  },
  {
   "cell_type": "code",
   "execution_count": 42,
   "metadata": {},
   "outputs": [
    {
     "name": "stdout",
     "output_type": "stream",
     "text": [
      "[ 0.   0.5  1.   1.5  2.   2.5  3.   3.5  4.   4.5]\n"
     ]
    }
   ],
   "source": [
    "half_step = np.arange(0,5, step = 0.5)\n",
    "print(half_step)"
   ]
  },
  {
   "cell_type": "markdown",
   "metadata": {},
   "source": [
    "## Scipy\n",
    "Scipy is a package that duplicates some of the features of Numpy and has some additional functionality. For example, it includes functions for curve-fitting, optimization, and signal processing. One tool that might be particularly useful for us is integration. Use the quad function for general integration. The two outputs are the value and the error bounds."
   ]
  },
  {
   "cell_type": "code",
   "execution_count": 43,
   "metadata": {},
   "outputs": [
    {
     "name": "stdout",
     "output_type": "stream",
     "text": [
      "(30.375, 3.372302437298913e-13)\n"
     ]
    }
   ],
   "source": [
    "import scipy.integrate as integrate\n",
    "result = integrate.quad(lambda x: x**2, 0, 4.5)\n",
    "print(result)"
   ]
  },
  {
   "cell_type": "markdown",
   "metadata": {},
   "source": [
    "## Matplotlib\n",
    "This library generates figures for you. Matplotlib lets you produce almost every type of graph and chart that exists with a little bit of work. You can use `pyplot` as a sort of black box that plots things for you, but far more powerful is the object-oriented approach. This allows you to have direct access to each axis and everything you draw on it, giving you more control for complex plots. We will use the object-oriented approach."
   ]
  },
  {
   "cell_type": "markdown",
   "metadata": {},
   "source": [
    "Here we will look at how basic plotting works. First, we import the library. The second line tells Matplotlib to draw its figures within the Jupyter notebook (a fairly unique Python environment, so it needs specific instructions!)."
   ]
  },
  {
   "cell_type": "code",
   "execution_count": 12,
   "metadata": {},
   "outputs": [
    {
     "name": "stderr",
     "output_type": "stream",
     "text": [
      "/home/nbuser/anaconda3_420/lib/python3.5/site-packages/matplotlib/font_manager.py:281: UserWarning: Matplotlib is building the font cache using fc-list. This may take a moment.\n",
      "  'Matplotlib is building the font cache using fc-list. '\n"
     ]
    }
   ],
   "source": [
    "import matplotlib.pyplot as plt\n",
    "%matplotlib notebook"
   ]
  },
  {
   "cell_type": "markdown",
   "metadata": {},
   "source": [
    "Next, we initialise the figure, and add a set of axes to it."
   ]
  },
  {
   "cell_type": "code",
   "execution_count": 13,
   "metadata": {},
   "outputs": [
    {
     "data": {
      "image/png": "[encoded data removed]",
      "text/plain": [
       "<matplotlib.figure.Figure at 0x7fae12479a90>"
      ]
     },
     "metadata": {},
     "output_type": "display_data"
    }
   ],
   "source": [
    "fig = plt.figure()\n",
    "ax1 = fig.add_subplot(1,1,1)"
   ]
  },
  {
   "cell_type": "markdown",
   "metadata": {},
   "source": [
    "All we have to do now is plot the two variables `substrate_concentrations` and `rate_substrate` against each other. We should also label the axes."
   ]
  },
  {
   "cell_type": "code",
   "execution_count": 46,
   "metadata": {},
   "outputs": [
    {
     "data": {
      "text/plain": [
       "<matplotlib.text.Text at 0x28f29ec4080>"
      ]
     },
     "execution_count": 46,
     "metadata": {},
     "output_type": "execute_result"
    }
   ],
   "source": [
    "\n",
    "ax1.plot(substrate_concentrations, rate_substrate)\n",
    "ax1.set_xlabel(\"[S]\")\n",
    "ax1.set_ylabel(\"V\")"
   ]
  },
  {
   "cell_type": "markdown",
   "metadata": {},
   "source": [
    "If you've done all of the exercises correctly, the plot should look something like this.\n",
    "\n",
    "<img src=https://i.gyazo.com/e7eb906ae697e9ce4e2f42d6ffee5f50.png/>"
   ]
  },
  {
   "cell_type": "markdown",
   "metadata": {},
   "source": [
    "## Putting things together"
   ]
  },
  {
   "cell_type": "markdown",
   "metadata": {},
   "source": [
    "Now we can get to our complete product. You need to do two things here:\n",
    "\n",
    "1. Approximate the product concentration, substrate concentration, and rate over 10 seconds.\n",
    "2. Plot all three properties over time on the same axes.\n",
    "\n",
    "### Some reminders\n",
    "\n",
    "The update equation you'll need to use is the following:\n",
    "$$\n",
    "S(t+dt) \\approx S(t) + \\delta t\\left.\\frac{dS}{dt}\\right|_t\n",
    "$$\n",
    "\n",
    "(From the chemical equation presented, what is the update equation for the product concentration?)\n",
    "\n",
    "You've already defined the following:\n",
    "\n",
    "<b> Variables </b> - `dt` , `Km`, `Vmax`\n",
    "\n",
    "<b> Functions </b> - `mm_rate`\n",
    "\n",
    "<b> Lists </b> - `substrate_conc`, `product_conc`, `rate`"
   ]
  },
  {
   "cell_type": "markdown",
   "metadata": {},
   "source": [
    "### Hints\n",
    "\n",
    "* How can you use `np.arange` to generate your time points?\n",
    "\n",
    "* At each time step, you'll need to calculate the rate of the reaction. This should be easy because you've already done most of the work!\n",
    "\n",
    "* We previously iterated through an arbitrary list of substrate concentrations, which could have been thought of as the \"x-variable\". Here time is the \"x-variable\", and we've made lists to save all of the values for product and substrate concentration for each time point. But we want to use the substrate concentration at the immediately-previous timepoint to calculate values for the next one. How do we do this?\n",
    "\n",
    "* Once we've calculated the values for the next time point, how do we ensure that they are available for the next iteration of the loop?\n",
    "\n",
    "* The lists of substrate concentration and product concentration already have an initial value, while the list for rate does not. Be careful about writing your \"for\" loop such that all of the lists (including time on the x-axis) have the same dimensions. Otherwise plotting won't work!\n",
    "\n",
    "* You can draw multiple plots on the same axes simply by calling the axis object's `plot` function again."
   ]
  },
  {
   "cell_type": "markdown",
   "metadata": {},
   "source": [
    "Run the following import statements before you get started."
   ]
  },
  {
   "cell_type": "code",
   "execution_count": 6,
   "metadata": {
    "collapsed": true
   },
   "outputs": [],
   "source": [
    "import numpy as np\n",
    "import matplotlib.pyplot as plt\n",
    "%matplotlib notebook"
   ]
  },
  {
   "cell_type": "markdown",
   "metadata": {},
   "source": [
    "If your code doesn't work the first time, remember to reset the contents of the lists using the following lines of code. (Otherwise any values you generate will persist, and your timeseries data will quickly become nonsense)"
   ]
  },
  {
   "cell_type": "code",
   "execution_count": 58,
   "metadata": {
    "collapsed": true
   },
   "outputs": [],
   "source": [
    "substrate_conc = [10]\n",
    "product_conc = [0]\n",
    "rate = []"
   ]
  },
  {
   "cell_type": "markdown",
   "metadata": {},
   "source": [
    "### Your Code Here"
   ]
  },
  {
   "cell_type": "markdown",
   "metadata": {},
   "source": [
    "Write your code for the numerical estimation of Michaelis-Menten kinetics over time."
   ]
  },
  {
   "cell_type": "code",
   "execution_count": 8,
   "metadata": {
    "collapsed": true
   },
   "outputs": [],
   "source": [
    "### YOUR CODE HERE\n",
    "\n"
   ]
  },
  {
   "cell_type": "markdown",
   "metadata": {},
   "source": [
    "Now plot the results with `matplotlib`."
   ]
  },
  {
   "cell_type": "code",
   "execution_count": 9,
   "metadata": {
    "collapsed": true
   },
   "outputs": [],
   "source": [
    "### YOUR CODE HERE\n",
    "\n"
   ]
  }
 ],
 "metadata": {
  "celltoolbar": "Raw Cell Format",
  "kernelspec": {
   "display_name": "Python 3",
   "language": "python",
   "name": "python3"
  },
  "language_info": {
   "codemirror_mode": {
    "name": "ipython",
    "version": 3
   },
   "file_extension": ".py",
   "mimetype": "text/x-python",
   "name": "python",
   "nbconvert_exporter": "python",
   "pygments_lexer": "ipython3",
   "version": "3.5.4"
  }
 },
 "nbformat": 4,
 "nbformat_minor": 2
}
